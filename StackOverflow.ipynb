{
  "nbformat": 4,
  "nbformat_minor": 0,
  "metadata": {
    "colab": {
      "name": "StackOverflow.ipynb",
      "version": "0.3.2",
      "provenance": [],
      "collapsed_sections": [],
      "include_colab_link": true
    },
    "kernelspec": {
      "name": "python3",
      "display_name": "Python 3"
    },
    "accelerator": "TPU"
  },
  "cells": [
    {
      "cell_type": "markdown",
      "metadata": {
        "id": "view-in-github",
        "colab_type": "text"
      },
      "source": [
        "<a href=\"https://colab.research.google.com/github/mitesh98/StackOverflow-Tag-Prediction/blob/master/StackOverflow.ipynb\" target=\"_parent\"><img src=\"https://colab.research.google.com/assets/colab-badge.svg\" alt=\"Open In Colab\"/></a>"
      ]
    },
    {
      "metadata": {
        "id": "CtqbDyA9v8fh",
        "colab_type": "text"
      },
      "cell_type": "markdown",
      "source": [
        "# StackOverflow : Tag Prediction"
      ]
    },
    {
      "metadata": {
        "id": "o41vLlFiwGHd",
        "colab_type": "text"
      },
      "cell_type": "markdown",
      "source": [
        "# 1. Buisness Problem"
      ]
    },
    {
      "metadata": {
        "id": "OpvkJddkwMhS",
        "colab_type": "text"
      },
      "cell_type": "markdown",
      "source": [
        "# 1.1 Description"
      ]
    },
    {
      "metadata": {
        "id": "GtR2Tpd1wRkF",
        "colab_type": "text"
      },
      "cell_type": "markdown",
      "source": [
        "**Description**\n",
        "\n",
        "Stack Overflow is the largest, most trusted online community for developers to learn, share their programming knowledge, and build their careers.\n",
        "\n",
        "Stack Overflow is something which every programmer use one way or another. Each month, over 50 million developers come to Stack Overflow to learn, share their knowledge, and build their careers. It features questions and answers on a wide range of topics in computer programming. The website serves as a platform for users to ask and answer questions, and, through membership and active participation, to vote questions and answers up or down and edit questions and answers in a fashion similar to a wiki or Digg. As of April 2014 Stack Overflow has over 4,000,000 registered users, and it exceeded 10,000,000 questions in late August 2015. Based on the type of tags assigned to questions, the top eight most discussed topics on the site are: Java, JavaScript, C#, PHP, Android, jQuery, Python and HTML.\n",
        "\n",
        "**Problem Statemtent**\n",
        "\n",
        "Suggest the tags based on the content that was there in the question posted on Stackoverflow.\n",
        "\n",
        "**Source:** https://www.kaggle.com/c/facebook-recruiting-iii-keyword-extraction/"
      ]
    },
    {
      "metadata": {
        "id": "18PgTxOQwXta",
        "colab_type": "text"
      },
      "cell_type": "markdown",
      "source": [
        "# 1.2 Source / useful links\n",
        "Data Source : https://www.kaggle.com/c/facebook-recruiting-iii-keyword-extraction/data \n",
        "\n",
        "Youtube : https://youtu.be/nNDqbUhtIRg \n",
        "\n",
        "Research paper : https://www.microsoft.com/en-us/research/wp-content/uploads/2016/02/tagging-1.pdf \n",
        "\n",
        "Research paper : https://dl.acm.org/citation.cfm?id=2660970&dl=ACM&coll=DL"
      ]
    },
    {
      "metadata": {
        "id": "pL3puR17xAC_",
        "colab_type": "text"
      },
      "cell_type": "markdown",
      "source": [
        "# 1.3 Real World / Business Objectives and Constraints\n",
        "\n",
        "\n",
        "\n",
        "\n"
      ]
    },
    {
      "metadata": {
        "id": "7qg7lmU0xoXx",
        "colab_type": "text"
      },
      "cell_type": "markdown",
      "source": [
        "1. Predict as many tags as possible with high precision and recall.\n",
        "\n",
        "2. Incorrect tags could impact customer experience on StackOverflow.\n",
        "\n",
        "3. No strict latency constraints."
      ]
    },
    {
      "metadata": {
        "id": "LIbJHpuux1_O",
        "colab_type": "text"
      },
      "cell_type": "markdown",
      "source": [
        "# 2. Machine Learning problem\n",
        "\n",
        "# 2.1 Data\n",
        "**2.1.1 Data Overview**"
      ]
    },
    {
      "metadata": {
        "id": "CWdIcBB8yF1D",
        "colab_type": "text"
      },
      "cell_type": "markdown",
      "source": [
        "Refer: https://www.kaggle.com/c/facebook-recruiting-iii-keyword-extraction/data \n",
        "All of the data is in 2 files: Train and Test.\n",
        "\n",
        "Train.csv contains 4 columns: Id,Title,Body,Tags.\n",
        "\n",
        "Test.csv contains the same columns but without the Tags, which you are to predict.\n",
        "\n",
        "Size of Train.csv - 6.75GB\n",
        "\n",
        "Size of Test.csv - 2GB\n",
        "\n",
        "Number of rows in Train.csv = 6034195\n",
        "\n",
        "The questions are randomized and contains a mix of verbose text sites as well as sites related to math and programming. The number of questions from each site may vary, and no filtering has been performed on the questions (such as closed questions).\n"
      ]
    },
    {
      "metadata": {
        "id": "O4xnS_DlyLb5",
        "colab_type": "text"
      },
      "cell_type": "markdown",
      "source": [
        "**Note :-** Due to my PC constraints having 4 GB of RAM only i randomly sampled 100k rows from Train.csv and saved as Train_data.csv and i will be using the same."
      ]
    },
    {
      "metadata": {
        "id": "F2e1-k0my2jQ",
        "colab_type": "text"
      },
      "cell_type": "markdown",
      "source": [
        "**Data Field Explaination**\n",
        "\n",
        "Dataset contains 100k rows. The columns in the table are:\n",
        "\n",
        "Id - Unique identifier for each question\n",
        "\n",
        "Title - The question's title\n",
        "\n",
        "Body - The body of the question\n",
        "\n",
        "Tags - The tags associated with the question in a space-seperated format (all lowercase, should not contain tabs '\\t' or ampersands '&')\n",
        "\n"
      ]
    },
    {
      "metadata": {
        "id": "LxSCOnQDzFa_",
        "colab_type": "text"
      },
      "cell_type": "markdown",
      "source": [
        "# 2.2 Mapping the real-world problem to a Machine Learning Problem\n",
        "\n",
        "# 2.2.1 Type of Machine Learning Problem\n",
        "\n",
        "It is a multi-label classification problem \n",
        "Multi-label Classification: Multilabel classification assigns to each sample a set of target labels. This can be thought as predicting properties of a data-point that are not mutually exclusive, such as topics that are relevant for a document. A question on Stackoverflow might be about any of C, Pointers, FileIO and/or memory-management at the same time or none of these. \n",
        "Credit: http://scikit-learn.org/stable/modules/multiclass.html\n"
      ]
    },
    {
      "metadata": {
        "id": "Crsvzdiyzvr1",
        "colab_type": "text"
      },
      "cell_type": "markdown",
      "source": [
        "**2.2.2 Performance metric**\n",
        "\n",
        "**Micro-Averaged F1-Score (Mean F Score) :**   The F1 score can be interpreted as a weighted average of the precision and recall, where an F1 score reaches its best value at 1 and worst score at 0. The relative contribution of precision and recall to the F1 score are equal. The formula for the F1 score is:\n",
        "\n",
        "F1 = 2 (precision recall) / (precision + recall)\n",
        "\n",
        "In the multi-class and multi-label case, this is the weighted average of the F1 score of each class. \n",
        "\n",
        "**'Micro f1 score': **\n",
        "\n",
        "Calculate metrics globally by counting the total true positives, false negatives and false positives. This is a better metric when we have class imbalance. \n",
        "\n",
        "**'Macro f1 score': **\n",
        "\n",
        "Calculate metrics for each label, and find their unweighted mean. This does not take label imbalance into account. \n",
        "\n",
        "https://www.kaggle.com/wiki/MeanFScore \n",
        "http://scikit-learn.org/stable/modules/generated/sklearn.metrics.f1_score.html \n",
        "\n",
        "**Hamming loss :**  The Hamming loss is the fraction of labels that are incorrectly predicted. \n",
        "https://www.kaggle.com/wiki/HammingLoss "
      ]
    },
    {
      "metadata": {
        "id": "8NRa9y3o0NvP",
        "colab_type": "text"
      },
      "cell_type": "markdown",
      "source": [
        "# 3. Exploratory Data Analysis\n",
        "\n",
        "# 3.1 Data Loading \n",
        "\n"
      ]
    },
    {
      "metadata": {
        "id": "4sD8q9urU8Nv",
        "colab_type": "code",
        "outputId": "93819031-4222-497d-8ede-523ccd0954ee",
        "colab": {
          "base_uri": "https://localhost:8080/",
          "height": 121
        }
      },
      "cell_type": "code",
      "source": [
        "from google.colab import drive\n",
        "drive.mount('/content/drive')"
      ],
      "execution_count": 0,
      "outputs": [
        {
          "output_type": "stream",
          "text": [
            "Go to this URL in a browser: https://accounts.google.com/o/oauth2/auth?client_id=947318989803-6bn6qk8qdgf4n4g3pfee6491hc0brc4i.apps.googleusercontent.com&redirect_uri=urn%3Aietf%3Awg%3Aoauth%3A2.0%3Aoob&scope=email%20https%3A%2F%2Fwww.googleapis.com%2Fauth%2Fdocs.test%20https%3A%2F%2Fwww.googleapis.com%2Fauth%2Fdrive%20https%3A%2F%2Fwww.googleapis.com%2Fauth%2Fdrive.photos.readonly%20https%3A%2F%2Fwww.googleapis.com%2Fauth%2Fpeopleapi.readonly&response_type=code\n",
            "\n",
            "Enter your authorization code:\n",
            "··········\n",
            "Mounted at /content/drive\n"
          ],
          "name": "stdout"
        }
      ]
    },
    {
      "metadata": {
        "id": "X0MBg02qVaed",
        "colab_type": "code",
        "colab": {}
      },
      "cell_type": "code",
      "source": [
        "!cp \"/content/drive/My Drive/StackOverflow/Train_data.csv\" \"Train_data.csv\""
      ],
      "execution_count": 0,
      "outputs": []
    },
    {
      "metadata": {
        "id": "ramhU2WsuwH7",
        "colab_type": "code",
        "colab": {}
      },
      "cell_type": "code",
      "source": [
        "import pandas as pd"
      ],
      "execution_count": 0,
      "outputs": []
    },
    {
      "metadata": {
        "id": "_02PYuW4u19X",
        "colab_type": "code",
        "colab": {}
      },
      "cell_type": "code",
      "source": [
        "data=pd.read_csv(\"Train_data.csv\")"
      ],
      "execution_count": 0,
      "outputs": []
    },
    {
      "metadata": {
        "id": "f7xqcTItu71e",
        "colab_type": "code",
        "outputId": "01d5c256-918f-4b38-d10e-3593e6b7a8b5",
        "colab": {
          "base_uri": "https://localhost:8080/",
          "height": 296
        }
      },
      "cell_type": "code",
      "source": [
        "data.head()"
      ],
      "execution_count": 0,
      "outputs": [
        {
          "output_type": "execute_result",
          "data": {
            "text/html": [
              "<div>\n",
              "<style scoped>\n",
              "    .dataframe tbody tr th:only-of-type {\n",
              "        vertical-align: middle;\n",
              "    }\n",
              "\n",
              "    .dataframe tbody tr th {\n",
              "        vertical-align: top;\n",
              "    }\n",
              "\n",
              "    .dataframe thead th {\n",
              "        text-align: right;\n",
              "    }\n",
              "</style>\n",
              "<table border=\"1\" class=\"dataframe\">\n",
              "  <thead>\n",
              "    <tr style=\"text-align: right;\">\n",
              "      <th></th>\n",
              "      <th>Unnamed: 0</th>\n",
              "      <th>Id</th>\n",
              "      <th>Title</th>\n",
              "      <th>Body</th>\n",
              "      <th>Tags</th>\n",
              "    </tr>\n",
              "  </thead>\n",
              "  <tbody>\n",
              "    <tr>\n",
              "      <th>0</th>\n",
              "      <td>2221128</td>\n",
              "      <td>2221129</td>\n",
              "      <td>Linearization for differential equation</td>\n",
              "      <td>&lt;p&gt;I'm trying to make linearization for the fo...</td>\n",
              "      <td>differential-equations</td>\n",
              "    </tr>\n",
              "    <tr>\n",
              "      <th>1</th>\n",
              "      <td>1757257</td>\n",
              "      <td>1757258</td>\n",
              "      <td>Java upload file (image specifically) from a J...</td>\n",
              "      <td>&lt;p&gt;I am going mad trying to find an example of...</td>\n",
              "      <td>java asp.net-mvc file-upload applet jnlp</td>\n",
              "    </tr>\n",
              "    <tr>\n",
              "      <th>2</th>\n",
              "      <td>1497316</td>\n",
              "      <td>1497317</td>\n",
              "      <td>how to set separate css to each menu item in t...</td>\n",
              "      <td>&lt;p&gt;i have a menu control like below&lt;/p&gt;\\n\\n&lt;p&gt;...</td>\n",
              "      <td>c# asp.net</td>\n",
              "    </tr>\n",
              "    <tr>\n",
              "      <th>3</th>\n",
              "      <td>3055821</td>\n",
              "      <td>3055822</td>\n",
              "      <td>jQuery multiple event handler</td>\n",
              "      <td>&lt;p&gt;What does the keyup() at the end of it mean...</td>\n",
              "      <td>jquery</td>\n",
              "    </tr>\n",
              "    <tr>\n",
              "      <th>4</th>\n",
              "      <td>4281363</td>\n",
              "      <td>4281364</td>\n",
              "      <td>Applications for using couchDB and a RDBMS tog...</td>\n",
              "      <td>&lt;p&gt;Wondering if there was a scenario where one...</td>\n",
              "      <td>database architecture couchdb rdbms</td>\n",
              "    </tr>\n",
              "  </tbody>\n",
              "</table>\n",
              "</div>"
            ],
            "text/plain": [
              "   Unnamed: 0       Id                                              Title  \\\n",
              "0     2221128  2221129            Linearization for differential equation   \n",
              "1     1757257  1757258  Java upload file (image specifically) from a J...   \n",
              "2     1497316  1497317  how to set separate css to each menu item in t...   \n",
              "3     3055821  3055822                      jQuery multiple event handler   \n",
              "4     4281363  4281364  Applications for using couchDB and a RDBMS tog...   \n",
              "\n",
              "                                                Body  \\\n",
              "0  <p>I'm trying to make linearization for the fo...   \n",
              "1  <p>I am going mad trying to find an example of...   \n",
              "2  <p>i have a menu control like below</p>\\n\\n<p>...   \n",
              "3  <p>What does the keyup() at the end of it mean...   \n",
              "4  <p>Wondering if there was a scenario where one...   \n",
              "\n",
              "                                       Tags  \n",
              "0                    differential-equations  \n",
              "1  java asp.net-mvc file-upload applet jnlp  \n",
              "2                                c# asp.net  \n",
              "3                                    jquery  \n",
              "4       database architecture couchdb rdbms  "
            ]
          },
          "metadata": {
            "tags": []
          },
          "execution_count": 5
        }
      ]
    },
    {
      "metadata": {
        "id": "jGZ-x1Ig09iy",
        "colab_type": "text"
      },
      "cell_type": "markdown",
      "source": [
        "****3.1.1 Using Pandas with SQLite to Load the data****"
      ]
    },
    {
      "metadata": {
        "id": "oSlQh-lq_BE0",
        "colab_type": "code",
        "outputId": "38a6f688-fce6-48f7-ac35-5abf2b4b9bec",
        "colab": {
          "base_uri": "https://localhost:8080/",
          "height": 121
        }
      },
      "cell_type": "code",
      "source": [
        "!pip install scikit-multilearn"
      ],
      "execution_count": 0,
      "outputs": [
        {
          "output_type": "stream",
          "text": [
            "Collecting scikit-multilearn\n",
            "\u001b[?25l  Downloading https://files.pythonhosted.org/packages/bb/1f/e6ff649c72a1cdf2c7a1d31eb21705110ce1c5d3e7e26b2cc300e1637272/scikit_multilearn-0.2.0-py3-none-any.whl (89kB)\n",
            "\r\u001b[K    11% |███▊                            | 10kB 15.2MB/s eta 0:00:01\r\u001b[K    22% |███████▍                        | 20kB 2.2MB/s eta 0:00:01\r\u001b[K    34% |███████████                     | 30kB 3.1MB/s eta 0:00:01\r\u001b[K    45% |██████████████▊                 | 40kB 2.1MB/s eta 0:00:01\r\u001b[K    57% |██████████████████▍             | 51kB 2.5MB/s eta 0:00:01\r\u001b[K    68% |██████████████████████          | 61kB 3.0MB/s eta 0:00:01\r\u001b[K    80% |█████████████████████████▊      | 71kB 3.4MB/s eta 0:00:01\r\u001b[K    91% |█████████████████████████████▍  | 81kB 3.9MB/s eta 0:00:01\r\u001b[K    100% |████████████████████████████████| 92kB 4.0MB/s \n",
            "\u001b[?25hInstalling collected packages: scikit-multilearn\n",
            "Successfully installed scikit-multilearn-0.2.0\n"
          ],
          "name": "stdout"
        }
      ]
    },
    {
      "metadata": {
        "id": "Og3R6WJZ2_6L",
        "colab_type": "code",
        "colab": {}
      },
      "cell_type": "code",
      "source": [
        "import warnings\n",
        "warnings.filterwarnings(\"ignore\")\n",
        "import pandas as pd\n",
        "import sqlite3\n",
        "import csv\n",
        "import matplotlib.pyplot as plt\n",
        "import seaborn as sns\n",
        "import numpy as np\n",
        "from wordcloud import WordCloud\n",
        "import re\n",
        "import os\n",
        "import sqlalchemy\n",
        "from sqlalchemy import create_engine # database connection\n",
        "import datetime as dt\n",
        "from nltk.corpus import stopwords\n",
        "from nltk.tokenize import word_tokenize\n",
        "from nltk.stem.snowball import SnowballStemmer\n",
        "from sklearn.feature_extraction.text import CountVectorizer\n",
        "from sklearn.feature_extraction.text import TfidfVectorizer\n",
        "from sklearn.multiclass import OneVsRestClassifier\n",
        "from sklearn.linear_model import SGDClassifier\n",
        "from sklearn import metrics\n",
        "from sklearn.metrics import f1_score,precision_score,recall_score\n",
        "from sklearn import svm\n",
        "from sklearn.linear_model import LogisticRegression\n",
        "from skmultilearn.adapt import mlknn\n",
        "from skmultilearn.problem_transform import ClassifierChain\n",
        "from skmultilearn.problem_transform import BinaryRelevance\n",
        "from skmultilearn.problem_transform import LabelPowerset\n",
        "from sklearn.naive_bayes import GaussianNB\n",
        "from datetime import datetime"
      ],
      "execution_count": 0,
      "outputs": []
    },
    {
      "metadata": {
        "id": "zzVn95-y1Gm-",
        "colab_type": "code",
        "outputId": "899e31d8-92e5-4244-a770-6997c8d23e98",
        "colab": {
          "base_uri": "https://localhost:8080/",
          "height": 386
        }
      },
      "cell_type": "code",
      "source": [
        "#Creating db file from csv\n",
        "if not os.path.isfile('Train_data.db'):\n",
        "  engine= sqlalchemy.create_engine('sqlite:///Train_data.db')\n",
        "  start=datetime.now()\n",
        "  Csize=10000\n",
        "  j=0\n",
        "  index_start=1\n",
        "  for df in pd.read_csv('Train_data.csv',names=['Id','Title','Body','Tags'], chunksize = Csize,iterator=True,encoding='utf-8'):\n",
        "    df.index+=index_start\n",
        "    j+=1\n",
        "    print('{} rows'.format(j*Csize))\n",
        "    df.to_sql('data',engine,if_exists='append')\n",
        "    index_start=df.index[-1]+1\n",
        "    print(\"Time taken :\" ,datetime.now() - start)\n",
        "  \n"
      ],
      "execution_count": 0,
      "outputs": [
        {
          "output_type": "stream",
          "text": [
            "10000 rows\n",
            "Time taken : 0:00:01.120921\n",
            "20000 rows\n",
            "Time taken : 0:00:02.049476\n",
            "30000 rows\n",
            "Time taken : 0:00:02.976323\n",
            "40000 rows\n",
            "Time taken : 0:00:03.876312\n",
            "50000 rows\n",
            "Time taken : 0:00:04.786163\n",
            "60000 rows\n",
            "Time taken : 0:00:05.840936\n",
            "70000 rows\n",
            "Time taken : 0:00:06.833282\n",
            "80000 rows\n",
            "Time taken : 0:00:07.717047\n",
            "90000 rows\n",
            "Time taken : 0:00:08.605846\n",
            "100000 rows\n",
            "Time taken : 0:00:09.489148\n",
            "110000 rows\n",
            "Time taken : 0:00:09.507017\n"
          ],
          "name": "stdout"
        }
      ]
    },
    {
      "metadata": {
        "id": "IsfFHAn0DEmD",
        "colab_type": "text"
      },
      "cell_type": "markdown",
      "source": [
        "**3.1.2 Counting the number of rows**"
      ]
    },
    {
      "metadata": {
        "id": "NENNXeZdEsKy",
        "colab_type": "code",
        "outputId": "b1061ab5-b7e9-47bc-953a-a00404727439",
        "colab": {
          "base_uri": "https://localhost:8080/",
          "height": 34
        }
      },
      "cell_type": "code",
      "source": [
        "if os.path.isfile('Train_data.db'):\n",
        "  con=sqlite3.connect('Train_data.db')\n",
        "  n_rows=pd.read_sql(\"\"\" SELECT count(*) FROM `data`\"\"\",con)\n",
        "  print(\"No of rows : \",n_rows['count(*)'].values[0])\n",
        "  con.close()"
      ],
      "execution_count": 0,
      "outputs": [
        {
          "output_type": "stream",
          "text": [
            "No of rows :  100001\n"
          ],
          "name": "stdout"
        }
      ]
    },
    {
      "metadata": {
        "id": "-07M79dhInpj",
        "colab_type": "text"
      },
      "cell_type": "markdown",
      "source": [
        "**3.1.3 Checking for duplicates**"
      ]
    },
    {
      "metadata": {
        "id": "LZbBbF-DIcDz",
        "colab_type": "code",
        "colab": {}
      },
      "cell_type": "code",
      "source": [
        "con=sqlite3.connect('Train_data.db')\n",
        "query=\"SELECT `Title`,`Tags`,`Body`, COUNT(*) as cnt_dup FROM `data` GROUP BY `Title`,`Body`,`Tags`\"\n",
        "dataframe=pd.read_sql(query,con)\n",
        "con.close()\n"
      ],
      "execution_count": 0,
      "outputs": []
    },
    {
      "metadata": {
        "id": "cAYmA2SqNQgD",
        "colab_type": "code",
        "outputId": "c129f55a-d94b-4fe5-950d-4c4f8b636239",
        "colab": {
          "base_uri": "https://localhost:8080/",
          "height": 84
        }
      },
      "cell_type": "code",
      "source": [
        "n_row=n_rows['count(*)'].values[0]\n",
        "n_row_dup=dataframe.shape[0]\n",
        "n_dup=n_row-n_row_dup\n",
        "print(n_row)\n",
        "print(n_row_dup)\n",
        "print(\"No of Duplicates= \",n_dup)\n",
        "print(\"% duplication = \",(n_dup/n_row)*100)"
      ],
      "execution_count": 0,
      "outputs": [
        {
          "output_type": "stream",
          "text": [
            "100001\n",
            "99462\n",
            "No of Duplicates=  539\n",
            "% duplication =  0.5389946100538995\n"
          ],
          "name": "stdout"
        }
      ]
    },
    {
      "metadata": {
        "id": "9y7kuENONxAB",
        "colab_type": "code",
        "outputId": "3c5298a1-7959-4f97-9bf1-2e873085e456",
        "colab": {
          "base_uri": "https://localhost:8080/",
          "height": 67
        }
      },
      "cell_type": "code",
      "source": [
        "dataframe.cnt_dup.value_counts()"
      ],
      "execution_count": 0,
      "outputs": [
        {
          "output_type": "execute_result",
          "data": {
            "text/plain": [
              "1    98923\n",
              "2      539\n",
              "Name: cnt_dup, dtype: int64"
            ]
          },
          "metadata": {
            "tags": []
          },
          "execution_count": 12
        }
      ]
    },
    {
      "metadata": {
        "id": "puEpTv-XSfRD",
        "colab_type": "text"
      },
      "cell_type": "markdown",
      "source": [
        "**Observation :** \n",
        "\n",
        "1.No of question one time= 98923\n",
        "\n",
        "2.No of question two time= 539"
      ]
    },
    {
      "metadata": {
        "id": "u2AStIITSwXL",
        "colab_type": "code",
        "outputId": "c615ba38-876f-4133-ef4e-1eddc92213da",
        "colab": {
          "base_uri": "https://localhost:8080/",
          "height": 279
        }
      },
      "cell_type": "code",
      "source": [
        "#Adding tag_count in dataframe\n",
        "dataframe['tag_count']=dataframe['Tags'].apply(lambda text : len(text.split(\" \")))\n",
        "dataframe.head()"
      ],
      "execution_count": 0,
      "outputs": [
        {
          "output_type": "execute_result",
          "data": {
            "text/html": [
              "<div>\n",
              "<style scoped>\n",
              "    .dataframe tbody tr th:only-of-type {\n",
              "        vertical-align: middle;\n",
              "    }\n",
              "\n",
              "    .dataframe tbody tr th {\n",
              "        vertical-align: top;\n",
              "    }\n",
              "\n",
              "    .dataframe thead th {\n",
              "        text-align: right;\n",
              "    }\n",
              "</style>\n",
              "<table border=\"1\" class=\"dataframe\">\n",
              "  <thead>\n",
              "    <tr style=\"text-align: right;\">\n",
              "      <th></th>\n",
              "      <th>Title</th>\n",
              "      <th>Tags</th>\n",
              "      <th>Body</th>\n",
              "      <th>cnt_dup</th>\n",
              "      <th>tag_count</th>\n",
              "    </tr>\n",
              "  </thead>\n",
              "  <tbody>\n",
              "    <tr>\n",
              "      <th>0</th>\n",
              "      <td>Advise on tackling syntax errors in Java</td>\n",
              "      <td>java</td>\n",
              "      <td>&lt;p&gt;I very inexperience with Java, I'm spending...</td>\n",
              "      <td>1</td>\n",
              "      <td>1</td>\n",
              "    </tr>\n",
              "    <tr>\n",
              "      <th>1</th>\n",
              "      <td>Controlling the Lego WeDo Device</td>\n",
              "      <td>c# api lego</td>\n",
              "      <td>&lt;p&gt;Has anyone written a API for the Lego WeDo ...</td>\n",
              "      <td>1</td>\n",
              "      <td>3</td>\n",
              "    </tr>\n",
              "    <tr>\n",
              "      <th>2</th>\n",
              "      <td>Count inverse document frequency (idf) in eve...</td>\n",
              "      <td>php</td>\n",
              "      <td>&lt;p&gt;I wanna count idf, the formula is &lt;code&gt;IDF...</td>\n",
              "      <td>1</td>\n",
              "      <td>1</td>\n",
              "    </tr>\n",
              "    <tr>\n",
              "      <th>3</th>\n",
              "      <td>FrameView with \"flip\" animation images not sc...</td>\n",
              "      <td>android image layout resize scaling</td>\n",
              "      <td>&lt;p&gt;Can't seem to work out what I've got wrong....</td>\n",
              "      <td>1</td>\n",
              "      <td>5</td>\n",
              "    </tr>\n",
              "    <tr>\n",
              "      <th>4</th>\n",
              "      <td>Going from Java to Classic ASP / VB</td>\n",
              "      <td>vb6 career-development legacy-code</td>\n",
              "      <td>&lt;p&gt;Right now, I work on a small team at a larg...</td>\n",
              "      <td>1</td>\n",
              "      <td>3</td>\n",
              "    </tr>\n",
              "  </tbody>\n",
              "</table>\n",
              "</div>"
            ],
            "text/plain": [
              "                                               Title  \\\n",
              "0           Advise on tackling syntax errors in Java   \n",
              "1                   Controlling the Lego WeDo Device   \n",
              "2   Count inverse document frequency (idf) in eve...   \n",
              "3   FrameView with \"flip\" animation images not sc...   \n",
              "4                Going from Java to Classic ASP / VB   \n",
              "\n",
              "                                  Tags  \\\n",
              "0                                 java   \n",
              "1                          c# api lego   \n",
              "2                                  php   \n",
              "3  android image layout resize scaling   \n",
              "4   vb6 career-development legacy-code   \n",
              "\n",
              "                                                Body  cnt_dup  tag_count  \n",
              "0  <p>I very inexperience with Java, I'm spending...        1          1  \n",
              "1  <p>Has anyone written a API for the Lego WeDo ...        1          3  \n",
              "2  <p>I wanna count idf, the formula is <code>IDF...        1          1  \n",
              "3  <p>Can't seem to work out what I've got wrong....        1          5  \n",
              "4  <p>Right now, I work on a small team at a larg...        1          3  "
            ]
          },
          "metadata": {
            "tags": []
          },
          "execution_count": 13
        }
      ]
    },
    {
      "metadata": {
        "id": "-amgS2mwUZwj",
        "colab_type": "code",
        "outputId": "be2b41d6-73d1-4744-abc6-6af129373d1d",
        "colab": {
          "base_uri": "https://localhost:8080/",
          "height": 118
        }
      },
      "cell_type": "code",
      "source": [
        "dataframe['tag_count'].value_counts()"
      ],
      "execution_count": 0,
      "outputs": [
        {
          "output_type": "execute_result",
          "data": {
            "text/plain": [
              "3    28412\n",
              "2    26520\n",
              "4    19206\n",
              "1    13682\n",
              "5    11642\n",
              "Name: tag_count, dtype: int64"
            ]
          },
          "metadata": {
            "tags": []
          },
          "execution_count": 14
        }
      ]
    },
    {
      "metadata": {
        "id": "yZ8a5EfWUu9t",
        "colab_type": "text"
      },
      "cell_type": "markdown",
      "source": [
        "**Observation :**\n",
        "\n",
        "1.No of questios having 3 tags =28412\n",
        "\n",
        "2.No of questios having 2 tags =26520\n",
        "\n",
        "3.No of questios having 4 tags =19206\n",
        "\n",
        "4.No of questios having 1 tags =13682\n",
        "\n",
        "5.No of questios having 5 tags =11642\n",
        "\n",
        "Order a/c to no of question :\n",
        "\n",
        "3tags>2 tags > 4 tags >1 tag >5 tags\n"
      ]
    },
    {
      "metadata": {
        "id": "JuafcVwVoZso",
        "colab_type": "code",
        "colab": {}
      },
      "cell_type": "code",
      "source": [
        "#Creatibng a new database with no duplicates\n",
        "if not  os.path.isfile('database_final.db'):\n",
        "  engine = create_engine(\"sqlite:///database_final.db\")\n",
        "  data_final = pd.DataFrame(dataframe,columns=['Title','Body','Tags'])\n",
        "  data_final.to_sql('DTable',engine)"
      ],
      "execution_count": 0,
      "outputs": []
    },
    {
      "metadata": {
        "id": "KVngEXi4WaFB",
        "colab_type": "code",
        "outputId": "356379b3-71e3-4cde-ab33-e925c9809fa6",
        "colab": {
          "base_uri": "https://localhost:8080/",
          "height": 34
        }
      },
      "cell_type": "code",
      "source": [
        "data_final.shape\n"
      ],
      "execution_count": 0,
      "outputs": [
        {
          "output_type": "execute_result",
          "data": {
            "text/plain": [
              "(99462, 3)"
            ]
          },
          "metadata": {
            "tags": []
          },
          "execution_count": 16
        }
      ]
    },
    {
      "metadata": {
        "id": "9-WuZWBzYrW5",
        "colab_type": "code",
        "colab": {}
      },
      "cell_type": "code",
      "source": [
        "con=sqlite3.connect('database_final.db')\n",
        "query=\"SELECT Tags FROM Dtable \"\n",
        "tags=pd.read_sql(query,con)\n",
        "con.close()"
      ],
      "execution_count": 0,
      "outputs": []
    },
    {
      "metadata": {
        "id": "tzGMmKsBZzyE",
        "colab_type": "code",
        "outputId": "a2332ab4-5ee1-4ee8-957a-5c6a8215275d",
        "colab": {
          "base_uri": "https://localhost:8080/",
          "height": 195
        }
      },
      "cell_type": "code",
      "source": [
        "tags.head()"
      ],
      "execution_count": 0,
      "outputs": [
        {
          "output_type": "execute_result",
          "data": {
            "text/html": [
              "<div>\n",
              "<style scoped>\n",
              "    .dataframe tbody tr th:only-of-type {\n",
              "        vertical-align: middle;\n",
              "    }\n",
              "\n",
              "    .dataframe tbody tr th {\n",
              "        vertical-align: top;\n",
              "    }\n",
              "\n",
              "    .dataframe thead th {\n",
              "        text-align: right;\n",
              "    }\n",
              "</style>\n",
              "<table border=\"1\" class=\"dataframe\">\n",
              "  <thead>\n",
              "    <tr style=\"text-align: right;\">\n",
              "      <th></th>\n",
              "      <th>Tags</th>\n",
              "    </tr>\n",
              "  </thead>\n",
              "  <tbody>\n",
              "    <tr>\n",
              "      <th>0</th>\n",
              "      <td>java</td>\n",
              "    </tr>\n",
              "    <tr>\n",
              "      <th>1</th>\n",
              "      <td>c# api lego</td>\n",
              "    </tr>\n",
              "    <tr>\n",
              "      <th>2</th>\n",
              "      <td>php</td>\n",
              "    </tr>\n",
              "    <tr>\n",
              "      <th>3</th>\n",
              "      <td>android image layout resize scaling</td>\n",
              "    </tr>\n",
              "    <tr>\n",
              "      <th>4</th>\n",
              "      <td>vb6 career-development legacy-code</td>\n",
              "    </tr>\n",
              "  </tbody>\n",
              "</table>\n",
              "</div>"
            ],
            "text/plain": [
              "                                  Tags\n",
              "0                                 java\n",
              "1                          c# api lego\n",
              "2                                  php\n",
              "3  android image layout resize scaling\n",
              "4   vb6 career-development legacy-code"
            ]
          },
          "metadata": {
            "tags": []
          },
          "execution_count": 18
        }
      ]
    },
    {
      "metadata": {
        "id": "D0rxbdPvZkVU",
        "colab_type": "code",
        "outputId": "ce8c642d-5b64-4530-8aaf-31a89ce30897",
        "colab": {
          "base_uri": "https://localhost:8080/",
          "height": 34
        }
      },
      "cell_type": "code",
      "source": [
        "tags.Tags[0]"
      ],
      "execution_count": 0,
      "outputs": [
        {
          "output_type": "execute_result",
          "data": {
            "text/plain": [
              "'java'"
            ]
          },
          "metadata": {
            "tags": []
          },
          "execution_count": 19
        }
      ]
    },
    {
      "metadata": {
        "id": "I43JszsXb2UZ",
        "colab_type": "text"
      },
      "cell_type": "markdown",
      "source": [
        "# 3.2 Analysis of Tags\n",
        "\n",
        "**3.2.1 Total number of unique tags**"
      ]
    },
    {
      "metadata": {
        "id": "m8UR-cxb68hA",
        "colab_type": "code",
        "colab": {}
      },
      "cell_type": "code",
      "source": [
        "from sklearn.feature_extraction.text import CountVectorizer\n"
      ],
      "execution_count": 0,
      "outputs": []
    },
    {
      "metadata": {
        "id": "VhfuU2DU7flE",
        "colab_type": "code",
        "colab": {}
      },
      "cell_type": "code",
      "source": [
        "vectorizer=CountVectorizer(tokenizer= lambda x: x.split() )\n",
        "#by default 'split()' will tokenize each tag using space.\n",
        "\n",
        "tag_train_bows=vectorizer.fit_transform(tags['Tags'])\n",
        "\n",
        "# fit_transform() does two functions: First, it fits the model\n",
        "# and learns the vocabulary; second, it transforms our training data\n",
        "# into feature vectors. The input to fit_transform should be a list of strings."
      ],
      "execution_count": 0,
      "outputs": []
    },
    {
      "metadata": {
        "id": "qXHWieGK89La",
        "colab_type": "code",
        "outputId": "83fe739f-dd6e-4137-bfec-78930160c6e9",
        "colab": {
          "base_uri": "https://localhost:8080/",
          "height": 50
        }
      },
      "cell_type": "code",
      "source": [
        "print(\"Number of data points :\", tag_train_bows.shape[0])\n",
        "print(\"Number of unique tag :\", tag_train_bows.shape[1])"
      ],
      "execution_count": 0,
      "outputs": [
        {
          "output_type": "stream",
          "text": [
            "Number of data points : 99462\n",
            "Number of unique tag : 18364\n"
          ],
          "name": "stdout"
        }
      ]
    },
    {
      "metadata": {
        "id": "wzqts-x69aNd",
        "colab_type": "code",
        "outputId": "39619346-1f77-40e7-cc2b-39b040f84837",
        "colab": {
          "base_uri": "https://localhost:8080/",
          "height": 353
        }
      },
      "cell_type": "code",
      "source": [
        "#Some features\n",
        "features=vectorizer.get_feature_names()\n",
        "print(\"Some Features are \")\n",
        "for i in range(1,20):\n",
        "  print(features[i])"
      ],
      "execution_count": 0,
      "outputs": [
        {
          "output_type": "stream",
          "text": [
            "Some Features are \n",
            ".bash-profile\n",
            ".each\n",
            ".emf\n",
            ".exe\n",
            ".htaccess\n",
            ".htpasswd\n",
            ".lib\n",
            ".mov\n",
            ".net\n",
            ".net-1.1\n",
            ".net-2.0\n",
            ".net-3.5\n",
            ".net-4.0\n",
            ".net-4.5\n",
            ".net-assembly\n",
            ".net-cf-3.5\n",
            ".net-client-profile\n",
            ".net-framework\n",
            ".net-micro-framework\n"
          ],
          "name": "stdout"
        }
      ]
    },
    {
      "metadata": {
        "id": "94240bbG-Nnk",
        "colab_type": "text"
      },
      "cell_type": "markdown",
      "source": [
        "**3.2.3 Number of times a tag appeared**"
      ]
    },
    {
      "metadata": {
        "id": "AIj7B9MAX9xq",
        "colab_type": "code",
        "colab": {}
      },
      "cell_type": "code",
      "source": [
        "import csv"
      ],
      "execution_count": 0,
      "outputs": []
    },
    {
      "metadata": {
        "id": "U7wJ2fuUEZob",
        "colab_type": "code",
        "colab": {}
      },
      "cell_type": "code",
      "source": [
        "freqs = tag_train_bows.sum(axis=0).A1\n",
        "#matrix.A1 Return self as a flattened ndarray.\n",
        "\n",
        "result = dict(zip(features, freqs))"
      ],
      "execution_count": 0,
      "outputs": []
    },
    {
      "metadata": {
        "id": "E56lQyoCFNkY",
        "colab_type": "code",
        "colab": {}
      },
      "cell_type": "code",
      "source": [
        "#Saving this dictionary to csv files.\n",
        "#if not os.path.isfile('tag_counts_dict.csv'):\n",
        "with open ('tag_counts_dict.csv','w') as csv_file:\n",
        "  writer = csv.writer(csv_file)\n",
        "  for key,value in result.items():\n",
        "   # print(key)\n",
        "    writer.writerow([key,value])  "
      ],
      "execution_count": 0,
      "outputs": []
    },
    {
      "metadata": {
        "id": "MwIfLoCWXmG1",
        "colab_type": "code",
        "outputId": "3a359451-56b2-4466-c4cb-8ba322bce678",
        "colab": {
          "base_uri": "https://localhost:8080/",
          "height": 343
        }
      },
      "cell_type": "code",
      "source": [
        "tag_df=pd.read_csv(\"tag_counts_dict.csv\",names=['Tags','Counts'])\n",
        "tag_df.head(10)"
      ],
      "execution_count": 0,
      "outputs": [
        {
          "output_type": "execute_result",
          "data": {
            "text/html": [
              "<div>\n",
              "<style scoped>\n",
              "    .dataframe tbody tr th:only-of-type {\n",
              "        vertical-align: middle;\n",
              "    }\n",
              "\n",
              "    .dataframe tbody tr th {\n",
              "        vertical-align: top;\n",
              "    }\n",
              "\n",
              "    .dataframe thead th {\n",
              "        text-align: right;\n",
              "    }\n",
              "</style>\n",
              "<table border=\"1\" class=\"dataframe\">\n",
              "  <thead>\n",
              "    <tr style=\"text-align: right;\">\n",
              "      <th></th>\n",
              "      <th>Tags</th>\n",
              "      <th>Counts</th>\n",
              "    </tr>\n",
              "  </thead>\n",
              "  <tbody>\n",
              "    <tr>\n",
              "      <th>0</th>\n",
              "      <td>.app</td>\n",
              "      <td>1</td>\n",
              "    </tr>\n",
              "    <tr>\n",
              "      <th>1</th>\n",
              "      <td>.bash-profile</td>\n",
              "      <td>5</td>\n",
              "    </tr>\n",
              "    <tr>\n",
              "      <th>2</th>\n",
              "      <td>.each</td>\n",
              "      <td>2</td>\n",
              "    </tr>\n",
              "    <tr>\n",
              "      <th>3</th>\n",
              "      <td>.emf</td>\n",
              "      <td>3</td>\n",
              "    </tr>\n",
              "    <tr>\n",
              "      <th>4</th>\n",
              "      <td>.exe</td>\n",
              "      <td>1</td>\n",
              "    </tr>\n",
              "    <tr>\n",
              "      <th>5</th>\n",
              "      <td>.htaccess</td>\n",
              "      <td>336</td>\n",
              "    </tr>\n",
              "    <tr>\n",
              "      <th>6</th>\n",
              "      <td>.htpasswd</td>\n",
              "      <td>2</td>\n",
              "    </tr>\n",
              "    <tr>\n",
              "      <th>7</th>\n",
              "      <td>.lib</td>\n",
              "      <td>1</td>\n",
              "    </tr>\n",
              "    <tr>\n",
              "      <th>8</th>\n",
              "      <td>.mov</td>\n",
              "      <td>1</td>\n",
              "    </tr>\n",
              "    <tr>\n",
              "      <th>9</th>\n",
              "      <td>.net</td>\n",
              "      <td>2676</td>\n",
              "    </tr>\n",
              "  </tbody>\n",
              "</table>\n",
              "</div>"
            ],
            "text/plain": [
              "            Tags  Counts\n",
              "0           .app       1\n",
              "1  .bash-profile       5\n",
              "2          .each       2\n",
              "3           .emf       3\n",
              "4           .exe       1\n",
              "5      .htaccess     336\n",
              "6      .htpasswd       2\n",
              "7           .lib       1\n",
              "8           .mov       1\n",
              "9           .net    2676"
            ]
          },
          "metadata": {
            "tags": []
          },
          "execution_count": 27
        }
      ]
    },
    {
      "metadata": {
        "id": "WN2IEn65ZDcN",
        "colab_type": "code",
        "outputId": "db12f281-94d6-42ef-d5d4-733fa8baf7a8",
        "colab": {
          "base_uri": "https://localhost:8080/",
          "height": 34
        }
      },
      "cell_type": "code",
      "source": [
        "tag_df_sorted=tag_df.sort_values(['Counts'],ascending=False)\n",
        "tag_counts=tag_df_sorted['Counts'].values\n",
        "#DataFrame.values : Return a Numpy representation of the DataFrame.\n",
        "\n",
        "tag_counts"
      ],
      "execution_count": 0,
      "outputs": [
        {
          "output_type": "execute_result",
          "data": {
            "text/plain": [
              "array([7663, 6877, 6448, ...,    1,    1,    1])"
            ]
          },
          "metadata": {
            "tags": []
          },
          "execution_count": 28
        }
      ]
    },
    {
      "metadata": {
        "id": "lWb9G0NgZ2Jw",
        "colab_type": "code",
        "outputId": "aa8b35cb-c944-4a44-c630-02b17e53a3c3",
        "colab": {
          "base_uri": "https://localhost:8080/",
          "height": 195
        }
      },
      "cell_type": "code",
      "source": [
        "tag_df_sorted.head()"
      ],
      "execution_count": 0,
      "outputs": [
        {
          "output_type": "execute_result",
          "data": {
            "text/html": [
              "<div>\n",
              "<style scoped>\n",
              "    .dataframe tbody tr th:only-of-type {\n",
              "        vertical-align: middle;\n",
              "    }\n",
              "\n",
              "    .dataframe tbody tr th {\n",
              "        vertical-align: top;\n",
              "    }\n",
              "\n",
              "    .dataframe thead th {\n",
              "        text-align: right;\n",
              "    }\n",
              "</style>\n",
              "<table border=\"1\" class=\"dataframe\">\n",
              "  <thead>\n",
              "    <tr style=\"text-align: right;\">\n",
              "      <th></th>\n",
              "      <th>Tags</th>\n",
              "      <th>Counts</th>\n",
              "    </tr>\n",
              "  </thead>\n",
              "  <tbody>\n",
              "    <tr>\n",
              "      <th>1997</th>\n",
              "      <td>c#</td>\n",
              "      <td>7663</td>\n",
              "    </tr>\n",
              "    <tr>\n",
              "      <th>8067</th>\n",
              "      <td>java</td>\n",
              "      <td>6877</td>\n",
              "    </tr>\n",
              "    <tr>\n",
              "      <th>12003</th>\n",
              "      <td>php</td>\n",
              "      <td>6448</td>\n",
              "    </tr>\n",
              "    <tr>\n",
              "      <th>8117</th>\n",
              "      <td>javascript</td>\n",
              "      <td>6113</td>\n",
              "    </tr>\n",
              "    <tr>\n",
              "      <th>543</th>\n",
              "      <td>android</td>\n",
              "      <td>5430</td>\n",
              "    </tr>\n",
              "  </tbody>\n",
              "</table>\n",
              "</div>"
            ],
            "text/plain": [
              "             Tags  Counts\n",
              "1997           c#    7663\n",
              "8067         java    6877\n",
              "12003         php    6448\n",
              "8117   javascript    6113\n",
              "543       android    5430"
            ]
          },
          "metadata": {
            "tags": []
          },
          "execution_count": 29
        }
      ]
    },
    {
      "metadata": {
        "id": "TDxw5imXa1gz",
        "colab_type": "code",
        "outputId": "6fee4979-f4b9-467a-fca8-b570a28c6341",
        "colab": {
          "base_uri": "https://localhost:8080/",
          "height": 376
        }
      },
      "cell_type": "code",
      "source": [
        "plt.plot(tag_counts)\n",
        "plt.grid()\n",
        "plt.xlabel('Tag number')\n",
        "plt.xlabel('Frequency')\n",
        "plt.title(\"Distribution of frequency of tag\")\n",
        "plt.show()"
      ],
      "execution_count": 0,
      "outputs": [
        {
          "output_type": "display_data",
          "data": {
            "image/png": "[encoded data removed]",
            "text/plain": [
              "<Figure size 576x396 with 1 Axes>"
            ]
          },
          "metadata": {
            "tags": []
          }
        }
      ]
    },
    {
      "metadata": {
        "id": "WhY2RWjRbimy",
        "colab_type": "code",
        "outputId": "1f9b7159-7d51-4724-c119-8b1204b568bf",
        "colab": {
          "base_uri": "https://localhost:8080/",
          "height": 376
        }
      },
      "cell_type": "code",
      "source": [
        "plt.plot(tag_counts[0:2500])\n",
        "plt.title('first 2.5k tags: Distribution of Frequency of tag')\n",
        "plt.grid()\n",
        "plt.xlabel(\"Tag number\")\n",
        "plt.ylabel(\"Frequency of tag\")\n",
        "plt.show()\n"
      ],
      "execution_count": 0,
      "outputs": [
        {
          "output_type": "display_data",
          "data": {
            "image/png": "[encoded data removed]",
            "text/plain": [
              "<Figure size 576x396 with 1 Axes>"
            ]
          },
          "metadata": {
            "tags": []
          }
        }
      ]
    },
    {
      "metadata": {
        "id": "1y7LkkXDcJL-",
        "colab_type": "code",
        "outputId": "f070684b-d617-4bb0-eaac-190ec230e85f",
        "colab": {
          "base_uri": "https://localhost:8080/",
          "height": 319
        }
      },
      "cell_type": "code",
      "source": [
        "print(len(tag_counts[0:2500:10]),tag_counts[0:2500:10])"
      ],
      "execution_count": 0,
      "outputs": [
        {
          "output_type": "stream",
          "text": [
            "250 [7663 2879 1597  868  667  528  482  444  370  334  316  289  272  255\n",
            "  246  239  227  220  213  201  190  181  174  169  161  153  148  141\n",
            "  136  131  126  122  117  114  111  109  107  105  103  101   98   97\n",
            "   94   92   90   88   87   85   83   82   81   80   79   78   77   75\n",
            "   74   72   70   70   69   68   66   65   64   64   63   62   61   60\n",
            "   60   59   57   57   55   55   54   53   52   51   51   50   49   49\n",
            "   49   48   47   47   46   45   44   44   43   42   42   42   41   40\n",
            "   40   39   39   38   38   38   37   37   36   36   36   35   35   35\n",
            "   35   34   34   34   33   33   33   33   33   32   32   32   31   31\n",
            "   31   30   30   30   30   29   29   29   29   28   28   28   28   27\n",
            "   27   27   27   27   26   26   26   26   26   25   25   25   25   25\n",
            "   25   24   24   24   24   24   23   23   23   23   23   23   23   22\n",
            "   22   22   22   22   22   22   21   21   21   21   21   21   21   21\n",
            "   20   20   20   20   20   20   20   19   19   19   19   19   19   19\n",
            "   19   19   18   18   18   18   18   18   18   18   18   18   18   17\n",
            "   17   17   17   17   17   17   17   17   17   17   16   16   16   16\n",
            "   16   16   16   16   16   16   16   15   15   15   15   15   15   15\n",
            "   15   15   15   15   14   14   14   14   14   14   14   14]\n"
          ],
          "name": "stdout"
        }
      ]
    },
    {
      "metadata": {
        "id": "Rrawj59ccmwa",
        "colab_type": "code",
        "outputId": "c5cfab66-8e96-4b69-d76e-7a70929b6f99",
        "colab": {
          "base_uri": "https://localhost:8080/",
          "height": 376
        }
      },
      "cell_type": "code",
      "source": [
        "plt.plot(tag_counts[0:500])\n",
        "plt.title('first 0.5k tags: Distribution of Frequency of tag')\n",
        "plt.xlabel(\"Tag number\")\n",
        "plt.ylabel(\"Frequency of tag\")\n",
        "plt.grid(color='r', linestyle='-', linewidth=0.1)\n",
        "plt.show()"
      ],
      "execution_count": 0,
      "outputs": [
        {
          "output_type": "display_data",
          "data": {
            "image/png": "[encoded data removed]",
            "text/plain": [
              "<Figure size 576x396 with 1 Axes>"
            ]
          },
          "metadata": {
            "tags": []
          }
        }
      ]
    },
    {
      "metadata": {
        "id": "owtPpsbfd8Kl",
        "colab_type": "code",
        "outputId": "55490905-b3d3-4708-fc4d-20e9ac694e05",
        "colab": {
          "base_uri": "https://localhost:8080/",
          "height": 410
        }
      },
      "cell_type": "code",
      "source": [
        "plt.plot(tag_counts[0:100], c='b')\n",
        "plt.scatter(x=list(range(0,100,5)), y=tag_counts[0:100:5], c='orange', label=\"quantiles with 0.05 intervals\")\n",
        "# quantiles with 0.25 difference\n",
        "plt.scatter(x=list(range(0,100,25)), y=tag_counts[0:100:25], c='m', label = \"quantiles with 0.25 intervals\")\n",
        "\n",
        "for x,y in zip(list(range(0,100,25)), tag_counts[0:100:25]):\n",
        "    plt.annotate(s=\"({} , {})\".format(x,y), xy=(x,y), xytext=(x-0.05, y+500))\n",
        "\n",
        "plt.title('first 100 tags: Distribution of number of times tag appeared questions')\n",
        "plt.grid(color='r', linestyle='-', linewidth=0.1)\n",
        "plt.xlabel(\"Tag number\")\n",
        "plt.ylabel(\"Number of times tag appeared\")\n",
        "plt.legend()\n",
        "plt.show()\n",
        "print(len(tag_counts[0:100:5]), tag_counts[0:100:5])"
      ],
      "execution_count": 0,
      "outputs": [
        {
          "output_type": "display_data",
          "data": {
            "image/png": "[encoded data removed]",
            "text/plain": [
              "<Figure size 576x396 with 1 Axes>"
            ]
          },
          "metadata": {
            "tags": []
          }
        },
        {
          "output_type": "stream",
          "text": [
            "20 [7663 5091 2879 2177 1597 1051  868  744  667  592  528  506  482  461\n",
            "  444  406  370  355  334  325]\n"
          ],
          "name": "stdout"
        }
      ]
    },
    {
      "metadata": {
        "id": "rsiwolNZqGMe",
        "colab_type": "code",
        "colab": {}
      },
      "cell_type": "code",
      "source": [
        "#Store tags whose frequency is greater than 1000\n",
        "list_of_tags_gt_1k=[]\n",
        "for i in range(tag_df_sorted.shape[0]):\n",
        "  if(tag_df_sorted.iloc[i].Counts >1000):\n",
        "    list_of_tags_gt_1k.append(tag_df_sorted.iloc[i].Tags)"
      ],
      "execution_count": 0,
      "outputs": []
    },
    {
      "metadata": {
        "id": "Y66TjurBfQLK",
        "colab_type": "code",
        "outputId": "d767abe3-520c-417c-b421-5442b2e3a753",
        "colab": {
          "base_uri": "https://localhost:8080/",
          "height": 34
        }
      },
      "cell_type": "code",
      "source": [
        "len(list_of_tags_gt_1k)"
      ],
      "execution_count": 0,
      "outputs": [
        {
          "output_type": "execute_result",
          "data": {
            "text/plain": [
              "27"
            ]
          },
          "metadata": {
            "tags": []
          },
          "execution_count": 36
        }
      ]
    },
    {
      "metadata": {
        "id": "SeaE7RuLrcLD",
        "colab_type": "code",
        "outputId": "09588faa-c6b0-429b-e7cd-56429d3f5c49",
        "colab": {
          "base_uri": "https://localhost:8080/",
          "height": 34
        }
      },
      "cell_type": "code",
      "source": [
        "print(\"tag = \",list_of_tags_gt_1k[0],\" has max Frequency= \",tag_counts[0])"
      ],
      "execution_count": 0,
      "outputs": [
        {
          "output_type": "stream",
          "text": [
            "tag =  c#  has max Frequency=  7663\n"
          ],
          "name": "stdout"
        }
      ]
    },
    {
      "metadata": {
        "id": "xkWT9Nl1sQ-A",
        "colab_type": "text"
      },
      "cell_type": "markdown",
      "source": [
        "**Observation:**\n",
        "1. tag 'C# ' has max frequency 7663\n",
        "2. 27 tag is tagged in more than 1000 question.\n",
        "3. Since some tags occur much more frequenctly than others, Micro-averaged F1-score is the appropriate metric for this probelm."
      ]
    },
    {
      "metadata": {
        "id": "M4uRNjqbs1go",
        "colab_type": "text"
      },
      "cell_type": "markdown",
      "source": [
        "**3.2.4 Tags Per Question**"
      ]
    },
    {
      "metadata": {
        "id": "jc-Ug8QHsme5",
        "colab_type": "code",
        "colab": {}
      },
      "cell_type": "code",
      "source": [
        "#Storing tag_counts in a list\n",
        "tag_cnt_que=tag_train_bows.sum(axis=1).tolist()\n",
        "\n",
        "## 'tag_count_que' is list of list \n",
        "tag_count_que=[]\n",
        "for li in tag_cnt_que:\n",
        "  for x in li:\n",
        "    tag_count_que.append(int(x))"
      ],
      "execution_count": 0,
      "outputs": []
    },
    {
      "metadata": {
        "id": "jLqhMGOsvIqT",
        "colab_type": "code",
        "outputId": "1e75dc5c-2d26-49b4-a678-dc837ef39333",
        "colab": {
          "base_uri": "https://localhost:8080/",
          "height": 67
        }
      },
      "cell_type": "code",
      "source": [
        "print( \"Maximum number of tags per question: %d\"%max(tag_count_que))\n",
        "print( \"Minimum number of tags per question: %d\"%min(tag_count_que))\n",
        "print( \"Avg. number of tags per question: %f\"% ((sum(tag_count_que)*1.0)/len(tag_count_que)))"
      ],
      "execution_count": 0,
      "outputs": [
        {
          "output_type": "stream",
          "text": [
            "Maximum number of tags per question: 5\n",
            "Minimum number of tags per question: 1\n",
            "Avg. number of tags per question: 2.885444\n"
          ],
          "name": "stdout"
        }
      ]
    },
    {
      "metadata": {
        "id": "tbrV6jgoyXhC",
        "colab_type": "code",
        "outputId": "7c68208d-b8d2-4965-d16b-a7af7c285c9a",
        "colab": {
          "base_uri": "https://localhost:8080/",
          "height": 376
        }
      },
      "cell_type": "code",
      "source": [
        "sns.countplot(tag_count_que,palette='gist_rainbow')\n",
        "plt.title(\"Number of tags in the questions \")\n",
        "plt.xlabel(\"Number of Tags\")\n",
        "plt.ylabel(\"Number of questions\")\n",
        "plt.show()\n",
        "\n",
        "#Note:- 'countplot' is used to plot categorical data\n",
        "#Note:- palette='gist_rainbow' result in very good color effect"
      ],
      "execution_count": 0,
      "outputs": [
        {
          "output_type": "display_data",
          "data": {
            "image/png": "[encoded data removed]",
            "text/plain": [
              "<Figure size 576x396 with 1 Axes>"
            ]
          },
          "metadata": {
            "tags": []
          }
        }
      ]
    },
    {
      "metadata": {
        "id": "USd7Xy1XcQZI",
        "colab_type": "text"
      },
      "cell_type": "markdown",
      "source": [
        "**3.2.5 Most Frequent Tags**"
      ]
    },
    {
      "metadata": {
        "id": "9GT1utT4fo5z",
        "colab_type": "code",
        "outputId": "d05b611b-3076-44df-eaca-eef90901569e",
        "colab": {
          "base_uri": "https://localhost:8080/",
          "height": 470
        }
      },
      "cell_type": "code",
      "source": [
        "wordcloud=WordCloud(background_color='black',width=1600,height=800).generate_from_frequencies(result)\n",
        "fig=plt.figure(figsize=(15,15))\n",
        "plt.imshow(wordcloud)\n",
        "plt.axis('off')\n",
        "fig.savefig(\"tag.png\")\n",
        "plt.show()"
      ],
      "execution_count": 0,
      "outputs": [
        {
          "output_type": "display_data",
          "data": {
            "image/png": "[encoded data removed]",
            "text/plain": [
              "<Figure size 1080x1080 with 1 Axes>"
            ]
          },
          "metadata": {
            "tags": []
          }
        }
      ]
    },
    {
      "metadata": {
        "id": "dv2omKacjdkb",
        "colab_type": "text"
      },
      "cell_type": "markdown",
      "source": [
        "**Observations:**\n",
        "\n",
        "A look at the word cloud shows that \"c#\", \"java\", \"php\", \"asp.net\", \"javascript\", \"c++\" are some of the most frequent tags."
      ]
    },
    {
      "metadata": {
        "id": "gRyCkZ6mcVWj",
        "colab_type": "code",
        "colab": {}
      },
      "cell_type": "code",
      "source": [
        "#Download image\n",
        "from google.colab import files\n",
        "files.download('tag.png')"
      ],
      "execution_count": 0,
      "outputs": []
    },
    {
      "metadata": {
        "id": "I_bLPVlUjcg8",
        "colab_type": "text"
      },
      "cell_type": "markdown",
      "source": [
        "**3.2.6 The top 20 tags**"
      ]
    },
    {
      "metadata": {
        "id": "X--GPMfUkqlQ",
        "colab_type": "code",
        "colab": {}
      },
      "cell_type": "code",
      "source": [
        "tag_df_sorted.head(20)\n",
        "top_20_tags=list(tag_df_sorted['Tags'][0:20])\n",
        "top_20_freq=list(tag_df_sorted['Counts'][0:20])\n"
      ],
      "execution_count": 0,
      "outputs": []
    },
    {
      "metadata": {
        "id": "yMiFRR_KfMQu",
        "colab_type": "code",
        "outputId": "e62a091e-5964-4eea-eec1-65caaf3b71cd",
        "colab": {
          "base_uri": "https://localhost:8080/",
          "height": 369
        }
      },
      "cell_type": "code",
      "source": [
        "fig=plt.figure(figsize=(17,5))\n",
        "plt.title('Frequency of top 20 tags')\n",
        "plt.xlabel('Tags')\n",
        "plt.ylabel('Counts')\n",
        "plt.bar(top_20_tags,top_20_freq)\n",
        "plt.show()"
      ],
      "execution_count": 0,
      "outputs": [
        {
          "output_type": "display_data",
          "data": {
            "image/png": "[encoded data removed]",
            "text/plain": [
              "<Figure size 1224x360 with 1 Axes>"
            ]
          },
          "metadata": {
            "tags": []
          }
        }
      ]
    },
    {
      "metadata": {
        "id": "nIwFQmO_oHO4",
        "colab_type": "text"
      },
      "cell_type": "markdown",
      "source": [
        "\n",
        "**Observations:**\n",
        "\n",
        "1.Majority of the most frequent tags are programming language.\n",
        "\n",
        "2.C# is the top most frequent programming language.\n",
        "\n",
        "3.Android, IOS, Linux and windows are among the top most frequent operating systems."
      ]
    },
    {
      "metadata": {
        "id": "prgQ4ZxQoQ6p",
        "colab_type": "text"
      },
      "cell_type": "markdown",
      "source": [
        "# 3.3 Cleaning and preprocessing of Questions\n",
        "\n",
        "**3.3.1 Preprocessing**\n",
        "\n",
        "1.Sample 100k data points(Already done)\n",
        "\n",
        "2.Separate out code-snippets from Body\n",
        "\n",
        "3.Remove Spcial characters from Question title and description (not in code)\n",
        "\n",
        "4.Remove stop words (Except 'C')\n",
        "\n",
        "5.Remove HTML Tags\n",
        "\n",
        "6.Convert all the characters into small letters\n",
        "\n",
        "7.Use SnowballStemmer to stem the words"
      ]
    },
    {
      "metadata": {
        "id": "e0tbY3PaomSE",
        "colab_type": "code",
        "colab": {}
      },
      "cell_type": "code",
      "source": [
        "from bs4 import BeautifulSoup\n",
        "def removehtml(data):\n",
        "  clean_text=BeautifulSoup(data,'lxml').text\n",
        "  return clean_text"
      ],
      "execution_count": 0,
      "outputs": []
    },
    {
      "metadata": {
        "id": "UpWa_Tfqp2h6",
        "colab_type": "code",
        "outputId": "123a3f98-3af5-449f-dd2d-4572f15517f0",
        "colab": {
          "base_uri": "https://localhost:8080/",
          "height": 50
        }
      },
      "cell_type": "code",
      "source": [
        "from nltk.corpus import stopwords\n",
        "import nltk\n",
        "nltk.download('stopwords')\n",
        "stop=set(stopwords.words('english'))\n",
        "#Not implementin Snowball Stemmer as datasize is less"
      ],
      "execution_count": 0,
      "outputs": [
        {
          "output_type": "stream",
          "text": [
            "[nltk_data] Downloading package stopwords to /root/nltk_data...\n",
            "[nltk_data]   Unzipping corpora/stopwords.zip.\n"
          ],
          "name": "stdout"
        }
      ]
    },
    {
      "metadata": {
        "id": "h49slH1K0NQH",
        "colab_type": "code",
        "colab": {}
      },
      "cell_type": "code",
      "source": [
        "def create_connection(db_file):\n",
        "  try:\n",
        "    conn=sqlite3.connect(db_file)\n",
        "    return conn\n",
        "  except Error as e:\n",
        "    print(e)\n",
        "  return None"
      ],
      "execution_count": 0,
      "outputs": []
    },
    {
      "metadata": {
        "id": "PwVYlKjODXrB",
        "colab_type": "code",
        "colab": {}
      },
      "cell_type": "code",
      "source": [
        "def create_table(conn,query):\n",
        "  try:\n",
        "    c=conn.cursor()\n",
        "    c.execute(query)\n",
        "  except Error as e:\n",
        "    print(e)\n",
        "  return None"
      ],
      "execution_count": 0,
      "outputs": []
    },
    {
      "metadata": {
        "id": "y-etN8YqEPrx",
        "colab_type": "code",
        "colab": {}
      },
      "cell_type": "code",
      "source": [
        "def checkTableExists(conn):\n",
        "  cursr=conn.cursor()\n",
        "  query=\"SELECT name FROM sqlite_master WHERE TYPE='table' \"\n",
        "  table_names=cursr.execute(query)\n",
        "  print(\"Tables in the database: \")\n",
        "  tables=table_names.fetchall()\n",
        "  print(tables[0][0])\n",
        "  return(len(tables))"
      ],
      "execution_count": 0,
      "outputs": []
    },
    {
      "metadata": {
        "id": "QchQYXPAHjE5",
        "colab_type": "code",
        "colab": {}
      },
      "cell_type": "code",
      "source": [
        "def create_database_table(database,query):\n",
        "  conn=create_connection(database)\n",
        "  if conn is not None:\n",
        "    create_table(conn,query)\n",
        "    checkTableExists(conn)\n",
        "  else:\n",
        "    print(\"Error!database is not created\")\n",
        "  conn.close()"
      ],
      "execution_count": 0,
      "outputs": []
    },
    {
      "metadata": {
        "id": "NCHbb1SIJGEn",
        "colab_type": "code",
        "outputId": "44e88ecd-2c1e-4b11-881b-d6a5a8d6ca99",
        "colab": {
          "base_uri": "https://localhost:8080/",
          "height": 50
        }
      },
      "cell_type": "code",
      "source": [
        "query = \"\"\"CREATE TABLE IF NOT EXISTS QuestionsProcessed (question text NOT NULL, code text, tags text, words_pre integer, words_post integer, is_code integer);\"\"\"\n",
        "create_database_table(\"Processed.db\",query)"
      ],
      "execution_count": 0,
      "outputs": [
        {
          "output_type": "stream",
          "text": [
            "Tables in the database: \n",
            "QuestionsProcessed\n"
          ],
          "name": "stdout"
        }
      ]
    },
    {
      "metadata": {
        "id": "4Zi5MsSfJhsb",
        "colab_type": "code",
        "outputId": "89192f59-e440-41f1-a2c4-23d4441b48df",
        "colab": {
          "base_uri": "https://localhost:8080/",
          "height": 67
        }
      },
      "cell_type": "code",
      "source": [
        "read_db = 'database_final.db'\n",
        "write_db = 'Processed.db'\n",
        "if os.path.isfile(read_db):\n",
        "  conn_read=create_connection(read_db)\n",
        "  if conn_read is not None:\n",
        "    reader=conn_read.cursor()\n",
        "    query=\"SELECT Title,Body,Tags FROM DTable\"\n",
        "    reader.execute(query)\n",
        "else:\n",
        "  print(\"None\")\n",
        "if os.path.isfile(write_db):\n",
        "  conn_w=create_connection(write_db)\n",
        "  if conn_w is not None:\n",
        "    tables=checkTableExists(conn_w)\n",
        "    writer=conn_w.cursor()\n",
        "    if tables !=0:\n",
        "      writer.execute(\"DELETE FROM QuestionsProcessed WHERE 1\")\n",
        "      print(\"Cleared All the ROWS\")"
      ],
      "execution_count": 0,
      "outputs": [
        {
          "output_type": "stream",
          "text": [
            "Tables in the database: \n",
            "QuestionsProcessed\n",
            "Cleared All the ROWS\n"
          ],
          "name": "stdout"
        }
      ]
    },
    {
      "metadata": {
        "id": "OMNiImRzM5cU",
        "colab_type": "text"
      },
      "cell_type": "markdown",
      "source": [
        "**we create a new data base to store preprocessed questions**"
      ]
    },
    {
      "metadata": {
        "id": "SLOuhEsrWeIx",
        "colab_type": "code",
        "outputId": "8eee7a8b-ea3b-4001-edd0-dcc86ed28948",
        "colab": {
          "base_uri": "https://localhost:8080/",
          "height": 67
        }
      },
      "cell_type": "code",
      "source": [
        "import re\n",
        "from bs4 import BeautifulSoup\n",
        "stemmer = SnowballStemmer(\"english\")\n",
        "nltk.download('punkt')"
      ],
      "execution_count": 0,
      "outputs": [
        {
          "output_type": "stream",
          "text": [
            "[nltk_data] Downloading package punkt to /root/nltk_data...\n",
            "[nltk_data]   Unzipping tokenizers/punkt.zip.\n"
          ],
          "name": "stdout"
        },
        {
          "output_type": "execute_result",
          "data": {
            "text/plain": [
              "True"
            ]
          },
          "metadata": {
            "tags": []
          },
          "execution_count": 53
        }
      ]
    },
    {
      "metadata": {
        "id": "jWskXNp_M8yV",
        "colab_type": "code",
        "outputId": "a4d161f6-40cb-43e5-8a4d-5f1c032326f7",
        "colab": {
          "base_uri": "https://localhost:8080/",
          "height": 84
        }
      },
      "cell_type": "code",
      "source": [
        "start = datetime.now()\n",
        "preprocessed_data_list=[]\n",
        "reader.fetchone()\n",
        "questions_with_code=0\n",
        "len_pre=0\n",
        "len_post=0\n",
        "questions_proccesed = 0\n",
        "\n",
        "for row in reader :\n",
        "  is_code=0\n",
        "  title,question,tags=row[0],row[1],str(row[2])\n",
        "  if '<code>' in question:\n",
        "    questions_with_code+=1\n",
        "    is_code = 1\n",
        "  x = len(question)+len(title)\n",
        "  len_pre+=x\n",
        "  code = str(re.findall(r'<code>(.*?)</code>', question, flags=re.DOTALL))\n",
        "  question=re.sub('<code>(.*?)</code>', '', question, flags=re.MULTILINE|re.DOTALL)\n",
        "  question=removehtml(question.encode('utf-8'))\n",
        "  title=title.encode('utf-8')\n",
        "  question=str(title)+\" \"+str(title)+\" \"+str(title)+\" \"+question\n",
        "  question=re.sub(r'[^A-Za-z0-9#+.\\-]+',' ',question)\n",
        "  words=word_tokenize(str(question.lower()))\n",
        "  #Removing all single letter and and stopwords from question exceptt for the letter 'c'\n",
        "  question=' '.join(str(stemmer.stem(j)) for j in words if j not in stop and (len(j)!=1 or j=='c'))\n",
        "  len_post+=len(question)\n",
        "  tup = (question,code,tags,x,len(question),is_code)\n",
        "  questions_proccesed += 1\n",
        "  writer.execute(\"insert into QuestionsProcessed(question,code,tags,words_pre,words_post,is_code) values (?,?,?,?,?,?)\",tup)\n",
        "  if (questions_proccesed%100000==0):\n",
        "    print(\"number of questions completed=\",questions_proccesed)\n",
        "\n",
        "no_dup_avg_len_pre=(len_pre*1.0)/questions_proccesed\n",
        "no_dup_avg_len_post=(len_post*1.0)/questions_proccesed\n",
        "\n",
        "print( \"Avg. length of questions(Title+Body) before processing: %d\"%no_dup_avg_len_pre)\n",
        "print( \"Avg. length of questions(Title+Body) after processing: %d\"%no_dup_avg_len_post)\n",
        "print (\"Percent of questions containing code: %d\"%((questions_with_code*100.0)/questions_proccesed))\n",
        "\n",
        "print(\"Time taken to run this cell :\", datetime.now() - start)\n"
      ],
      "execution_count": 0,
      "outputs": [
        {
          "output_type": "stream",
          "text": [
            "Avg. length of questions(Title+Body) before processing: 1149\n",
            "Avg. length of questions(Title+Body) after processing: 406\n",
            "Percent of questions containing code: 56\n",
            "Time taken to run this cell : 0:05:09.317232\n"
          ],
          "name": "stdout"
        }
      ]
    },
    {
      "metadata": {
        "id": "_9EFGb1hCzNN",
        "colab_type": "code",
        "colab": {}
      },
      "cell_type": "code",
      "source": [
        "# dont forget to close the connections, or else you will end up with locks\n",
        "conn_read.commit()\n",
        "conn_w.commit()\n",
        "conn_read.close()\n",
        "conn_w.close()"
      ],
      "execution_count": 0,
      "outputs": []
    },
    {
      "metadata": {
        "id": "HI64DlbCDQqG",
        "colab_type": "code",
        "outputId": "933814f5-c031-482e-f5a7-7643cc73bba7",
        "colab": {
          "base_uri": "https://localhost:8080/",
          "height": 373
        }
      },
      "cell_type": "code",
      "source": [
        "if os.path.isfile(write_db):\n",
        "  conn_read=create_connection(write_db)\n",
        "  if conn_read is not None:\n",
        "    reader=conn_read.cursor()\n",
        "    reader.execute(\"SELECT question FROM QuestionsProcessed LIMIT 10\")\n",
        "    print(\"Questions after Preprocessed\")\n",
        "    print(\"=\"*100)\n",
        "    reader.fetchone()\n",
        "    for row in reader :\n",
        "      print(row)\n",
        "      print('-'*100)\n",
        "conn_read.commit()\n",
        "conn_read.close()"
      ],
      "execution_count": 0,
      "outputs": [
        {
          "output_type": "stream",
          "text": [
            "Questions after Preprocessed\n",
            "====================================================================================================\n",
            "('count invers document frequenc idf everi document count invers document frequenc idf everi document count invers document frequenc idf everi document wan na count idf formula total data mani data contain search word tabl 1. code function countndw work well especi call databas need count everi defin code pleas help me.. thank much',)\n",
            "----------------------------------------------------------------------------------------------------\n",
            "('frameview flip anim imag scale frameview flip anim imag scale frameview flip anim imag scale seem work got wrong ... got card game build flip turn card text view display inform follow main.xml layout also follow two xml file hold card imag pre post flip within frameview per http www.inter-fuser.com 2009 08 android-animations-3d-flip.html first card.xm land second card.xml ident save id valu problem imag file use 350 pixel tall despit use main scale fit screen tri use valu everi place think work besid want put hard code pixel limit view feel like resiz automat help great appreci thank mark',)\n",
            "----------------------------------------------------------------------------------------------------\n",
            "('go java classic asp vb go java classic asp vb go java classic asp vb right work small team larg compani java j2ee web applic origin skillset area start get hang thing get respons team howev team bit limbo unsur futur direct flagship applic j2ee major team group work mainfram applic opportun brought attent anoth team opportun career growth work sever peopl alreadi know problem applic support quit legaci run classic asp littl push move newer technolog techniqu part think move would possibl stagnat skill develop work legaci app legaci languag work pick asp.net mvc python django etc obvious seem differ work area profession move legaci code base legaci platform hinder overal career want pidgeonhol move ...',)\n",
            "----------------------------------------------------------------------------------------------------\n",
            "('insert custom field typo3 dam modul custom locat insert custom field typo3 dam modul custom locat insert custom field typo3 dam modul custom locat introduc custom field dam modul work fine want display custom field overview tab first tab edit document appear last tab ext tables.php line add field dam modul',)\n",
            "----------------------------------------------------------------------------------------------------\n",
            "('microsoft azur mvc web role start ad twiliocontrol base class inherit microsoft azur mvc web role start ad twiliocontrol base class inherit microsoft azur mvc web role start ad twiliocontrol base class inherit azur web role mvc project wont start twilio control class mvc app host ms azur publish azur web role problem ad nuget twilio twilio.mvc packag still publish azur web role problem ad class inherit mvc.twiliocontrol base class subsequ azur web role longer start remov twiliocontrol class inherit web role start project publish run twilio function fine local vs azur emul environ project refer twilio.api twilio.mvc twilio.twiml restsharp newtonsoft.json set copyloc true azur diagnost log trace enabl send tabl storag everi second log data avail web role fail start note comment twiliocontrol get abund log data azur diag configur correct web role continu abort cycl abort opportun rdp vm troubleshoot follow two error written fail web role window system event log everi minut applic belong site 1273337584 invalid apppoolid ca5c9ecb-e68d-4f3a-84c2-c0b4430373e9 set therefor applic ignor site 1273337584 disabl root applic defin site invalid see previous event log messag inform root applic invalid step reproduc exact step instal azur sdk 1.6 creat new project use azur templat visual studio 10 sp1 choos asp.net mvc web role build publish azur success web role start add nuget packag twilio version 3.3.2 add nuget packag twilio.mvc version 3.1.3 build publish azur success web role start creat empti control hellocontrol see code snippet add twiliocontrol base class e.g public class hellocontrol twiliocontrol build publish azur fail web role cyle abort cyle comment twiliocontrol e.g public class hellocontrol twiliocontrol buld publish azur success web role start idea appreci thank jim',)\n",
            "----------------------------------------------------------------------------------------------------\n",
            "('abl use constant defin servic class differ packag abl use constant defin servic class differ packag abl use constant defin servic class differ packag implement bound servic use messeng given http developer.android.com guid topic fundament bound-services.html tri access service.class servic name class service.const message.obtain bindservic activ class recogn servic class name class servic class differ packag activ class differ packag anyon pleas help fix error add jar file servic build path activ thank',)\n",
            "----------------------------------------------------------------------------------------------------\n",
            "('pickerdialog box wss3.0 pickerdialog box wss3.0 pickerdialog box wss3.0 need creat picker dialog box wss3.0 like asseturlselector pleas tell use pickerdialog.mast present c program file common file microsoft share web server extens 12 templat layout custom webpart',)\n",
            "----------------------------------------------------------------------------------------------------\n",
            "('problem if stream file ccsid problem if stream file ccsid problem if stream file ccsid tri run rpgle program use java method transfer java code xxxx.java file system window xp 400 if directori ftp transfer if file ccsid shown 819. compil .java file qsh error shown two class file generat i.e mailer.java -- -- mailer.class mailer 1.class call rpgle program java except shown ... java except receiv call java method c ... applic error rnx0301 unmonitor mailerdemo statement 000000500 saw mailer .java file if press option symbol like etc.. chang symbol plz suggest solut run program.how transfer .java file if without chang charact differ one ... thank advance.. nirmal detail ... .. system ccsid valu 819 job ccsid 273 java sourc code if directori java except shown run rpgle program new lerner pleas give solut easi understand manner',)\n",
            "----------------------------------------------------------------------------------------------------\n",
            "('string.format question string.format question string.format question format string use like abl indic want valu format fill certain amount space end exampl say follow like abl tell format function format valu less say 50 charact fill space 50 charact length done',)\n",
            "----------------------------------------------------------------------------------------------------\n"
          ],
          "name": "stdout"
        }
      ]
    },
    {
      "metadata": {
        "id": "an4OaKnNGLV7",
        "colab_type": "code",
        "colab": {}
      },
      "cell_type": "code",
      "source": [
        "write_db=\"Processed.db\"\n",
        "if os.path.isfile(write_db):\n",
        "  conn_read=create_connection(write_db)\n",
        "  if conn_read is not None:\n",
        "    preprocessed_data=pd.read_sql_query(\"\"\"SELECT question, Tags FROM QuestionsProcessed\"\"\", conn_read)\n",
        "else:\n",
        "  print(\"No write_db file\")\n",
        "conn_read.commit()\n",
        "conn_read.close()"
      ],
      "execution_count": 0,
      "outputs": []
    },
    {
      "metadata": {
        "id": "3yVRHfg1HI7x",
        "colab_type": "code",
        "outputId": "a7bfe078-11db-48f5-a410-48351a94b4ca",
        "colab": {
          "base_uri": "https://localhost:8080/",
          "height": 195
        }
      },
      "cell_type": "code",
      "source": [
        "preprocessed_data.head()"
      ],
      "execution_count": 0,
      "outputs": [
        {
          "output_type": "execute_result",
          "data": {
            "text/html": [
              "<div>\n",
              "<style scoped>\n",
              "    .dataframe tbody tr th:only-of-type {\n",
              "        vertical-align: middle;\n",
              "    }\n",
              "\n",
              "    .dataframe tbody tr th {\n",
              "        vertical-align: top;\n",
              "    }\n",
              "\n",
              "    .dataframe thead th {\n",
              "        text-align: right;\n",
              "    }\n",
              "</style>\n",
              "<table border=\"1\" class=\"dataframe\">\n",
              "  <thead>\n",
              "    <tr style=\"text-align: right;\">\n",
              "      <th></th>\n",
              "      <th>question</th>\n",
              "      <th>tags</th>\n",
              "    </tr>\n",
              "  </thead>\n",
              "  <tbody>\n",
              "    <tr>\n",
              "      <th>0</th>\n",
              "      <td>control lego wedo devic control lego wedo devi...</td>\n",
              "      <td>c# api lego</td>\n",
              "    </tr>\n",
              "    <tr>\n",
              "      <th>1</th>\n",
              "      <td>count invers document frequenc idf everi docum...</td>\n",
              "      <td>php</td>\n",
              "    </tr>\n",
              "    <tr>\n",
              "      <th>2</th>\n",
              "      <td>frameview flip anim imag scale frameview flip ...</td>\n",
              "      <td>android image layout resize scaling</td>\n",
              "    </tr>\n",
              "    <tr>\n",
              "      <th>3</th>\n",
              "      <td>go java classic asp vb go java classic asp vb ...</td>\n",
              "      <td>vb6 career-development legacy-code</td>\n",
              "    </tr>\n",
              "    <tr>\n",
              "      <th>4</th>\n",
              "      <td>insert custom field typo3 dam modul custom loc...</td>\n",
              "      <td>typo3 dam</td>\n",
              "    </tr>\n",
              "  </tbody>\n",
              "</table>\n",
              "</div>"
            ],
            "text/plain": [
              "                                            question  \\\n",
              "0  control lego wedo devic control lego wedo devi...   \n",
              "1  count invers document frequenc idf everi docum...   \n",
              "2  frameview flip anim imag scale frameview flip ...   \n",
              "3  go java classic asp vb go java classic asp vb ...   \n",
              "4  insert custom field typo3 dam modul custom loc...   \n",
              "\n",
              "                                  tags  \n",
              "0                          c# api lego  \n",
              "1                                  php  \n",
              "2  android image layout resize scaling  \n",
              "3   vb6 career-development legacy-code  \n",
              "4                            typo3 dam  "
            ]
          },
          "metadata": {
            "tags": []
          },
          "execution_count": 58
        }
      ]
    },
    {
      "metadata": {
        "id": "xC24iGtVHR2Y",
        "colab_type": "code",
        "outputId": "3fa8fff5-6cb6-40c5-aa0c-2b20cdbe2efd",
        "colab": {
          "base_uri": "https://localhost:8080/",
          "height": 50
        }
      },
      "cell_type": "code",
      "source": [
        "print(\"number of data points  :\", preprocessed_data.shape[0])\n",
        "print(\"number of features :\", preprocessed_data.shape[1])"
      ],
      "execution_count": 0,
      "outputs": [
        {
          "output_type": "stream",
          "text": [
            "number of data points  : 99461\n",
            "number of features : 2\n"
          ],
          "name": "stdout"
        }
      ]
    },
    {
      "metadata": {
        "id": "LzVR7ElfHeJK",
        "colab_type": "text"
      },
      "cell_type": "markdown",
      "source": [
        "# 4. Machine Learning Models\n",
        "# 4.1 Converting tags for multilabel problems\n",
        "\n"
      ]
    },
    {
      "metadata": {
        "id": "_FufnM30Hl8w",
        "colab_type": "code",
        "colab": {}
      },
      "cell_type": "code",
      "source": [
        "# binary='true' will give a binary vectorizer\n",
        "vectorizer = CountVectorizer(tokenizer = lambda x: x.split(), binary='true')\n",
        "multilabel_y = vectorizer.fit_transform(preprocessed_data['tags'])"
      ],
      "execution_count": 0,
      "outputs": []
    },
    {
      "metadata": {
        "id": "GLIZzWkGVoMT",
        "colab_type": "code",
        "outputId": "253f3a3d-1bbc-4f9d-dd0d-f6095b3844ac",
        "colab": {
          "base_uri": "https://localhost:8080/",
          "height": 50
        }
      },
      "cell_type": "code",
      "source": [
        "print(preprocessed_data.shape)\n",
        "print(multilabel_y.shape)"
      ],
      "execution_count": 0,
      "outputs": [
        {
          "output_type": "stream",
          "text": [
            "(99461, 2)\n",
            "(99461, 18364)\n"
          ],
          "name": "stdout"
        }
      ]
    },
    {
      "metadata": {
        "id": "VDz_o7EBXBG3",
        "colab_type": "code",
        "outputId": "5e3d8e3c-243e-4164-882f-e40f02f00648",
        "colab": {
          "base_uri": "https://localhost:8080/",
          "height": 50
        }
      },
      "cell_type": "code",
      "source": [
        "print(\"Total no of tags= \",multilabel_y.shape[1])\n",
        "print(\"Total no of questions= \",preprocessed_data.shape[0])"
      ],
      "execution_count": 0,
      "outputs": [
        {
          "output_type": "stream",
          "text": [
            "Total no of tags=  18364\n",
            "Total no of questions=  99461\n"
          ],
          "name": "stdout"
        }
      ]
    },
    {
      "metadata": {
        "id": "L1fhZKmlMTMx",
        "colab_type": "text"
      },
      "cell_type": "markdown",
      "source": [
        "**Selecting Most Frequent 500 Tags**"
      ]
    },
    {
      "metadata": {
        "id": "ssSx3A2lgm89",
        "colab_type": "code",
        "colab": {}
      },
      "cell_type": "code",
      "source": [
        "def tags_to_choose(n):\n",
        "  t=multilabel_y.sum(axis=0).tolist()[0]\n",
        "  sorted_tags_i=sorted(range(len(t)),key=lambda i:t[i],reverse=True)\n",
        "  multiple_yn=multilabel_y[:,sorted_tags_i[:n]]  \n",
        "  #matrix having all row contain the 0 or 1 values for n frequent tags as column\n",
        "  return multiple_yn\n",
        "def questions_explained_fn(n):\n",
        "  multiple_yn=tags_to_choose(n)\n",
        "  x=multiple_yn.sum(axis=1)\n",
        "  y=np.count_nonzero(x) \n",
        "  #y= no_of_que_containing_atleast_one_freq_tag\n",
        "  return y"
      ],
      "execution_count": 0,
      "outputs": []
    },
    {
      "metadata": {
        "id": "d4HnyMHwu-vr",
        "colab_type": "code",
        "colab": {}
      },
      "cell_type": "code",
      "source": [
        "questions_explained=[]\n",
        "total_tags=multilabel_y.shape[1]\n",
        "total_qs=preprocessed_data.shape[0]\n",
        "for i in range(500,total_tags,100):\n",
        "  questions_explained.append(np.round(((questions_explained_fn(i)/total_qs)*100),3))"
      ],
      "execution_count": 0,
      "outputs": []
    },
    {
      "metadata": {
        "id": "s7OqB-vhMjba",
        "colab_type": "code",
        "outputId": "b70a4aa6-0824-4dff-de10-a0b2f76e7c4c",
        "colab": {
          "base_uri": "https://localhost:8080/",
          "height": 361
        }
      },
      "cell_type": "code",
      "source": [
        "fig, ax = plt.subplots()\n",
        "ax.plot(questions_explained)\n",
        "xlabel = list(500+np.array(range(-50,450,50))*50)\n",
        "ax.set_xticklabels(xlabel)\n",
        "plt.xlabel(\"Number of tags\")\n",
        "plt.ylabel(\"%Questions coverd partially\")\n",
        "plt.show()"
      ],
      "execution_count": 0,
      "outputs": [
        {
          "output_type": "display_data",
          "data": {
            "image/png": "[encoded data removed]",
            "text/plain": [
              "<Figure size 576x396 with 1 Axes>"
            ]
          },
          "metadata": {
            "tags": []
          }
        }
      ]
    },
    {
      "metadata": {
        "id": "wX2BiAVtCijD",
        "colab_type": "text"
      },
      "cell_type": "markdown",
      "source": [
        "**Observation:**\n",
        "\n",
        "1.with 5500 tags we are covering 99.9% questions_explained\n",
        "\n",
        "2.with 500 tags we are covering 90% questions_explained\n"
      ]
    },
    {
      "metadata": {
        "id": "0rYOOFl_FtKb",
        "colab_type": "code",
        "outputId": "5e408129-e6af-48c0-ec40-a4cad50a7082",
        "colab": {
          "base_uri": "https://localhost:8080/",
          "height": 34
        }
      },
      "cell_type": "code",
      "source": [
        "# we will be taking 500 tags\n",
        "multilabel_yx = tags_to_choose(500)\n",
        "print(\"number of questions that are not covered :\", questions_explained_fn(500),\"out of \", total_qs)"
      ],
      "execution_count": 0,
      "outputs": [
        {
          "output_type": "stream",
          "text": [
            "number of questions that are not covered : 89393 out of  99461\n"
          ],
          "name": "stdout"
        }
      ]
    },
    {
      "metadata": {
        "id": "5bT8pXChHhd8",
        "colab_type": "code",
        "outputId": "aef01940-c056-49a8-c192-cee1d5c264bc",
        "colab": {
          "base_uri": "https://localhost:8080/",
          "height": 34
        }
      },
      "cell_type": "code",
      "source": [
        "preprocessed_data.shape"
      ],
      "execution_count": 0,
      "outputs": [
        {
          "output_type": "execute_result",
          "data": {
            "text/plain": [
              "(99461, 2)"
            ]
          },
          "metadata": {
            "tags": []
          },
          "execution_count": 67
        }
      ]
    },
    {
      "metadata": {
        "id": "GQWgetrlGIsl",
        "colab_type": "code",
        "colab": {}
      },
      "cell_type": "code",
      "source": [
        "x_train=preprocessed_data[0:79568]\n",
        "x_test=preprocessed_data[79568:99461]\n",
        "y_train=multilabel_yx[0:79568,:]\n",
        "y_test=multilabel_yx[79568:99461,:]"
      ],
      "execution_count": 0,
      "outputs": []
    },
    {
      "metadata": {
        "id": "myWTwVJOHM4_",
        "colab_type": "code",
        "outputId": "aa0b222c-e63e-4ad0-b193-ca12f7256a33",
        "colab": {
          "base_uri": "https://localhost:8080/",
          "height": 34
        }
      },
      "cell_type": "code",
      "source": [
        "#x_test=preprocessed_data[80000:100000]\n",
        "x_test.shape"
      ],
      "execution_count": 0,
      "outputs": [
        {
          "output_type": "execute_result",
          "data": {
            "text/plain": [
              "(19893, 2)"
            ]
          },
          "metadata": {
            "tags": []
          },
          "execution_count": 69
        }
      ]
    },
    {
      "metadata": {
        "id": "MR3mNMabGSKx",
        "colab_type": "code",
        "outputId": "d58f4465-db8a-4c3a-d679-82d96310ff60",
        "colab": {
          "base_uri": "https://localhost:8080/",
          "height": 84
        }
      },
      "cell_type": "code",
      "source": [
        "print(x_train.shape)\n",
        "print(x_test.shape)\n",
        "print(y_train.shape)\n",
        "print(y_test.shape)"
      ],
      "execution_count": 0,
      "outputs": [
        {
          "output_type": "stream",
          "text": [
            "(79568, 2)\n",
            "(19893, 2)\n",
            "(79568, 500)\n",
            "(19893, 500)\n"
          ],
          "name": "stdout"
        }
      ]
    },
    {
      "metadata": {
        "id": "P2rNhSUYIhlh",
        "colab_type": "text"
      },
      "cell_type": "markdown",
      "source": [
        "# 4.5.2 Featurizing data with BOWs"
      ]
    },
    {
      "metadata": {
        "id": "m0VDii1XPK4j",
        "colab_type": "code",
        "outputId": "d1802d08-28e0-4faf-f9df-62aa4b4f0e44",
        "colab": {
          "base_uri": "https://localhost:8080/",
          "height": 118
        }
      },
      "cell_type": "code",
      "source": [
        "preprocessed_data['question'].head()"
      ],
      "execution_count": 0,
      "outputs": [
        {
          "output_type": "execute_result",
          "data": {
            "text/plain": [
              "0    control lego wedo devic control lego wedo devi...\n",
              "1    count invers document frequenc idf everi docum...\n",
              "2    frameview flip anim imag scale frameview flip ...\n",
              "3    go java classic asp vb go java classic asp vb ...\n",
              "4    insert custom field typo3 dam modul custom loc...\n",
              "Name: question, dtype: object"
            ]
          },
          "metadata": {
            "tags": []
          },
          "execution_count": 71
        }
      ]
    },
    {
      "metadata": {
        "id": "98G2rBUtQOEo",
        "colab_type": "code",
        "colab": {}
      },
      "cell_type": "code",
      "source": [
        "from sklearn.feature_extraction.text import CountVectorizer"
      ],
      "execution_count": 0,
      "outputs": []
    },
    {
      "metadata": {
        "id": "IL07t6iOIX9_",
        "colab_type": "code",
        "outputId": "3e8cac08-f907-447e-e320-d85b3962a40c",
        "colab": {
          "base_uri": "https://localhost:8080/",
          "height": 34
        }
      },
      "cell_type": "code",
      "source": [
        "start = datetime.now()\n",
        "count_vector=CountVectorizer(min_df=0.00009,tokenizer = lambda x: x.split(),ngram_range=(1,4))\n",
        "count_vector.fit(x_train['question'])\n",
        "train_bows=count_vector.transform(x_train['question'])\n",
        "test_bows=count_vector.transform(x_test['question'])\n",
        "print(\"Time taken to run this cell :\", datetime.now() - start)"
      ],
      "execution_count": 0,
      "outputs": [
        {
          "output_type": "stream",
          "text": [
            "Time taken to run this cell : 0:01:53.603204\n"
          ],
          "name": "stdout"
        }
      ]
    },
    {
      "metadata": {
        "id": "86F7I9UUZRZa",
        "colab_type": "code",
        "outputId": "4a897abf-3b5e-4da0-84b2-057db9099a4c",
        "colab": {
          "base_uri": "https://localhost:8080/",
          "height": 50
        }
      },
      "cell_type": "code",
      "source": [
        "print(\"Shape of Train Data X: \",train_bows.shape,\" Y: \",y_train.shape)\n",
        "print(\"Shape of Test Data X: \",test_bows.shape,\" Y: \",y_test.shape)"
      ],
      "execution_count": 0,
      "outputs": [
        {
          "output_type": "stream",
          "text": [
            "Shape of Train Data X:  (79568, 89272)  Y:  (79568, 500)\n",
            "Shape of Test Data X:  (19893, 89272)  Y:  (19893, 500)\n"
          ],
          "name": "stdout"
        }
      ]
    },
    {
      "metadata": {
        "id": "ed_8bRCBaSKC",
        "colab_type": "text"
      },
      "cell_type": "markdown",
      "source": [
        "# Q-3 Applying Logistic Regression with OneVsRest Classifier"
      ]
    },
    {
      "metadata": {
        "id": "4Ziy6epPa6JX",
        "colab_type": "code",
        "outputId": "98fd8919-2414-4904-af38-eb3aa955a2db",
        "colab": {
          "base_uri": "https://localhost:8080/",
          "height": 34
        }
      },
      "cell_type": "code",
      "source": [
        "clf=OneVsRestClassifier(SGDClassifier(loss='hinge',alpha=0.00001,penalty='l1'),n_jobs=-1)\n",
        "clf.fit(train_bows,y_train)\n",
        "y_pred=clf.predict(test_bows)\n",
        "print(\"Accuracy :\",metrics.accuracy_score(y_test,y_pred))"
      ],
      "execution_count": 0,
      "outputs": [
        {
          "output_type": "stream",
          "text": [
            "Accuracy : 0.12230432815563264\n"
          ],
          "name": "stdout"
        }
      ]
    },
    {
      "metadata": {
        "id": "KzIcgAbieV_N",
        "colab_type": "code",
        "outputId": "1c803bf7-08f9-4e55-8c90-e4eda626b302",
        "colab": {
          "base_uri": "https://localhost:8080/",
          "height": 8602
        }
      },
      "cell_type": "code",
      "source": [
        "print(\"Hemming :\",metrics.hamming_loss(y_test,y_pred))\n",
        "precision=precision_score(y_test,y_pred,average='micro')\n",
        "recall=recall_score(y_test,y_pred,average='micro')\n",
        "f1=f1_score(y_test,y_pred,average='micro')\n",
        "print(\"Micro-average quality numbers\")\n",
        "print(\"Precision: %.4f\" %precision,\" Recall: %.4f\" %recall,\" F1_score: %.4f\" %f1)\n",
        "print (metrics.classification_report(y_test, y_pred))"
      ],
      "execution_count": 0,
      "outputs": [
        {
          "output_type": "stream",
          "text": [
            "Hemming : 0.00584667973659076\n",
            "Micro-average quality numbers\n",
            "Precision: 0.3004  Recall: 0.4808  F1_score: 0.3698\n",
            "              precision    recall  f1-score   support\n",
            "\n",
            "           0       0.42      0.45      0.44      1209\n",
            "           1       0.51      0.57      0.53      1272\n",
            "           2       0.60      0.63      0.61      1529\n",
            "           3       0.51      0.53      0.52      1505\n",
            "           4       0.73      0.79      0.76      1027\n",
            "           5       0.76      0.76      0.76      1809\n",
            "           6       0.55      0.62      0.58       751\n",
            "           7       0.56      0.65      0.60       851\n",
            "           8       0.64      0.66      0.65       657\n",
            "           9       0.49      0.57      0.53       524\n",
            "          10       0.55      0.69      0.61       582\n",
            "          11       0.29      0.31      0.30       655\n",
            "          12       0.19      0.23      0.21       390\n",
            "          13       0.33      0.43      0.37       356\n",
            "          14       0.28      0.42      0.34       489\n",
            "          15       0.50      0.60      0.55       488\n",
            "          16       0.39      0.50      0.44       583\n",
            "          17       0.29      0.36      0.32       444\n",
            "          18       0.50      0.55      0.52       390\n",
            "          19       0.18      0.20      0.19       358\n",
            "          20       0.32      0.37      0.35       409\n",
            "          21       0.22      0.38      0.28       156\n",
            "          22       0.37      0.52      0.43       225\n",
            "          23       0.40      0.62      0.49       135\n",
            "          24       0.48      0.61      0.54       282\n",
            "          25       0.35      0.50      0.41       307\n",
            "          26       0.36      0.47      0.41       246\n",
            "          27       0.11      0.18      0.14       158\n",
            "          28       0.57      0.72      0.63       205\n",
            "          29       0.21      0.41      0.28       122\n",
            "          30       0.20      0.35      0.25       117\n",
            "          31       0.33      0.43      0.38       260\n",
            "          32       0.63      0.80      0.70       179\n",
            "          33       0.29      0.41      0.34       156\n",
            "          34       0.25      0.36      0.29       159\n",
            "          35       0.37      0.55      0.44       169\n",
            "          36       0.26      0.47      0.34       126\n",
            "          37       0.27      0.45      0.34       132\n",
            "          38       0.35      0.58      0.44       115\n",
            "          39       0.52      0.64      0.57       131\n",
            "          40       0.14      0.32      0.20       123\n",
            "          41       0.24      0.32      0.28       145\n",
            "          42       0.37      0.63      0.47       112\n",
            "          43       0.19      0.33      0.24       104\n",
            "          44       0.23      0.44      0.30       100\n",
            "          45       0.28      0.44      0.34       116\n",
            "          46       0.37      0.53      0.43       138\n",
            "          47       0.15      0.26      0.19        88\n",
            "          48       0.20      0.37      0.26        75\n",
            "          49       0.07      0.16      0.10        75\n",
            "          50       0.35      0.61      0.45        64\n",
            "          51       0.40      0.65      0.50        83\n",
            "          52       0.16      0.33      0.21       115\n",
            "          53       0.28      0.45      0.35        99\n",
            "          54       0.55      0.62      0.58       213\n",
            "          55       0.15      0.31      0.20        77\n",
            "          56       0.14      0.32      0.20        88\n",
            "          57       0.11      0.23      0.15        79\n",
            "          58       0.12      0.20      0.15       105\n",
            "          59       0.15      0.27      0.19        71\n",
            "          60       0.75      0.83      0.79       125\n",
            "          61       0.29      0.55      0.38        71\n",
            "          62       0.09      0.21      0.12        75\n",
            "          63       0.24      0.51      0.33        63\n",
            "          64       0.10      0.20      0.13        69\n",
            "          65       0.30      0.54      0.38        65\n",
            "          66       0.24      0.48      0.32        62\n",
            "          67       0.04      0.09      0.06        80\n",
            "          68       0.36      0.47      0.41       139\n",
            "          69       0.49      0.80      0.61        85\n",
            "          70       0.24      0.50      0.33        74\n",
            "          71       0.07      0.19      0.11        88\n",
            "          72       0.26      0.39      0.32        46\n",
            "          73       0.33      0.41      0.36       108\n",
            "          74       0.27      0.51      0.35        63\n",
            "          75       0.23      0.36      0.28        72\n",
            "          76       0.16      0.63      0.25        27\n",
            "          77       0.58      0.75      0.65        81\n",
            "          78       0.13      0.23      0.17        71\n",
            "          79       0.36      0.53      0.43        60\n",
            "          80       0.29      0.49      0.36       129\n",
            "          81       0.16      0.34      0.22        74\n",
            "          82       0.26      0.39      0.31        83\n",
            "          83       0.14      0.26      0.19        87\n",
            "          84       0.37      0.69      0.48        68\n",
            "          85       0.07      0.10      0.08        82\n",
            "          86       0.41      0.62      0.50        82\n",
            "          87       0.33      0.55      0.41        66\n",
            "          88       0.10      0.20      0.13        56\n",
            "          89       0.55      0.65      0.59       100\n",
            "          90       0.13      0.22      0.17        41\n",
            "          91       0.27      0.55      0.36        49\n",
            "          92       0.25      0.56      0.35        52\n",
            "          93       0.30      0.53      0.38        47\n",
            "          94       0.10      0.24      0.14        54\n",
            "          95       0.10      0.22      0.14        68\n",
            "          96       0.11      0.23      0.15        47\n",
            "          97       0.21      0.43      0.29        49\n",
            "          98       0.15      0.26      0.19        80\n",
            "          99       0.16      0.50      0.25        34\n",
            "         100       0.13      0.43      0.20        30\n",
            "         101       0.53      0.84      0.65        50\n",
            "         102       0.16      0.44      0.24        50\n",
            "         103       0.40      0.65      0.49        57\n",
            "         104       0.05      0.11      0.07        47\n",
            "         105       0.56      0.74      0.64        66\n",
            "         106       0.23      0.47      0.31        49\n",
            "         107       0.12      0.35      0.18        48\n",
            "         108       0.47      0.68      0.56        57\n",
            "         109       0.15      0.37      0.21        57\n",
            "         110       0.17      0.31      0.22        54\n",
            "         111       0.05      0.11      0.07        56\n",
            "         112       0.06      0.08      0.07        75\n",
            "         113       0.26      0.53      0.35        51\n",
            "         114       0.30      0.56      0.39        59\n",
            "         115       0.40      0.61      0.49        41\n",
            "         116       0.68      0.68      0.68       135\n",
            "         117       0.06      0.12      0.08        41\n",
            "         118       0.25      0.38      0.30        58\n",
            "         119       0.12      0.26      0.16        58\n",
            "         120       0.26      0.38      0.31        50\n",
            "         121       0.12      0.20      0.15        51\n",
            "         122       0.41      0.60      0.49        60\n",
            "         123       0.33      0.46      0.38        61\n",
            "         124       0.09      0.26      0.14        42\n",
            "         125       0.06      0.16      0.09        51\n",
            "         126       0.39      0.67      0.50        43\n",
            "         127       0.29      0.47      0.36        40\n",
            "         128       0.13      0.24      0.17        29\n",
            "         129       0.19      0.30      0.23        33\n",
            "         130       0.29      0.57      0.38        44\n",
            "         131       0.13      0.29      0.18        51\n",
            "         132       0.10      0.27      0.15        33\n",
            "         133       0.28      0.62      0.39        37\n",
            "         134       0.43      0.55      0.48        51\n",
            "         135       0.12      0.38      0.18        39\n",
            "         136       0.22      0.44      0.30        43\n",
            "         137       0.19      0.30      0.23        50\n",
            "         138       0.13      0.31      0.18        48\n",
            "         139       0.66      0.81      0.73        53\n",
            "         140       0.20      0.35      0.25        54\n",
            "         141       0.05      0.14      0.08        42\n",
            "         142       0.02      0.05      0.03        39\n",
            "         143       0.20      0.39      0.26        41\n",
            "         144       0.12      0.27      0.17        30\n",
            "         145       0.10      0.33      0.15        30\n",
            "         146       0.47      0.80      0.59        20\n",
            "         147       0.34      0.79      0.48        38\n",
            "         148       0.21      0.44      0.29        48\n",
            "         149       0.50      0.64      0.56        58\n",
            "         150       0.06      0.16      0.09        50\n",
            "         151       0.30      0.43      0.35        51\n",
            "         152       0.24      0.42      0.31        40\n",
            "         153       0.21      0.45      0.29        42\n",
            "         154       0.09      0.17      0.12        52\n",
            "         155       0.08      0.12      0.10        48\n",
            "         156       0.27      0.47      0.34        51\n",
            "         157       0.12      0.22      0.16        58\n",
            "         158       0.33      0.59      0.42        56\n",
            "         159       0.47      0.71      0.56        38\n",
            "         160       0.23      0.50      0.32        28\n",
            "         161       0.10      0.27      0.14        37\n",
            "         162       0.09      0.27      0.13        44\n",
            "         163       0.12      0.33      0.18        30\n",
            "         164       0.10      0.24      0.14        34\n",
            "         165       0.25      0.42      0.31        38\n",
            "         166       0.17      0.40      0.24        30\n",
            "         167       0.28      0.58      0.38        45\n",
            "         168       0.15      0.33      0.20        39\n",
            "         169       0.09      0.28      0.13        32\n",
            "         170       0.73      0.87      0.79        70\n",
            "         171       0.20      0.41      0.27        34\n",
            "         172       0.31      0.74      0.44        34\n",
            "         173       0.04      0.10      0.06        39\n",
            "         174       0.08      0.19      0.11        48\n",
            "         175       0.36      0.46      0.40        57\n",
            "         176       0.39      0.73      0.51        41\n",
            "         177       0.05      0.11      0.07        71\n",
            "         178       0.36      0.67      0.46        24\n",
            "         179       0.18      0.37      0.24        46\n",
            "         180       0.05      0.14      0.07        36\n",
            "         181       0.11      0.26      0.16        39\n",
            "         182       0.74      0.80      0.77        87\n",
            "         183       0.10      0.19      0.13        48\n",
            "         184       0.08      0.20      0.11        40\n",
            "         185       0.19      0.57      0.29        30\n",
            "         186       0.20      0.50      0.29        28\n",
            "         187       0.28      0.52      0.36        25\n",
            "         188       0.17      0.28      0.21        40\n",
            "         189       0.08      0.14      0.10        44\n",
            "         190       0.23      0.56      0.33        25\n",
            "         191       0.07      0.22      0.11        27\n",
            "         192       0.20      0.57      0.29        30\n",
            "         193       0.07      0.27      0.12        26\n",
            "         194       0.23      0.54      0.32        37\n",
            "         195       0.54      0.78      0.64        69\n",
            "         196       0.06      0.22      0.09        27\n",
            "         197       0.09      0.18      0.12        44\n",
            "         198       0.04      0.09      0.06        54\n",
            "         199       0.12      0.36      0.18        22\n",
            "         200       0.24      0.38      0.29        53\n",
            "         201       0.29      0.47      0.36        47\n",
            "         202       0.18      0.36      0.24        28\n",
            "         203       0.19      0.38      0.25        24\n",
            "         204       0.05      0.17      0.08        36\n",
            "         205       0.11      0.36      0.16        25\n",
            "         206       0.10      0.29      0.14        38\n",
            "         207       0.02      0.06      0.03        31\n",
            "         208       0.40      0.68      0.51        31\n",
            "         209       0.37      0.77      0.50        35\n",
            "         210       0.16      0.37      0.23        35\n",
            "         211       0.15      0.33      0.20        42\n",
            "         212       0.03      0.04      0.03        52\n",
            "         213       0.01      0.03      0.02        31\n",
            "         214       0.24      0.63      0.35        30\n",
            "         215       0.11      0.30      0.16        27\n",
            "         216       0.11      0.29      0.16        38\n",
            "         217       0.12      0.53      0.20        17\n",
            "         218       0.07      0.14      0.09        35\n",
            "         219       0.17      0.37      0.23        30\n",
            "         220       0.05      0.30      0.09        10\n",
            "         221       0.11      0.30      0.16        20\n",
            "         222       0.14      0.64      0.23        11\n",
            "         223       0.13      0.28      0.18        40\n",
            "         224       0.30      0.52      0.38        44\n",
            "         225       0.08      0.14      0.11        42\n",
            "         226       0.25      0.55      0.35        29\n",
            "         227       0.05      0.09      0.07        64\n",
            "         228       0.45      0.83      0.58        36\n",
            "         229       0.21      0.37      0.27        27\n",
            "         230       0.18      0.30      0.23        30\n",
            "         231       0.28      0.67      0.40        27\n",
            "         232       0.09      0.30      0.14        30\n",
            "         233       0.16      0.46      0.24        26\n",
            "         234       0.31      0.48      0.38        27\n",
            "         235       0.07      0.12      0.08        43\n",
            "         236       0.09      0.16      0.11        31\n",
            "         237       0.19      0.32      0.24        31\n",
            "         238       0.25      0.52      0.34        27\n",
            "         239       0.07      0.25      0.11        20\n",
            "         240       0.06      0.12      0.08        32\n",
            "         241       0.20      0.59      0.30        32\n",
            "         242       0.23      0.46      0.31        28\n",
            "         243       0.40      0.74      0.52        42\n",
            "         244       0.05      0.23      0.08        13\n",
            "         245       0.01      0.04      0.02        28\n",
            "         246       0.04      0.08      0.06        39\n",
            "         247       0.29      0.53      0.38        32\n",
            "         248       0.07      0.29      0.12        17\n",
            "         249       0.08      0.15      0.10        34\n",
            "         250       0.12      0.33      0.18        24\n",
            "         251       0.49      0.91      0.63        22\n",
            "         252       0.24      0.50      0.32        18\n",
            "         253       0.42      0.77      0.54        43\n",
            "         254       0.31      0.55      0.39        33\n",
            "         255       0.57      0.77      0.66        35\n",
            "         256       0.16      0.25      0.19        32\n",
            "         257       0.40      0.63      0.49        41\n",
            "         258       0.18      0.31      0.23        29\n",
            "         259       0.04      0.21      0.07        24\n",
            "         260       0.18      0.39      0.25        23\n",
            "         261       0.17      0.44      0.25        16\n",
            "         262       0.03      0.06      0.04        32\n",
            "         263       0.13      0.40      0.20        20\n",
            "         264       0.04      0.09      0.06        22\n",
            "         265       0.18      0.46      0.26        26\n",
            "         266       0.05      0.10      0.07        49\n",
            "         267       0.32      0.53      0.40        30\n",
            "         268       0.17      0.39      0.24        31\n",
            "         269       0.35      0.82      0.49        17\n",
            "         270       0.36      0.68      0.47        19\n",
            "         271       0.00      0.00      0.00        31\n",
            "         272       0.02      0.06      0.03        16\n",
            "         273       0.03      0.08      0.05        25\n",
            "         274       0.08      0.19      0.11        21\n",
            "         275       0.15      0.36      0.22        22\n",
            "         276       0.03      0.04      0.03        46\n",
            "         277       0.18      0.89      0.30         9\n",
            "         278       0.28      0.71      0.40        17\n",
            "         279       0.21      0.60      0.32        15\n",
            "         280       0.04      0.15      0.06        20\n",
            "         281       0.10      0.40      0.16        20\n",
            "         282       0.23      0.57      0.33        14\n",
            "         283       0.06      0.17      0.09        30\n",
            "         284       0.03      0.09      0.05        22\n",
            "         285       0.22      0.55      0.31        22\n",
            "         286       0.00      0.00      0.00        18\n",
            "         287       0.15      0.50      0.23        12\n",
            "         288       0.06      0.16      0.09        25\n",
            "         289       0.07      0.14      0.09        29\n",
            "         290       0.20      0.56      0.30        16\n",
            "         291       0.03      0.07      0.05        28\n",
            "         292       0.07      0.10      0.08        39\n",
            "         293       0.06      0.21      0.10        19\n",
            "         294       0.36      0.74      0.49        27\n",
            "         295       0.06      0.17      0.09        23\n",
            "         296       0.13      0.39      0.20        18\n",
            "         297       0.07      0.20      0.11        10\n",
            "         298       0.03      0.14      0.05        22\n",
            "         299       0.15      0.50      0.23        20\n",
            "         300       0.15      0.45      0.23        20\n",
            "         301       0.09      0.30      0.14        23\n",
            "         302       0.50      0.78      0.61        37\n",
            "         303       0.05      0.14      0.08        28\n",
            "         304       0.37      0.71      0.49        28\n",
            "         305       0.04      0.11      0.06        19\n",
            "         306       0.50      0.70      0.58        27\n",
            "         307       0.04      0.19      0.06        16\n",
            "         308       0.39      0.60      0.47        20\n",
            "         309       0.05      0.22      0.08        18\n",
            "         310       0.11      0.21      0.15        33\n",
            "         311       0.23      0.35      0.28        31\n",
            "         312       0.02      0.04      0.03        24\n",
            "         313       0.12      0.30      0.17        20\n",
            "         314       0.06      0.11      0.07        27\n",
            "         315       0.22      0.55      0.32        11\n",
            "         316       0.15      0.44      0.22        16\n",
            "         317       0.04      0.17      0.06        12\n",
            "         318       0.20      0.45      0.28        22\n",
            "         319       0.11      0.46      0.18        13\n",
            "         320       0.00      0.00      0.00        17\n",
            "         321       0.08      0.23      0.12        22\n",
            "         322       0.07      0.28      0.12        18\n",
            "         323       0.00      0.00      0.00        17\n",
            "         324       0.07      0.17      0.10        24\n",
            "         325       0.26      0.69      0.38        26\n",
            "         326       0.11      0.22      0.15        23\n",
            "         327       0.08      0.31      0.12        16\n",
            "         328       0.33      0.81      0.47        16\n",
            "         329       0.14      0.29      0.19        17\n",
            "         330       0.22      0.39      0.28        18\n",
            "         331       0.07      0.19      0.10        16\n",
            "         332       0.24      0.57      0.34        23\n",
            "         333       0.02      0.04      0.02        26\n",
            "         334       0.02      0.08      0.03        13\n",
            "         335       0.26      0.59      0.36        17\n",
            "         336       0.11      0.27      0.15        15\n",
            "         337       0.09      0.19      0.12        21\n",
            "         338       0.06      0.17      0.09        23\n",
            "         339       0.06      0.18      0.09        11\n",
            "         340       0.00      0.00      0.00        14\n",
            "         341       0.00      0.00      0.00        11\n",
            "         342       0.21      0.52      0.30        21\n",
            "         343       0.05      0.18      0.07        22\n",
            "         344       0.00      0.00      0.00        14\n",
            "         345       0.05      0.25      0.08         8\n",
            "         346       0.10      0.23      0.14        22\n",
            "         347       0.29      0.55      0.38        22\n",
            "         348       0.29      0.59      0.39        17\n",
            "         349       0.07      0.25      0.11        16\n",
            "         350       0.00      0.00      0.00         8\n",
            "         351       0.20      0.46      0.28        13\n",
            "         352       0.26      0.69      0.38        16\n",
            "         353       0.03      0.12      0.05        17\n",
            "         354       0.14      0.40      0.21        15\n",
            "         355       0.11      0.36      0.17        11\n",
            "         356       0.05      0.25      0.09         8\n",
            "         357       0.00      0.00      0.00        16\n",
            "         358       0.06      0.20      0.10        20\n",
            "         359       0.15      0.24      0.18        25\n",
            "         360       0.18      0.48      0.27        25\n",
            "         361       0.08      0.14      0.10        37\n",
            "         362       0.05      0.36      0.09        11\n",
            "         363       0.03      0.17      0.05         6\n",
            "         364       0.32      0.48      0.38        27\n",
            "         365       0.10      0.38      0.16        13\n",
            "         366       0.06      0.17      0.09        18\n",
            "         367       0.11      0.83      0.20         6\n",
            "         368       0.11      0.47      0.18        17\n",
            "         369       0.15      0.29      0.20        14\n",
            "         370       0.00      0.00      0.00         3\n",
            "         371       0.13      0.40      0.20        15\n",
            "         372       0.13      0.23      0.17        26\n",
            "         373       0.00      0.00      0.00        12\n",
            "         374       0.56      0.75      0.64        24\n",
            "         375       0.06      0.21      0.09        19\n",
            "         376       0.13      0.28      0.18        18\n",
            "         377       0.05      0.16      0.08        19\n",
            "         378       0.32      0.62      0.42        24\n",
            "         379       0.13      0.40      0.20        15\n",
            "         380       0.08      0.19      0.11        27\n",
            "         381       0.05      0.27      0.08        11\n",
            "         382       0.10      0.19      0.14        26\n",
            "         383       0.11      0.31      0.16        13\n",
            "         384       0.03      0.14      0.05        14\n",
            "         385       0.19      0.43      0.26        28\n",
            "         386       0.51      0.74      0.61        27\n",
            "         387       0.12      0.21      0.16        14\n",
            "         388       0.19      0.35      0.25        20\n",
            "         389       0.05      0.23      0.08        13\n",
            "         390       0.44      0.73      0.55        15\n",
            "         391       0.05      0.25      0.09        12\n",
            "         392       0.03      0.20      0.06        15\n",
            "         393       0.68      0.87      0.77        47\n",
            "         394       0.10      0.20      0.13        15\n",
            "         395       0.09      0.24      0.13        21\n",
            "         396       0.09      0.24      0.13        21\n",
            "         397       0.06      0.15      0.09        13\n",
            "         398       0.14      0.22      0.17        27\n",
            "         399       0.52      0.75      0.61        20\n",
            "         400       0.11      0.30      0.16        20\n",
            "         401       0.17      0.36      0.23        22\n",
            "         402       0.07      0.33      0.12        12\n",
            "         403       0.00      0.00      0.00        14\n",
            "         404       0.06      0.25      0.10        12\n",
            "         405       0.06      0.14      0.08        14\n",
            "         406       0.04      0.14      0.06        14\n",
            "         407       0.53      0.86      0.66        28\n",
            "         408       0.29      0.60      0.39        20\n",
            "         409       0.32      0.85      0.47        13\n",
            "         410       0.20      0.39      0.27        23\n",
            "         411       0.23      0.53      0.32        17\n",
            "         412       0.13      0.33      0.19        12\n",
            "         413       0.08      0.20      0.12        15\n",
            "         414       0.18      0.40      0.24        15\n",
            "         415       0.00      0.00      0.00        16\n",
            "         416       0.00      0.00      0.00        17\n",
            "         417       0.07      0.20      0.10        15\n",
            "         418       0.17      0.31      0.22        16\n",
            "         419       0.02      0.07      0.03        15\n",
            "         420       0.26      0.50      0.34        24\n",
            "         421       0.06      0.27      0.10        11\n",
            "         422       0.08      0.14      0.10        29\n",
            "         423       0.05      0.18      0.08        17\n",
            "         424       0.08      0.29      0.12        17\n",
            "         425       0.13      0.33      0.19         9\n",
            "         426       0.11      0.23      0.15        35\n",
            "         427       0.08      0.42      0.13        12\n",
            "         428       0.14      0.33      0.20        12\n",
            "         429       0.26      0.27      0.26        33\n",
            "         430       0.06      0.27      0.10        11\n",
            "         431       0.20      0.48      0.29        21\n",
            "         432       0.03      0.08      0.04        13\n",
            "         433       0.16      0.38      0.22        16\n",
            "         434       0.35      0.79      0.48        19\n",
            "         435       0.15      0.50      0.23         8\n",
            "         436       0.21      0.47      0.29        17\n",
            "         437       0.41      0.75      0.53        16\n",
            "         438       0.18      0.33      0.23         9\n",
            "         439       0.08      0.13      0.10        31\n",
            "         440       0.40      0.89      0.55         9\n",
            "         441       0.05      0.21      0.09        14\n",
            "         442       0.07      0.14      0.10        22\n",
            "         443       0.37      0.72      0.49        18\n",
            "         444       0.24      0.33      0.28        27\n",
            "         445       0.11      0.31      0.17        13\n",
            "         446       0.04      0.15      0.07        13\n",
            "         447       0.19      0.25      0.21        24\n",
            "         448       0.02      0.17      0.03         6\n",
            "         449       0.08      0.27      0.12        11\n",
            "         450       0.03      0.25      0.06         8\n",
            "         451       0.02      0.07      0.03        15\n",
            "         452       0.31      0.79      0.45        19\n",
            "         453       0.10      0.29      0.14        14\n",
            "         454       0.48      0.62      0.54        26\n",
            "         455       0.09      0.17      0.12        18\n",
            "         456       0.00      0.00      0.00        14\n",
            "         457       0.32      0.90      0.47        10\n",
            "         458       0.11      0.26      0.16        19\n",
            "         459       0.17      0.38      0.23        16\n",
            "         460       0.13      0.38      0.19        16\n",
            "         461       0.08      0.16      0.10        19\n",
            "         462       0.12      0.27      0.17        22\n",
            "         463       0.08      0.19      0.11        26\n",
            "         464       0.38      0.63      0.47        19\n",
            "         465       0.16      0.38      0.23        16\n",
            "         466       0.08      0.25      0.12        12\n",
            "         467       0.19      0.33      0.24        21\n",
            "         468       0.00      0.00      0.00        24\n",
            "         469       0.06      0.33      0.11         6\n",
            "         470       0.06      0.09      0.07        23\n",
            "         471       0.09      0.21      0.12        19\n",
            "         472       0.19      0.35      0.25        17\n",
            "         473       0.11      0.26      0.16        19\n",
            "         474       0.05      0.16      0.08        19\n",
            "         475       0.11      0.19      0.14        21\n",
            "         476       0.02      0.10      0.04        10\n",
            "         477       0.00      0.00      0.00        12\n",
            "         478       0.20      0.80      0.32         5\n",
            "         479       0.17      0.80      0.28         5\n",
            "         480       0.04      0.22      0.07         9\n",
            "         481       0.09      0.26      0.14        19\n",
            "         482       0.17      0.33      0.23        21\n",
            "         483       0.43      0.50      0.46        18\n",
            "         484       0.25      0.44      0.32        18\n",
            "         485       0.05      0.13      0.07        15\n",
            "         486       0.20      0.38      0.26         8\n",
            "         487       0.08      0.36      0.13        14\n",
            "         488       0.07      0.40      0.12        10\n",
            "         489       0.27      0.42      0.33        19\n",
            "         490       0.41      0.67      0.51        27\n",
            "         491       0.07      0.20      0.10        15\n",
            "         492       0.36      0.59      0.44        17\n",
            "         493       0.03      0.14      0.05         7\n",
            "         494       0.28      0.75      0.41        12\n",
            "         495       0.07      0.15      0.10        20\n",
            "         496       0.09      0.22      0.13        18\n",
            "         497       0.10      0.25      0.14        16\n",
            "         498       0.42      0.47      0.44        17\n",
            "         499       0.12      0.55      0.19        11\n",
            "\n",
            "   micro avg       0.30      0.48      0.37     35488\n",
            "   macro avg       0.20      0.38      0.25     35488\n",
            "weighted avg       0.37      0.48      0.41     35488\n",
            " samples avg       0.40      0.47      0.38     35488\n",
            "\n"
          ],
          "name": "stdout"
        }
      ]
    },
    {
      "metadata": {
        "id": "fKF2V1wQhrNP",
        "colab_type": "text"
      },
      "cell_type": "markdown",
      "source": [
        "# Q-1:Logistic regression(OvR)"
      ]
    },
    {
      "metadata": {
        "id": "DtIm1pmmh9a7",
        "colab_type": "code",
        "colab": {
          "base_uri": "https://localhost:8080/",
          "height": 8618
        },
        "outputId": "9a57067d-b8a8-4a06-e610-9590fd3ba98f"
      },
      "cell_type": "code",
      "source": [
        "clf=OneVsRestClassifier(LogisticRegression(penalty='l1'),n_jobs=-1)\n",
        "clf.fit(train_bows,y_train)\n",
        "y_pred=clf.predict(test_bows)\n",
        "print(\"Accuracy :\",metrics.accuracy_score(y_test,y_pred))\n",
        "print(\"Hemming :\",metrics.hamming_loss(y_test,y_pred))\n",
        "precision=precision_score(y_test,y_pred,average='micro')\n",
        "recall=recall_score(y_test,y_pred,average='micro')\n",
        "f1=f1_score(y_test,y_pred,average='micro')\n",
        "print(\"Micro-average quality numbers\")\n",
        "print(\"Precision: %.4f\" %precision,\" Recall: %.4f\" %recall,\" F1_score: %.4f\" %f1)\n",
        "print (metrics.classification_report(y_test, y_pred))"
      ],
      "execution_count": 77,
      "outputs": [
        {
          "output_type": "stream",
          "text": [
            "Accuracy : 0.21459809983411252\n",
            "Hemming : 0.0030616799879354547\n",
            "Micro-average quality numbers\n",
            "Precision: 0.5979  Recall: 0.4332  F1_score: 0.5024\n",
            "              precision    recall  f1-score   support\n",
            "\n",
            "           0       0.51      0.39      0.45      1209\n",
            "           1       0.67      0.48      0.56      1272\n",
            "           2       0.75      0.59      0.66      1529\n",
            "           3       0.58      0.47      0.52      1505\n",
            "           4       0.90      0.75      0.82      1027\n",
            "           5       0.85      0.76      0.81      1809\n",
            "           6       0.77      0.55      0.64       751\n",
            "           7       0.67      0.60      0.64       851\n",
            "           8       0.84      0.63      0.72       657\n",
            "           9       0.69      0.51      0.59       524\n",
            "          10       0.83      0.66      0.73       582\n",
            "          11       0.35      0.23      0.28       655\n",
            "          12       0.34      0.17      0.23       390\n",
            "          13       0.50      0.35      0.41       356\n",
            "          14       0.35      0.27      0.30       489\n",
            "          15       0.69      0.53      0.60       488\n",
            "          16       0.55      0.45      0.49       583\n",
            "          17       0.45      0.31      0.37       444\n",
            "          18       0.74      0.53      0.62       390\n",
            "          19       0.34      0.20      0.25       358\n",
            "          20       0.54      0.32      0.40       409\n",
            "          21       0.44      0.36      0.40       156\n",
            "          22       0.59      0.39      0.47       225\n",
            "          23       0.72      0.53      0.61       135\n",
            "          24       0.61      0.57      0.59       282\n",
            "          25       0.64      0.48      0.55       307\n",
            "          26       0.56      0.45      0.50       246\n",
            "          27       0.26      0.16      0.20       158\n",
            "          28       0.82      0.70      0.76       205\n",
            "          29       0.60      0.35      0.44       122\n",
            "          30       0.41      0.31      0.35       117\n",
            "          31       0.54      0.38      0.44       260\n",
            "          32       0.92      0.78      0.84       179\n",
            "          33       0.41      0.31      0.36       156\n",
            "          34       0.43      0.25      0.31       159\n",
            "          35       0.69      0.54      0.61       169\n",
            "          36       0.60      0.37      0.45       126\n",
            "          37       0.52      0.36      0.43       132\n",
            "          38       0.78      0.55      0.64       115\n",
            "          39       0.74      0.61      0.67       131\n",
            "          40       0.37      0.23      0.28       123\n",
            "          41       0.37      0.20      0.26       145\n",
            "          42       0.66      0.40      0.50       112\n",
            "          43       0.39      0.29      0.33       104\n",
            "          44       0.58      0.35      0.44       100\n",
            "          45       0.60      0.47      0.52       116\n",
            "          46       0.62      0.41      0.49       138\n",
            "          47       0.39      0.23      0.29        88\n",
            "          48       0.57      0.36      0.44        75\n",
            "          49       0.11      0.05      0.07        75\n",
            "          50       0.69      0.59      0.64        64\n",
            "          51       0.84      0.61      0.71        83\n",
            "          52       0.27      0.15      0.19       115\n",
            "          53       0.63      0.41      0.50        99\n",
            "          54       0.75      0.62      0.68       213\n",
            "          55       0.39      0.19      0.26        77\n",
            "          56       0.56      0.31      0.40        88\n",
            "          57       0.24      0.15      0.18        79\n",
            "          58       0.33      0.17      0.23       105\n",
            "          59       0.57      0.18      0.28        71\n",
            "          60       0.86      0.83      0.85       125\n",
            "          61       0.65      0.61      0.63        71\n",
            "          62       0.34      0.21      0.26        75\n",
            "          63       0.64      0.54      0.59        63\n",
            "          64       0.32      0.20      0.25        69\n",
            "          65       0.59      0.52      0.55        65\n",
            "          66       0.53      0.42      0.47        62\n",
            "          67       0.07      0.04      0.05        80\n",
            "          68       0.59      0.46      0.52       139\n",
            "          69       0.80      0.74      0.77        85\n",
            "          70       0.52      0.50      0.51        74\n",
            "          71       0.28      0.15      0.19        88\n",
            "          72       0.73      0.41      0.53        46\n",
            "          73       0.80      0.32      0.46       108\n",
            "          74       0.67      0.41      0.51        63\n",
            "          75       0.60      0.35      0.44        72\n",
            "          76       0.59      0.48      0.53        27\n",
            "          77       0.88      0.69      0.77        81\n",
            "          78       0.22      0.10      0.14        71\n",
            "          79       0.79      0.55      0.65        60\n",
            "          80       0.59      0.51      0.55       129\n",
            "          81       0.38      0.31      0.34        74\n",
            "          82       0.60      0.42      0.50        83\n",
            "          83       0.36      0.24      0.29        87\n",
            "          84       0.74      0.68      0.71        68\n",
            "          85       0.13      0.06      0.08        82\n",
            "          86       0.84      0.59      0.69        82\n",
            "          87       0.54      0.58      0.55        66\n",
            "          88       0.27      0.11      0.15        56\n",
            "          89       0.84      0.65      0.73       100\n",
            "          90       0.22      0.15      0.18        41\n",
            "          91       0.61      0.41      0.49        49\n",
            "          92       0.54      0.54      0.54        52\n",
            "          93       0.81      0.53      0.64        47\n",
            "          94       0.22      0.20      0.21        54\n",
            "          95       0.23      0.12      0.16        68\n",
            "          96       0.41      0.26      0.32        47\n",
            "          97       0.48      0.27      0.34        49\n",
            "          98       0.50      0.25      0.33        80\n",
            "          99       0.74      0.50      0.60        34\n",
            "         100       0.47      0.47      0.47        30\n",
            "         101       0.85      0.80      0.82        50\n",
            "         102       0.43      0.36      0.39        50\n",
            "         103       0.90      0.67      0.77        57\n",
            "         104       0.19      0.09      0.12        47\n",
            "         105       0.94      0.71      0.81        66\n",
            "         106       0.56      0.39      0.46        49\n",
            "         107       0.29      0.25      0.27        48\n",
            "         108       0.90      0.65      0.76        57\n",
            "         109       0.54      0.39      0.45        57\n",
            "         110       0.23      0.17      0.19        54\n",
            "         111       0.18      0.07      0.10        56\n",
            "         112       0.14      0.07      0.09        75\n",
            "         113       0.50      0.49      0.50        51\n",
            "         114       0.78      0.54      0.64        59\n",
            "         115       0.76      0.63      0.69        41\n",
            "         116       0.92      0.69      0.79       135\n",
            "         117       0.31      0.22      0.26        41\n",
            "         118       0.51      0.40      0.45        58\n",
            "         119       0.30      0.16      0.20        58\n",
            "         120       0.56      0.40      0.47        50\n",
            "         121       0.34      0.24      0.28        51\n",
            "         122       0.78      0.65      0.71        60\n",
            "         123       0.71      0.39      0.51        61\n",
            "         124       0.39      0.26      0.31        42\n",
            "         125       0.15      0.06      0.08        51\n",
            "         126       0.78      0.58      0.67        43\n",
            "         127       0.69      0.45      0.55        40\n",
            "         128       0.25      0.21      0.23        29\n",
            "         129       0.39      0.27      0.32        33\n",
            "         130       0.67      0.55      0.60        44\n",
            "         131       0.38      0.27      0.32        51\n",
            "         132       0.22      0.15      0.18        33\n",
            "         133       0.43      0.49      0.46        37\n",
            "         134       0.70      0.55      0.62        51\n",
            "         135       0.45      0.26      0.33        39\n",
            "         136       0.44      0.37      0.41        43\n",
            "         137       0.40      0.24      0.30        50\n",
            "         138       0.25      0.15      0.18        48\n",
            "         139       0.92      0.85      0.88        53\n",
            "         140       0.53      0.31      0.40        54\n",
            "         141       0.17      0.10      0.12        42\n",
            "         142       0.00      0.00      0.00        39\n",
            "         143       0.49      0.41      0.45        41\n",
            "         144       0.24      0.13      0.17        30\n",
            "         145       0.35      0.20      0.26        30\n",
            "         146       0.84      0.80      0.82        20\n",
            "         147       0.83      0.79      0.81        38\n",
            "         148       0.40      0.48      0.44        48\n",
            "         149       0.89      0.67      0.76        58\n",
            "         150       0.26      0.20      0.22        50\n",
            "         151       0.65      0.33      0.44        51\n",
            "         152       0.41      0.35      0.38        40\n",
            "         153       0.39      0.31      0.35        42\n",
            "         154       0.26      0.13      0.18        52\n",
            "         155       0.00      0.00      0.00        48\n",
            "         156       0.56      0.35      0.43        51\n",
            "         157       0.43      0.16      0.23        58\n",
            "         158       0.67      0.55      0.61        56\n",
            "         159       0.90      0.74      0.81        38\n",
            "         160       0.50      0.46      0.48        28\n",
            "         161       0.18      0.11      0.14        37\n",
            "         162       0.31      0.18      0.23        44\n",
            "         163       0.38      0.27      0.31        30\n",
            "         164       0.37      0.21      0.26        34\n",
            "         165       0.54      0.39      0.45        38\n",
            "         166       0.33      0.27      0.30        30\n",
            "         167       0.62      0.58      0.60        45\n",
            "         168       0.48      0.28      0.35        39\n",
            "         169       0.21      0.09      0.13        32\n",
            "         170       0.97      0.84      0.90        70\n",
            "         171       0.41      0.21      0.27        34\n",
            "         172       0.80      0.71      0.75        34\n",
            "         173       0.25      0.10      0.15        39\n",
            "         174       0.18      0.12      0.15        48\n",
            "         175       0.61      0.40      0.48        57\n",
            "         176       0.76      0.71      0.73        41\n",
            "         177       0.22      0.11      0.15        71\n",
            "         178       0.65      0.54      0.59        24\n",
            "         179       0.38      0.39      0.39        46\n",
            "         180       0.23      0.08      0.12        36\n",
            "         181       0.32      0.15      0.21        39\n",
            "         182       0.91      0.82      0.86        87\n",
            "         183       0.26      0.10      0.15        48\n",
            "         184       0.35      0.15      0.21        40\n",
            "         185       0.48      0.40      0.44        30\n",
            "         186       0.47      0.50      0.48        28\n",
            "         187       0.65      0.44      0.52        25\n",
            "         188       0.50      0.28      0.35        40\n",
            "         189       0.06      0.02      0.03        44\n",
            "         190       0.62      0.60      0.61        25\n",
            "         191       0.29      0.19      0.23        27\n",
            "         192       0.43      0.43      0.43        30\n",
            "         193       0.33      0.23      0.27        26\n",
            "         194       0.44      0.32      0.38        37\n",
            "         195       0.89      0.71      0.79        69\n",
            "         196       0.21      0.15      0.17        27\n",
            "         197       0.29      0.23      0.26        44\n",
            "         198       0.11      0.04      0.06        54\n",
            "         199       0.67      0.45      0.54        22\n",
            "         200       0.62      0.40      0.48        53\n",
            "         201       0.54      0.45      0.49        47\n",
            "         202       0.69      0.32      0.44        28\n",
            "         203       0.62      0.42      0.50        24\n",
            "         204       0.20      0.06      0.09        36\n",
            "         205       0.33      0.24      0.28        25\n",
            "         206       0.15      0.11      0.12        38\n",
            "         207       0.29      0.06      0.11        31\n",
            "         208       0.92      0.74      0.82        31\n",
            "         209       0.73      0.69      0.71        35\n",
            "         210       0.25      0.17      0.20        35\n",
            "         211       0.24      0.14      0.18        42\n",
            "         212       0.08      0.02      0.03        52\n",
            "         213       0.00      0.00      0.00        31\n",
            "         214       0.52      0.43      0.47        30\n",
            "         215       0.70      0.26      0.38        27\n",
            "         216       0.31      0.21      0.25        38\n",
            "         217       0.44      0.47      0.46        17\n",
            "         218       0.29      0.14      0.19        35\n",
            "         219       0.65      0.37      0.47        30\n",
            "         220       0.17      0.20      0.18        10\n",
            "         221       0.08      0.05      0.06        20\n",
            "         222       0.45      0.45      0.45        11\n",
            "         223       0.53      0.45      0.49        40\n",
            "         224       0.62      0.48      0.54        44\n",
            "         225       0.27      0.17      0.21        42\n",
            "         226       0.90      0.66      0.76        29\n",
            "         227       0.26      0.11      0.15        64\n",
            "         228       0.87      0.75      0.81        36\n",
            "         229       0.30      0.22      0.26        27\n",
            "         230       0.42      0.33      0.37        30\n",
            "         231       0.67      0.67      0.67        27\n",
            "         232       0.41      0.30      0.35        30\n",
            "         233       0.60      0.35      0.44        26\n",
            "         234       0.72      0.48      0.58        27\n",
            "         235       0.35      0.14      0.20        43\n",
            "         236       0.35      0.19      0.25        31\n",
            "         237       0.36      0.16      0.22        31\n",
            "         238       0.62      0.48      0.54        27\n",
            "         239       0.28      0.25      0.26        20\n",
            "         240       0.00      0.00      0.00        32\n",
            "         241       0.65      0.47      0.55        32\n",
            "         242       0.56      0.36      0.43        28\n",
            "         243       0.69      0.60      0.64        42\n",
            "         244       0.25      0.23      0.24        13\n",
            "         245       0.09      0.04      0.05        28\n",
            "         246       0.18      0.08      0.11        39\n",
            "         247       0.54      0.41      0.46        32\n",
            "         248       0.33      0.29      0.31        17\n",
            "         249       0.08      0.03      0.04        34\n",
            "         250       0.27      0.17      0.21        24\n",
            "         251       0.78      0.82      0.80        22\n",
            "         252       0.77      0.56      0.65        18\n",
            "         253       0.84      0.84      0.84        43\n",
            "         254       0.59      0.48      0.53        33\n",
            "         255       0.89      0.71      0.79        35\n",
            "         256       0.35      0.22      0.27        32\n",
            "         257       0.69      0.59      0.63        41\n",
            "         258       0.47      0.28      0.35        29\n",
            "         259       0.14      0.04      0.06        24\n",
            "         260       0.47      0.35      0.40        23\n",
            "         261       0.67      0.38      0.48        16\n",
            "         262       0.15      0.06      0.09        32\n",
            "         263       0.61      0.70      0.65        20\n",
            "         264       0.22      0.09      0.13        22\n",
            "         265       0.45      0.54      0.49        26\n",
            "         266       0.31      0.08      0.13        49\n",
            "         267       0.68      0.50      0.58        30\n",
            "         268       0.72      0.42      0.53        31\n",
            "         269       0.77      0.59      0.67        17\n",
            "         270       0.67      0.53      0.59        19\n",
            "         271       0.00      0.00      0.00        31\n",
            "         272       0.17      0.06      0.09        16\n",
            "         273       0.20      0.12      0.15        25\n",
            "         274       0.18      0.10      0.12        21\n",
            "         275       0.47      0.36      0.41        22\n",
            "         276       0.00      0.00      0.00        46\n",
            "         277       0.62      0.89      0.73         9\n",
            "         278       0.45      0.59      0.51        17\n",
            "         279       0.48      0.67      0.56        15\n",
            "         280       0.50      0.15      0.23        20\n",
            "         281       0.25      0.20      0.22        20\n",
            "         282       0.57      0.57      0.57        14\n",
            "         283       0.22      0.07      0.10        30\n",
            "         284       0.43      0.27      0.33        22\n",
            "         285       0.62      0.59      0.60        22\n",
            "         286       0.00      0.00      0.00        18\n",
            "         287       0.55      0.50      0.52        12\n",
            "         288       0.43      0.24      0.31        25\n",
            "         289       0.39      0.24      0.30        29\n",
            "         290       0.77      0.62      0.69        16\n",
            "         291       0.29      0.07      0.11        28\n",
            "         292       0.25      0.03      0.05        39\n",
            "         293       0.12      0.05      0.07        19\n",
            "         294       0.79      0.70      0.75        27\n",
            "         295       0.42      0.22      0.29        23\n",
            "         296       0.29      0.22      0.25        18\n",
            "         297       0.33      0.10      0.15        10\n",
            "         298       0.00      0.00      0.00        22\n",
            "         299       0.54      0.70      0.61        20\n",
            "         300       0.47      0.35      0.40        20\n",
            "         301       0.21      0.13      0.16        23\n",
            "         302       0.76      0.76      0.76        37\n",
            "         303       0.12      0.07      0.09        28\n",
            "         304       0.89      0.57      0.70        28\n",
            "         305       0.20      0.16      0.18        19\n",
            "         306       0.81      0.63      0.71        27\n",
            "         307       0.08      0.06      0.07        16\n",
            "         308       0.88      0.75      0.81        20\n",
            "         309       0.25      0.17      0.20        18\n",
            "         310       0.29      0.12      0.17        33\n",
            "         311       0.73      0.26      0.38        31\n",
            "         312       0.00      0.00      0.00        24\n",
            "         313       0.37      0.35      0.36        20\n",
            "         314       0.00      0.00      0.00        27\n",
            "         315       0.54      0.64      0.58        11\n",
            "         316       0.33      0.38      0.35        16\n",
            "         317       0.40      0.17      0.24        12\n",
            "         318       0.59      0.59      0.59        22\n",
            "         319       0.39      0.54      0.45        13\n",
            "         320       0.00      0.00      0.00        17\n",
            "         321       0.00      0.00      0.00        22\n",
            "         322       0.45      0.28      0.34        18\n",
            "         323       0.09      0.06      0.07        17\n",
            "         324       0.17      0.08      0.11        24\n",
            "         325       0.43      0.38      0.41        26\n",
            "         326       0.38      0.13      0.19        23\n",
            "         327       0.18      0.12      0.15        16\n",
            "         328       0.71      0.75      0.73        16\n",
            "         329       0.55      0.35      0.43        17\n",
            "         330       0.45      0.28      0.34        18\n",
            "         331       0.33      0.19      0.24        16\n",
            "         332       0.81      0.57      0.67        23\n",
            "         333       0.12      0.04      0.06        26\n",
            "         334       0.17      0.15      0.16        13\n",
            "         335       0.62      0.47      0.53        17\n",
            "         336       0.17      0.07      0.10        15\n",
            "         337       0.15      0.10      0.12        21\n",
            "         338       0.17      0.09      0.11        23\n",
            "         339       0.10      0.09      0.10        11\n",
            "         340       0.12      0.07      0.09        14\n",
            "         341       0.29      0.18      0.22        11\n",
            "         342       0.45      0.48      0.47        21\n",
            "         343       0.11      0.05      0.06        22\n",
            "         344       0.00      0.00      0.00        14\n",
            "         345       0.17      0.12      0.14         8\n",
            "         346       0.55      0.27      0.36        22\n",
            "         347       0.79      0.50      0.61        22\n",
            "         348       0.67      0.47      0.55        17\n",
            "         349       0.13      0.12      0.13        16\n",
            "         350       0.08      0.12      0.10         8\n",
            "         351       0.31      0.31      0.31        13\n",
            "         352       0.79      0.69      0.73        16\n",
            "         353       0.17      0.06      0.09        17\n",
            "         354       0.45      0.33      0.38        15\n",
            "         355       0.20      0.18      0.19        11\n",
            "         356       0.22      0.25      0.24         8\n",
            "         357       0.00      0.00      0.00        16\n",
            "         358       0.20      0.10      0.13        20\n",
            "         359       0.29      0.24      0.26        25\n",
            "         360       0.41      0.36      0.38        25\n",
            "         361       0.16      0.11      0.13        37\n",
            "         362       0.38      0.27      0.32        11\n",
            "         363       0.40      0.33      0.36         6\n",
            "         364       0.55      0.44      0.49        27\n",
            "         365       0.25      0.31      0.28        13\n",
            "         366       0.18      0.11      0.14        18\n",
            "         367       0.43      0.50      0.46         6\n",
            "         368       0.28      0.29      0.29        17\n",
            "         369       0.75      0.43      0.55        14\n",
            "         370       0.00      0.00      0.00         3\n",
            "         371       0.18      0.13      0.15        15\n",
            "         372       0.17      0.04      0.06        26\n",
            "         373       0.00      0.00      0.00        12\n",
            "         374       1.00      0.75      0.86        24\n",
            "         375       0.19      0.16      0.17        19\n",
            "         376       0.43      0.33      0.38        18\n",
            "         377       0.17      0.05      0.08        19\n",
            "         378       0.78      0.58      0.67        24\n",
            "         379       0.36      0.33      0.34        15\n",
            "         380       0.25      0.07      0.11        27\n",
            "         381       0.22      0.18      0.20        11\n",
            "         382       0.31      0.19      0.24        26\n",
            "         383       0.50      0.38      0.43        13\n",
            "         384       0.36      0.29      0.32        14\n",
            "         385       0.47      0.29      0.36        28\n",
            "         386       0.74      0.74      0.74        27\n",
            "         387       0.25      0.14      0.18        14\n",
            "         388       0.44      0.35      0.39        20\n",
            "         389       0.29      0.15      0.20        13\n",
            "         390       0.92      0.73      0.81        15\n",
            "         391       0.22      0.17      0.19        12\n",
            "         392       0.12      0.07      0.09        15\n",
            "         393       0.93      0.91      0.92        47\n",
            "         394       0.75      0.20      0.32        15\n",
            "         395       0.06      0.05      0.05        21\n",
            "         396       0.50      0.19      0.28        21\n",
            "         397       0.29      0.31      0.30        13\n",
            "         398       0.09      0.04      0.05        27\n",
            "         399       0.87      0.65      0.74        20\n",
            "         400       0.26      0.25      0.26        20\n",
            "         401       0.50      0.50      0.50        22\n",
            "         402       0.50      0.17      0.25        12\n",
            "         403       0.11      0.07      0.09        14\n",
            "         404       0.25      0.17      0.20        12\n",
            "         405       0.19      0.21      0.20        14\n",
            "         406       0.00      0.00      0.00        14\n",
            "         407       0.86      0.86      0.86        28\n",
            "         408       0.78      0.70      0.74        20\n",
            "         409       0.79      0.85      0.81        13\n",
            "         410       0.39      0.30      0.34        23\n",
            "         411       0.89      0.47      0.62        17\n",
            "         412       0.40      0.17      0.24        12\n",
            "         413       0.50      0.07      0.12        15\n",
            "         414       0.80      0.27      0.40        15\n",
            "         415       0.00      0.00      0.00        16\n",
            "         416       0.00      0.00      0.00        17\n",
            "         417       0.40      0.13      0.20        15\n",
            "         418       0.57      0.25      0.35        16\n",
            "         419       0.08      0.07      0.07        15\n",
            "         420       0.70      0.67      0.68        24\n",
            "         421       0.27      0.27      0.27        11\n",
            "         422       0.50      0.10      0.17        29\n",
            "         423       0.12      0.06      0.08        17\n",
            "         424       0.31      0.24      0.27        17\n",
            "         425       0.20      0.11      0.14         9\n",
            "         426       0.27      0.09      0.13        35\n",
            "         427       0.28      0.42      0.33        12\n",
            "         428       0.44      0.33      0.38        12\n",
            "         429       0.56      0.42      0.48        33\n",
            "         430       0.50      0.18      0.27        11\n",
            "         431       0.46      0.29      0.35        21\n",
            "         432       0.00      0.00      0.00        13\n",
            "         433       0.33      0.25      0.29        16\n",
            "         434       0.94      0.79      0.86        19\n",
            "         435       0.75      0.38      0.50         8\n",
            "         436       0.56      0.29      0.38        17\n",
            "         437       0.87      0.81      0.84        16\n",
            "         438       0.00      0.00      0.00         9\n",
            "         439       0.40      0.19      0.26        31\n",
            "         440       1.00      0.89      0.94         9\n",
            "         441       0.56      0.36      0.43        14\n",
            "         442       0.33      0.05      0.08        22\n",
            "         443       0.73      0.61      0.67        18\n",
            "         444       0.38      0.19      0.25        27\n",
            "         445       0.32      0.46      0.37        13\n",
            "         446       0.33      0.23      0.27        13\n",
            "         447       0.75      0.38      0.50        24\n",
            "         448       0.17      0.17      0.17         6\n",
            "         449       0.44      0.36      0.40        11\n",
            "         450       0.25      0.12      0.17         8\n",
            "         451       0.00      0.00      0.00        15\n",
            "         452       0.86      0.63      0.73        19\n",
            "         453       0.29      0.14      0.19        14\n",
            "         454       0.83      0.58      0.68        26\n",
            "         455       0.35      0.33      0.34        18\n",
            "         456       0.00      0.00      0.00        14\n",
            "         457       0.89      0.80      0.84        10\n",
            "         458       0.43      0.32      0.36        19\n",
            "         459       0.50      0.25      0.33        16\n",
            "         460       0.40      0.38      0.39        16\n",
            "         461       0.00      0.00      0.00        19\n",
            "         462       0.25      0.09      0.13        22\n",
            "         463       0.21      0.15      0.18        26\n",
            "         464       0.60      0.63      0.62        19\n",
            "         465       0.75      0.38      0.50        16\n",
            "         466       0.08      0.08      0.08        12\n",
            "         467       0.50      0.33      0.40        21\n",
            "         468       0.00      0.00      0.00        24\n",
            "         469       0.33      0.17      0.22         6\n",
            "         470       0.67      0.09      0.15        23\n",
            "         471       0.23      0.16      0.19        19\n",
            "         472       0.57      0.24      0.33        17\n",
            "         473       0.23      0.16      0.19        19\n",
            "         474       0.25      0.11      0.15        19\n",
            "         475       0.27      0.14      0.19        21\n",
            "         476       0.10      0.10      0.10        10\n",
            "         477       0.20      0.08      0.12        12\n",
            "         478       0.67      0.40      0.50         5\n",
            "         479       0.62      1.00      0.77         5\n",
            "         480       0.00      0.00      0.00         9\n",
            "         481       0.43      0.32      0.36        19\n",
            "         482       0.50      0.19      0.28        21\n",
            "         483       0.90      0.50      0.64        18\n",
            "         484       0.67      0.44      0.53        18\n",
            "         485       0.25      0.13      0.17        15\n",
            "         486       0.71      0.62      0.67         8\n",
            "         487       0.20      0.07      0.11        14\n",
            "         488       0.80      0.40      0.53        10\n",
            "         489       0.83      0.53      0.65        19\n",
            "         490       0.78      0.67      0.72        27\n",
            "         491       0.33      0.20      0.25        15\n",
            "         492       0.71      0.59      0.65        17\n",
            "         493       0.00      0.00      0.00         7\n",
            "         494       0.67      0.67      0.67        12\n",
            "         495       0.18      0.10      0.13        20\n",
            "         496       0.00      0.00      0.00        18\n",
            "         497       0.47      0.44      0.45        16\n",
            "         498       0.82      0.53      0.64        17\n",
            "         499       0.15      0.18      0.17        11\n",
            "\n",
            "   micro avg       0.60      0.43      0.50     35488\n",
            "   macro avg       0.45      0.33      0.37     35488\n",
            "weighted avg       0.57      0.43      0.49     35488\n",
            " samples avg       0.48      0.43      0.42     35488\n",
            "\n"
          ],
          "name": "stdout"
        }
      ]
    },
    {
      "metadata": {
        "id": "UcRGIKVKjD-I",
        "colab_type": "text"
      },
      "cell_type": "markdown",
      "source": [
        "# Q-2:HyperParameter Tunning using GrideSearchCV"
      ]
    },
    {
      "metadata": {
        "id": "wtoErBnDjOl7",
        "colab_type": "code",
        "colab": {}
      },
      "cell_type": "code",
      "source": [
        "from sklearn.model_selection import GridSearchCV\n",
        "parameters = {'estimator__C': [0.1,1, 10] }"
      ],
      "execution_count": 0,
      "outputs": []
    },
    {
      "metadata": {
        "id": "SQXEHDLvkcGW",
        "colab_type": "code",
        "colab": {}
      },
      "cell_type": "code",
      "source": [
        "clf1= OneVsRestClassifier(LogisticRegression(penalty='l1'),n_jobs=-1)\n",
        "clf = GridSearchCV(clf1,param_grid=parameters, n_jobs=-1)\n"
      ],
      "execution_count": 0,
      "outputs": []
    },
    {
      "metadata": {
        "id": "FKoA9hoyknqr",
        "colab_type": "code",
        "colab": {
          "base_uri": "https://localhost:8080/",
          "height": 168
        },
        "outputId": "36bef65a-9b29-4038-e092-31ba78da0f82"
      },
      "cell_type": "code",
      "source": [
        "clf.fit(train_bows[0:1000],y_train[0:1000])"
      ],
      "execution_count": 98,
      "outputs": [
        {
          "output_type": "execute_result",
          "data": {
            "text/plain": [
              "GridSearchCV(cv='warn', error_score='raise-deprecating',\n",
              "       estimator=OneVsRestClassifier(estimator=LogisticRegression(C=1.0, class_weight=None, dual=False, fit_intercept=True,\n",
              "          intercept_scaling=1, max_iter=100, multi_class='warn',\n",
              "          n_jobs=None, penalty='l1', random_state=None, solver='warn',\n",
              "          tol=0.0001, verbose=0, warm_start=False),\n",
              "          n_jobs=-1),\n",
              "       fit_params=None, iid='warn', n_jobs=-1,\n",
              "       param_grid={'estimator__C': [0.1, 1, 10]}, pre_dispatch='2*n_jobs',\n",
              "       refit=True, return_train_score='warn', scoring=None, verbose=0)"
            ]
          },
          "metadata": {
            "tags": []
          },
          "execution_count": 98
        }
      ]
    },
    {
      "metadata": {
        "id": "0AeQARpdkFeX",
        "colab_type": "text"
      },
      "cell_type": "markdown",
      "source": [
        "**Note:** Its not feasible for me  to run whole 89k points.I tried several days."
      ]
    },
    {
      "metadata": {
        "id": "t9g4u8RNkzk7",
        "colab_type": "code",
        "colab": {
          "base_uri": "https://localhost:8080/",
          "height": 50
        },
        "outputId": "5b0bbb77-0e3c-48f3-f4d8-37ca26e80181"
      },
      "cell_type": "code",
      "source": [
        "print('Best score:', clf.best_score_) \n",
        "print('Best C:',clf.best_params_) "
      ],
      "execution_count": 99,
      "outputs": [
        {
          "output_type": "stream",
          "text": [
            "Best score: 0.135\n",
            "Best C: {'estimator__C': 1}\n"
          ],
          "name": "stdout"
        }
      ]
    },
    {
      "metadata": {
        "id": "xSr8s3UHpLV3",
        "colab_type": "text"
      },
      "cell_type": "markdown",
      "source": [
        "**Observation:** C=1 is best hyperparameter"
      ]
    },
    {
      "metadata": {
        "id": "nUtpsSoDeGlh",
        "colab_type": "code",
        "colab": {
          "base_uri": "https://localhost:8080/",
          "height": 8618
        },
        "outputId": "45782be0-a051-4a60-bfed-8d2b817dc5b0"
      },
      "cell_type": "code",
      "source": [
        "clf=OneVsRestClassifier(LogisticRegression(C=1,penalty='l1'),n_jobs=-1)\n",
        "clf.fit(train_bows,y_train)\n",
        "y_pred=clf.predict(test_bows)\n",
        "print(\"Accuracy :\",metrics.accuracy_score(y_test,y_pred))\n",
        "print(\"Hemming :\",metrics.hamming_loss(y_test,y_pred))\n",
        "precision=precision_score(y_test,y_pred,average='micro')\n",
        "recall=recall_score(y_test,y_pred,average='micro')\n",
        "f1=f1_score(y_test,y_pred,average='micro')\n",
        "print(\"Micro-average quality numbers\")\n",
        "print(\"Precision: %.4f\" %precision,\" Recall: %.4f\" %recall,\" F1_score: %.4f\" %f1)\n",
        "print (metrics.classification_report(y_test, y_pred))"
      ],
      "execution_count": 101,
      "outputs": [
        {
          "output_type": "stream",
          "text": [
            "Accuracy : 0.2147991755894033\n",
            "Hemming : 0.0030614789121801637\n",
            "Micro-average quality numbers\n",
            "Precision: 0.5979  Recall: 0.4334  F1_score: 0.5025\n",
            "              precision    recall  f1-score   support\n",
            "\n",
            "           0       0.51      0.39      0.45      1209\n",
            "           1       0.68      0.48      0.56      1272\n",
            "           2       0.75      0.59      0.66      1529\n",
            "           3       0.59      0.47      0.52      1505\n",
            "           4       0.90      0.75      0.82      1027\n",
            "           5       0.85      0.76      0.81      1809\n",
            "           6       0.77      0.55      0.64       751\n",
            "           7       0.67      0.61      0.64       851\n",
            "           8       0.84      0.63      0.72       657\n",
            "           9       0.69      0.51      0.59       524\n",
            "          10       0.83      0.66      0.73       582\n",
            "          11       0.35      0.23      0.27       655\n",
            "          12       0.34      0.17      0.23       390\n",
            "          13       0.50      0.35      0.41       356\n",
            "          14       0.35      0.27      0.30       489\n",
            "          15       0.69      0.53      0.60       488\n",
            "          16       0.55      0.45      0.49       583\n",
            "          17       0.45      0.31      0.37       444\n",
            "          18       0.74      0.53      0.62       390\n",
            "          19       0.34      0.20      0.25       358\n",
            "          20       0.54      0.32      0.40       409\n",
            "          21       0.44      0.36      0.40       156\n",
            "          22       0.59      0.39      0.47       225\n",
            "          23       0.72      0.53      0.61       135\n",
            "          24       0.61      0.57      0.59       282\n",
            "          25       0.64      0.48      0.55       307\n",
            "          26       0.56      0.45      0.50       246\n",
            "          27       0.26      0.16      0.20       158\n",
            "          28       0.81      0.70      0.75       205\n",
            "          29       0.60      0.35      0.44       122\n",
            "          30       0.41      0.31      0.35       117\n",
            "          31       0.53      0.38      0.44       260\n",
            "          32       0.92      0.78      0.84       179\n",
            "          33       0.41      0.31      0.36       156\n",
            "          34       0.44      0.25      0.31       159\n",
            "          35       0.69      0.54      0.61       169\n",
            "          36       0.60      0.37      0.45       126\n",
            "          37       0.52      0.36      0.43       132\n",
            "          38       0.78      0.55      0.64       115\n",
            "          39       0.74      0.62      0.67       131\n",
            "          40       0.37      0.23      0.28       123\n",
            "          41       0.37      0.20      0.26       145\n",
            "          42       0.66      0.40      0.50       112\n",
            "          43       0.40      0.29      0.34       104\n",
            "          44       0.58      0.36      0.44       100\n",
            "          45       0.60      0.47      0.52       116\n",
            "          46       0.62      0.41      0.49       138\n",
            "          47       0.39      0.23      0.29        88\n",
            "          48       0.57      0.36      0.44        75\n",
            "          49       0.11      0.05      0.07        75\n",
            "          50       0.69      0.59      0.64        64\n",
            "          51       0.84      0.61      0.71        83\n",
            "          52       0.27      0.15      0.19       115\n",
            "          53       0.63      0.41      0.50        99\n",
            "          54       0.75      0.62      0.68       213\n",
            "          55       0.39      0.19      0.26        77\n",
            "          56       0.56      0.31      0.40        88\n",
            "          57       0.24      0.15      0.18        79\n",
            "          58       0.33      0.17      0.23       105\n",
            "          59       0.57      0.18      0.28        71\n",
            "          60       0.86      0.83      0.85       125\n",
            "          61       0.65      0.61      0.63        71\n",
            "          62       0.34      0.21      0.26        75\n",
            "          63       0.64      0.54      0.59        63\n",
            "          64       0.32      0.20      0.25        69\n",
            "          65       0.59      0.54      0.56        65\n",
            "          66       0.53      0.42      0.47        62\n",
            "          67       0.07      0.04      0.05        80\n",
            "          68       0.59      0.46      0.52       139\n",
            "          69       0.80      0.74      0.77        85\n",
            "          70       0.52      0.50      0.51        74\n",
            "          71       0.28      0.15      0.19        88\n",
            "          72       0.73      0.41      0.53        46\n",
            "          73       0.80      0.32      0.46       108\n",
            "          74       0.67      0.41      0.51        63\n",
            "          75       0.60      0.35      0.44        72\n",
            "          76       0.59      0.48      0.53        27\n",
            "          77       0.88      0.69      0.77        81\n",
            "          78       0.22      0.10      0.14        71\n",
            "          79       0.79      0.55      0.65        60\n",
            "          80       0.59      0.51      0.55       129\n",
            "          81       0.38      0.31      0.34        74\n",
            "          82       0.60      0.42      0.50        83\n",
            "          83       0.36      0.24      0.29        87\n",
            "          84       0.74      0.68      0.71        68\n",
            "          85       0.13      0.06      0.08        82\n",
            "          86       0.84      0.59      0.69        82\n",
            "          87       0.54      0.58      0.55        66\n",
            "          88       0.26      0.11      0.15        56\n",
            "          89       0.84      0.65      0.73       100\n",
            "          90       0.22      0.15      0.18        41\n",
            "          91       0.61      0.41      0.49        49\n",
            "          92       0.54      0.54      0.54        52\n",
            "          93       0.81      0.53      0.64        47\n",
            "          94       0.22      0.20      0.21        54\n",
            "          95       0.23      0.12      0.16        68\n",
            "          96       0.41      0.26      0.32        47\n",
            "          97       0.48      0.27      0.34        49\n",
            "          98       0.49      0.25      0.33        80\n",
            "          99       0.74      0.50      0.60        34\n",
            "         100       0.47      0.47      0.47        30\n",
            "         101       0.85      0.80      0.82        50\n",
            "         102       0.43      0.36      0.39        50\n",
            "         103       0.90      0.67      0.77        57\n",
            "         104       0.19      0.09      0.12        47\n",
            "         105       0.94      0.71      0.81        66\n",
            "         106       0.56      0.39      0.46        49\n",
            "         107       0.29      0.25      0.27        48\n",
            "         108       0.90      0.65      0.76        57\n",
            "         109       0.54      0.39      0.45        57\n",
            "         110       0.23      0.17      0.19        54\n",
            "         111       0.18      0.07      0.10        56\n",
            "         112       0.14      0.07      0.09        75\n",
            "         113       0.50      0.49      0.50        51\n",
            "         114       0.78      0.54      0.64        59\n",
            "         115       0.76      0.63      0.69        41\n",
            "         116       0.92      0.69      0.79       135\n",
            "         117       0.31      0.22      0.26        41\n",
            "         118       0.51      0.40      0.45        58\n",
            "         119       0.30      0.16      0.20        58\n",
            "         120       0.56      0.40      0.47        50\n",
            "         121       0.34      0.24      0.28        51\n",
            "         122       0.78      0.65      0.71        60\n",
            "         123       0.71      0.39      0.51        61\n",
            "         124       0.39      0.26      0.31        42\n",
            "         125       0.15      0.06      0.08        51\n",
            "         126       0.78      0.58      0.67        43\n",
            "         127       0.69      0.45      0.55        40\n",
            "         128       0.25      0.21      0.23        29\n",
            "         129       0.39      0.27      0.32        33\n",
            "         130       0.67      0.55      0.60        44\n",
            "         131       0.38      0.27      0.32        51\n",
            "         132       0.22      0.15      0.18        33\n",
            "         133       0.43      0.49      0.46        37\n",
            "         134       0.70      0.55      0.62        51\n",
            "         135       0.45      0.26      0.33        39\n",
            "         136       0.44      0.37      0.41        43\n",
            "         137       0.40      0.24      0.30        50\n",
            "         138       0.25      0.15      0.18        48\n",
            "         139       0.92      0.85      0.88        53\n",
            "         140       0.53      0.31      0.40        54\n",
            "         141       0.17      0.10      0.12        42\n",
            "         142       0.00      0.00      0.00        39\n",
            "         143       0.49      0.41      0.45        41\n",
            "         144       0.24      0.13      0.17        30\n",
            "         145       0.35      0.20      0.26        30\n",
            "         146       0.84      0.80      0.82        20\n",
            "         147       0.83      0.79      0.81        38\n",
            "         148       0.40      0.48      0.44        48\n",
            "         149       0.89      0.67      0.76        58\n",
            "         150       0.26      0.20      0.22        50\n",
            "         151       0.65      0.33      0.44        51\n",
            "         152       0.41      0.35      0.38        40\n",
            "         153       0.39      0.31      0.35        42\n",
            "         154       0.26      0.13      0.18        52\n",
            "         155       0.00      0.00      0.00        48\n",
            "         156       0.56      0.35      0.43        51\n",
            "         157       0.43      0.16      0.23        58\n",
            "         158       0.67      0.55      0.61        56\n",
            "         159       0.90      0.74      0.81        38\n",
            "         160       0.50      0.46      0.48        28\n",
            "         161       0.18      0.11      0.14        37\n",
            "         162       0.31      0.18      0.23        44\n",
            "         163       0.38      0.27      0.31        30\n",
            "         164       0.37      0.21      0.26        34\n",
            "         165       0.54      0.39      0.45        38\n",
            "         166       0.33      0.27      0.30        30\n",
            "         167       0.62      0.58      0.60        45\n",
            "         168       0.48      0.28      0.35        39\n",
            "         169       0.21      0.09      0.13        32\n",
            "         170       0.97      0.84      0.90        70\n",
            "         171       0.41      0.21      0.27        34\n",
            "         172       0.80      0.71      0.75        34\n",
            "         173       0.25      0.10      0.15        39\n",
            "         174       0.19      0.12      0.15        48\n",
            "         175       0.61      0.40      0.48        57\n",
            "         176       0.76      0.71      0.73        41\n",
            "         177       0.22      0.11      0.15        71\n",
            "         178       0.65      0.54      0.59        24\n",
            "         179       0.38      0.39      0.39        46\n",
            "         180       0.23      0.08      0.12        36\n",
            "         181       0.30      0.15      0.20        39\n",
            "         182       0.91      0.82      0.86        87\n",
            "         183       0.26      0.10      0.15        48\n",
            "         184       0.35      0.15      0.21        40\n",
            "         185       0.48      0.40      0.44        30\n",
            "         186       0.47      0.50      0.48        28\n",
            "         187       0.65      0.44      0.52        25\n",
            "         188       0.50      0.28      0.35        40\n",
            "         189       0.06      0.02      0.03        44\n",
            "         190       0.62      0.60      0.61        25\n",
            "         191       0.29      0.19      0.23        27\n",
            "         192       0.43      0.43      0.43        30\n",
            "         193       0.33      0.23      0.27        26\n",
            "         194       0.44      0.32      0.38        37\n",
            "         195       0.89      0.71      0.79        69\n",
            "         196       0.21      0.15      0.17        27\n",
            "         197       0.29      0.23      0.26        44\n",
            "         198       0.11      0.04      0.06        54\n",
            "         199       0.67      0.45      0.54        22\n",
            "         200       0.62      0.40      0.48        53\n",
            "         201       0.54      0.45      0.49        47\n",
            "         202       0.69      0.32      0.44        28\n",
            "         203       0.62      0.42      0.50        24\n",
            "         204       0.20      0.06      0.09        36\n",
            "         205       0.33      0.24      0.28        25\n",
            "         206       0.15      0.11      0.12        38\n",
            "         207       0.29      0.06      0.11        31\n",
            "         208       0.92      0.74      0.82        31\n",
            "         209       0.73      0.69      0.71        35\n",
            "         210       0.25      0.17      0.20        35\n",
            "         211       0.24      0.14      0.18        42\n",
            "         212       0.08      0.02      0.03        52\n",
            "         213       0.00      0.00      0.00        31\n",
            "         214       0.52      0.43      0.47        30\n",
            "         215       0.70      0.26      0.38        27\n",
            "         216       0.31      0.21      0.25        38\n",
            "         217       0.44      0.47      0.46        17\n",
            "         218       0.29      0.14      0.19        35\n",
            "         219       0.65      0.37      0.47        30\n",
            "         220       0.17      0.20      0.18        10\n",
            "         221       0.08      0.05      0.06        20\n",
            "         222       0.45      0.45      0.45        11\n",
            "         223       0.53      0.45      0.49        40\n",
            "         224       0.62      0.48      0.54        44\n",
            "         225       0.27      0.17      0.21        42\n",
            "         226       0.90      0.66      0.76        29\n",
            "         227       0.26      0.11      0.15        64\n",
            "         228       0.85      0.78      0.81        36\n",
            "         229       0.30      0.22      0.26        27\n",
            "         230       0.42      0.33      0.37        30\n",
            "         231       0.67      0.67      0.67        27\n",
            "         232       0.43      0.30      0.35        30\n",
            "         233       0.60      0.35      0.44        26\n",
            "         234       0.72      0.48      0.58        27\n",
            "         235       0.35      0.14      0.20        43\n",
            "         236       0.35      0.19      0.25        31\n",
            "         237       0.36      0.16      0.22        31\n",
            "         238       0.60      0.44      0.51        27\n",
            "         239       0.28      0.25      0.26        20\n",
            "         240       0.00      0.00      0.00        32\n",
            "         241       0.65      0.47      0.55        32\n",
            "         242       0.56      0.36      0.43        28\n",
            "         243       0.69      0.60      0.64        42\n",
            "         244       0.25      0.23      0.24        13\n",
            "         245       0.09      0.04      0.05        28\n",
            "         246       0.18      0.08      0.11        39\n",
            "         247       0.54      0.41      0.46        32\n",
            "         248       0.33      0.29      0.31        17\n",
            "         249       0.08      0.03      0.04        34\n",
            "         250       0.27      0.17      0.21        24\n",
            "         251       0.78      0.82      0.80        22\n",
            "         252       0.77      0.56      0.65        18\n",
            "         253       0.84      0.84      0.84        43\n",
            "         254       0.59      0.48      0.53        33\n",
            "         255       0.89      0.71      0.79        35\n",
            "         256       0.35      0.22      0.27        32\n",
            "         257       0.69      0.59      0.63        41\n",
            "         258       0.47      0.28      0.35        29\n",
            "         259       0.14      0.04      0.06        24\n",
            "         260       0.47      0.35      0.40        23\n",
            "         261       0.67      0.38      0.48        16\n",
            "         262       0.15      0.06      0.09        32\n",
            "         263       0.61      0.70      0.65        20\n",
            "         264       0.22      0.09      0.13        22\n",
            "         265       0.45      0.54      0.49        26\n",
            "         266       0.31      0.08      0.13        49\n",
            "         267       0.68      0.50      0.58        30\n",
            "         268       0.72      0.42      0.53        31\n",
            "         269       0.77      0.59      0.67        17\n",
            "         270       0.67      0.53      0.59        19\n",
            "         271       0.00      0.00      0.00        31\n",
            "         272       0.17      0.06      0.09        16\n",
            "         273       0.20      0.12      0.15        25\n",
            "         274       0.18      0.10      0.12        21\n",
            "         275       0.47      0.36      0.41        22\n",
            "         276       0.00      0.00      0.00        46\n",
            "         277       0.62      0.89      0.73         9\n",
            "         278       0.45      0.59      0.51        17\n",
            "         279       0.48      0.67      0.56        15\n",
            "         280       0.50      0.15      0.23        20\n",
            "         281       0.25      0.20      0.22        20\n",
            "         282       0.57      0.57      0.57        14\n",
            "         283       0.22      0.07      0.10        30\n",
            "         284       0.43      0.27      0.33        22\n",
            "         285       0.62      0.59      0.60        22\n",
            "         286       0.00      0.00      0.00        18\n",
            "         287       0.55      0.50      0.52        12\n",
            "         288       0.43      0.24      0.31        25\n",
            "         289       0.39      0.24      0.30        29\n",
            "         290       0.77      0.62      0.69        16\n",
            "         291       0.29      0.07      0.11        28\n",
            "         292       0.25      0.03      0.05        39\n",
            "         293       0.12      0.05      0.07        19\n",
            "         294       0.79      0.70      0.75        27\n",
            "         295       0.42      0.22      0.29        23\n",
            "         296       0.29      0.22      0.25        18\n",
            "         297       0.33      0.10      0.15        10\n",
            "         298       0.00      0.00      0.00        22\n",
            "         299       0.54      0.70      0.61        20\n",
            "         300       0.47      0.35      0.40        20\n",
            "         301       0.21      0.13      0.16        23\n",
            "         302       0.76      0.76      0.76        37\n",
            "         303       0.12      0.07      0.09        28\n",
            "         304       0.89      0.57      0.70        28\n",
            "         305       0.20      0.16      0.18        19\n",
            "         306       0.81      0.63      0.71        27\n",
            "         307       0.08      0.06      0.07        16\n",
            "         308       0.88      0.75      0.81        20\n",
            "         309       0.25      0.17      0.20        18\n",
            "         310       0.29      0.12      0.17        33\n",
            "         311       0.73      0.26      0.38        31\n",
            "         312       0.00      0.00      0.00        24\n",
            "         313       0.37      0.35      0.36        20\n",
            "         314       0.00      0.00      0.00        27\n",
            "         315       0.54      0.64      0.58        11\n",
            "         316       0.33      0.38      0.35        16\n",
            "         317       0.40      0.17      0.24        12\n",
            "         318       0.59      0.59      0.59        22\n",
            "         319       0.39      0.54      0.45        13\n",
            "         320       0.00      0.00      0.00        17\n",
            "         321       0.00      0.00      0.00        22\n",
            "         322       0.45      0.28      0.34        18\n",
            "         323       0.09      0.06      0.07        17\n",
            "         324       0.17      0.08      0.11        24\n",
            "         325       0.43      0.38      0.41        26\n",
            "         326       0.38      0.13      0.19        23\n",
            "         327       0.18      0.12      0.15        16\n",
            "         328       0.71      0.75      0.73        16\n",
            "         329       0.55      0.35      0.43        17\n",
            "         330       0.45      0.28      0.34        18\n",
            "         331       0.33      0.19      0.24        16\n",
            "         332       0.81      0.57      0.67        23\n",
            "         333       0.12      0.04      0.06        26\n",
            "         334       0.17      0.15      0.16        13\n",
            "         335       0.62      0.47      0.53        17\n",
            "         336       0.17      0.07      0.10        15\n",
            "         337       0.15      0.10      0.12        21\n",
            "         338       0.17      0.09      0.11        23\n",
            "         339       0.10      0.09      0.10        11\n",
            "         340       0.12      0.07      0.09        14\n",
            "         341       0.29      0.18      0.22        11\n",
            "         342       0.45      0.48      0.47        21\n",
            "         343       0.11      0.05      0.06        22\n",
            "         344       0.00      0.00      0.00        14\n",
            "         345       0.17      0.12      0.14         8\n",
            "         346       0.55      0.27      0.36        22\n",
            "         347       0.79      0.50      0.61        22\n",
            "         348       0.67      0.47      0.55        17\n",
            "         349       0.13      0.12      0.13        16\n",
            "         350       0.08      0.12      0.10         8\n",
            "         351       0.31      0.31      0.31        13\n",
            "         352       0.79      0.69      0.73        16\n",
            "         353       0.17      0.06      0.09        17\n",
            "         354       0.45      0.33      0.38        15\n",
            "         355       0.20      0.18      0.19        11\n",
            "         356       0.22      0.25      0.24         8\n",
            "         357       0.00      0.00      0.00        16\n",
            "         358       0.20      0.10      0.13        20\n",
            "         359       0.29      0.24      0.26        25\n",
            "         360       0.41      0.36      0.38        25\n",
            "         361       0.16      0.11      0.13        37\n",
            "         362       0.38      0.27      0.32        11\n",
            "         363       0.40      0.33      0.36         6\n",
            "         364       0.55      0.44      0.49        27\n",
            "         365       0.25      0.31      0.28        13\n",
            "         366       0.18      0.11      0.14        18\n",
            "         367       0.43      0.50      0.46         6\n",
            "         368       0.28      0.29      0.29        17\n",
            "         369       0.75      0.43      0.55        14\n",
            "         370       0.00      0.00      0.00         3\n",
            "         371       0.18      0.13      0.15        15\n",
            "         372       0.17      0.04      0.06        26\n",
            "         373       0.00      0.00      0.00        12\n",
            "         374       1.00      0.75      0.86        24\n",
            "         375       0.19      0.16      0.17        19\n",
            "         376       0.43      0.33      0.38        18\n",
            "         377       0.17      0.05      0.08        19\n",
            "         378       0.78      0.58      0.67        24\n",
            "         379       0.36      0.33      0.34        15\n",
            "         380       0.25      0.07      0.11        27\n",
            "         381       0.22      0.18      0.20        11\n",
            "         382       0.31      0.19      0.24        26\n",
            "         383       0.50      0.38      0.43        13\n",
            "         384       0.36      0.29      0.32        14\n",
            "         385       0.47      0.29      0.36        28\n",
            "         386       0.74      0.74      0.74        27\n",
            "         387       0.25      0.14      0.18        14\n",
            "         388       0.44      0.35      0.39        20\n",
            "         389       0.29      0.15      0.20        13\n",
            "         390       0.92      0.73      0.81        15\n",
            "         391       0.22      0.17      0.19        12\n",
            "         392       0.12      0.07      0.09        15\n",
            "         393       0.93      0.91      0.92        47\n",
            "         394       0.75      0.20      0.32        15\n",
            "         395       0.06      0.05      0.05        21\n",
            "         396       0.50      0.19      0.28        21\n",
            "         397       0.29      0.31      0.30        13\n",
            "         398       0.09      0.04      0.05        27\n",
            "         399       0.87      0.65      0.74        20\n",
            "         400       0.26      0.25      0.26        20\n",
            "         401       0.50      0.50      0.50        22\n",
            "         402       0.50      0.17      0.25        12\n",
            "         403       0.11      0.07      0.09        14\n",
            "         404       0.25      0.17      0.20        12\n",
            "         405       0.19      0.21      0.20        14\n",
            "         406       0.00      0.00      0.00        14\n",
            "         407       0.86      0.86      0.86        28\n",
            "         408       0.78      0.70      0.74        20\n",
            "         409       0.79      0.85      0.81        13\n",
            "         410       0.39      0.30      0.34        23\n",
            "         411       0.89      0.47      0.62        17\n",
            "         412       0.40      0.17      0.24        12\n",
            "         413       0.50      0.07      0.12        15\n",
            "         414       0.80      0.27      0.40        15\n",
            "         415       0.00      0.00      0.00        16\n",
            "         416       0.00      0.00      0.00        17\n",
            "         417       0.40      0.13      0.20        15\n",
            "         418       0.57      0.25      0.35        16\n",
            "         419       0.08      0.07      0.07        15\n",
            "         420       0.70      0.67      0.68        24\n",
            "         421       0.27      0.27      0.27        11\n",
            "         422       0.50      0.10      0.17        29\n",
            "         423       0.12      0.06      0.08        17\n",
            "         424       0.31      0.24      0.27        17\n",
            "         425       0.20      0.11      0.14         9\n",
            "         426       0.27      0.09      0.13        35\n",
            "         427       0.28      0.42      0.33        12\n",
            "         428       0.44      0.33      0.38        12\n",
            "         429       0.56      0.42      0.48        33\n",
            "         430       0.50      0.18      0.27        11\n",
            "         431       0.46      0.29      0.35        21\n",
            "         432       0.00      0.00      0.00        13\n",
            "         433       0.33      0.25      0.29        16\n",
            "         434       0.94      0.79      0.86        19\n",
            "         435       0.75      0.38      0.50         8\n",
            "         436       0.56      0.29      0.38        17\n",
            "         437       0.87      0.81      0.84        16\n",
            "         438       0.00      0.00      0.00         9\n",
            "         439       0.40      0.19      0.26        31\n",
            "         440       1.00      0.89      0.94         9\n",
            "         441       0.56      0.36      0.43        14\n",
            "         442       0.33      0.05      0.08        22\n",
            "         443       0.73      0.61      0.67        18\n",
            "         444       0.38      0.19      0.25        27\n",
            "         445       0.32      0.46      0.37        13\n",
            "         446       0.33      0.23      0.27        13\n",
            "         447       0.75      0.38      0.50        24\n",
            "         448       0.17      0.17      0.17         6\n",
            "         449       0.44      0.36      0.40        11\n",
            "         450       0.25      0.12      0.17         8\n",
            "         451       0.00      0.00      0.00        15\n",
            "         452       0.86      0.63      0.73        19\n",
            "         453       0.29      0.14      0.19        14\n",
            "         454       0.83      0.58      0.68        26\n",
            "         455       0.35      0.33      0.34        18\n",
            "         456       0.00      0.00      0.00        14\n",
            "         457       0.89      0.80      0.84        10\n",
            "         458       0.43      0.32      0.36        19\n",
            "         459       0.50      0.25      0.33        16\n",
            "         460       0.40      0.38      0.39        16\n",
            "         461       0.00      0.00      0.00        19\n",
            "         462       0.25      0.09      0.13        22\n",
            "         463       0.21      0.15      0.18        26\n",
            "         464       0.60      0.63      0.62        19\n",
            "         465       0.75      0.38      0.50        16\n",
            "         466       0.08      0.08      0.08        12\n",
            "         467       0.50      0.33      0.40        21\n",
            "         468       0.00      0.00      0.00        24\n",
            "         469       0.33      0.17      0.22         6\n",
            "         470       0.67      0.09      0.15        23\n",
            "         471       0.23      0.16      0.19        19\n",
            "         472       0.57      0.24      0.33        17\n",
            "         473       0.23      0.16      0.19        19\n",
            "         474       0.25      0.11      0.15        19\n",
            "         475       0.27      0.14      0.19        21\n",
            "         476       0.10      0.10      0.10        10\n",
            "         477       0.20      0.08      0.12        12\n",
            "         478       0.67      0.40      0.50         5\n",
            "         479       0.62      1.00      0.77         5\n",
            "         480       0.00      0.00      0.00         9\n",
            "         481       0.43      0.32      0.36        19\n",
            "         482       0.50      0.19      0.28        21\n",
            "         483       0.90      0.50      0.64        18\n",
            "         484       0.67      0.44      0.53        18\n",
            "         485       0.25      0.13      0.17        15\n",
            "         486       0.71      0.62      0.67         8\n",
            "         487       0.20      0.07      0.11        14\n",
            "         488       0.80      0.40      0.53        10\n",
            "         489       0.83      0.53      0.65        19\n",
            "         490       0.78      0.67      0.72        27\n",
            "         491       0.33      0.20      0.25        15\n",
            "         492       0.71      0.59      0.65        17\n",
            "         493       0.00      0.00      0.00         7\n",
            "         494       0.67      0.67      0.67        12\n",
            "         495       0.18      0.10      0.13        20\n",
            "         496       0.00      0.00      0.00        18\n",
            "         497       0.47      0.44      0.45        16\n",
            "         498       0.82      0.53      0.64        17\n",
            "         499       0.15      0.18      0.17        11\n",
            "\n",
            "   micro avg       0.60      0.43      0.50     35488\n",
            "   macro avg       0.45      0.33      0.37     35488\n",
            "weighted avg       0.57      0.43      0.49     35488\n",
            " samples avg       0.48      0.43      0.42     35488\n",
            "\n"
          ],
          "name": "stdout"
        }
      ]
    }
  ]
}