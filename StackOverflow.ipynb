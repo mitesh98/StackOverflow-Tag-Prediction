{
  "nbformat": 4,
  "nbformat_minor": 0,
  "metadata": {
    "colab": {
      "name": "StackOverflow.ipynb",
      "version": "0.3.2",
      "provenance": [],
      "collapsed_sections": []
    },
    "kernelspec": {
      "name": "python3",
      "display_name": "Python 3"
    },
    "accelerator": "TPU"
  },
  "cells": [
    {
      "metadata": {
        "id": "CtqbDyA9v8fh",
        "colab_type": "text"
      },
      "cell_type": "markdown",
      "source": [
        "# StackOverflow : Tag Prediction"
      ]
    },
    {
      "metadata": {
        "id": "o41vLlFiwGHd",
        "colab_type": "text"
      },
      "cell_type": "markdown",
      "source": [
        "# 1. Buisness Problem"
      ]
    },
    {
      "metadata": {
        "id": "OpvkJddkwMhS",
        "colab_type": "text"
      },
      "cell_type": "markdown",
      "source": [
        "# 1.1 Description"
      ]
    },
    {
      "metadata": {
        "id": "GtR2Tpd1wRkF",
        "colab_type": "text"
      },
      "cell_type": "markdown",
      "source": [
        "**Description**\n",
        "\n",
        "Stack Overflow is the largest, most trusted online community for developers to learn, share their programming knowledge, and build their careers.\n",
        "\n",
        "Stack Overflow is something which every programmer use one way or another. Each month, over 50 million developers come to Stack Overflow to learn, share their knowledge, and build their careers. It features questions and answers on a wide range of topics in computer programming. The website serves as a platform for users to ask and answer questions, and, through membership and active participation, to vote questions and answers up or down and edit questions and answers in a fashion similar to a wiki or Digg. As of April 2014 Stack Overflow has over 4,000,000 registered users, and it exceeded 10,000,000 questions in late August 2015. Based on the type of tags assigned to questions, the top eight most discussed topics on the site are: Java, JavaScript, C#, PHP, Android, jQuery, Python and HTML.\n",
        "\n",
        "**Problem Statemtent**\n",
        "\n",
        "Suggest the tags based on the content that was there in the question posted on Stackoverflow.\n",
        "\n",
        "**Source:** https://www.kaggle.com/c/facebook-recruiting-iii-keyword-extraction/"
      ]
    },
    {
      "metadata": {
        "id": "18PgTxOQwXta",
        "colab_type": "text"
      },
      "cell_type": "markdown",
      "source": [
        "# 1.2 Source / useful links\n",
        "Data Source : https://www.kaggle.com/c/facebook-recruiting-iii-keyword-extraction/data \n",
        "\n",
        "Youtube : https://youtu.be/nNDqbUhtIRg \n",
        "\n",
        "Research paper : https://www.microsoft.com/en-us/research/wp-content/uploads/2016/02/tagging-1.pdf \n",
        "\n",
        "Research paper : https://dl.acm.org/citation.cfm?id=2660970&dl=ACM&coll=DL"
      ]
    },
    {
      "metadata": {
        "id": "pL3puR17xAC_",
        "colab_type": "text"
      },
      "cell_type": "markdown",
      "source": [
        "# 1.3 Real World / Business Objectives and Constraints\n",
        "\n",
        "\n",
        "\n",
        "\n"
      ]
    },
    {
      "metadata": {
        "id": "7qg7lmU0xoXx",
        "colab_type": "text"
      },
      "cell_type": "markdown",
      "source": [
        "1. Predict as many tags as possible with high precision and recall.\n",
        "\n",
        "2. Incorrect tags could impact customer experience on StackOverflow.\n",
        "\n",
        "3. No strict latency constraints."
      ]
    },
    {
      "metadata": {
        "id": "LIbJHpuux1_O",
        "colab_type": "text"
      },
      "cell_type": "markdown",
      "source": [
        "# 2. Machine Learning problem\n",
        "\n",
        "# 2.1 Data\n",
        "**2.1.1 Data Overview**"
      ]
    },
    {
      "metadata": {
        "id": "CWdIcBB8yF1D",
        "colab_type": "text"
      },
      "cell_type": "markdown",
      "source": [
        "Refer: https://www.kaggle.com/c/facebook-recruiting-iii-keyword-extraction/data \n",
        "All of the data is in 2 files: Train and Test.\n",
        "\n",
        "Train.csv contains 4 columns: Id,Title,Body,Tags.\n",
        "\n",
        "Test.csv contains the same columns but without the Tags, which you are to predict.\n",
        "\n",
        "Size of Train.csv - 6.75GB\n",
        "\n",
        "Size of Test.csv - 2GB\n",
        "\n",
        "Number of rows in Train.csv = 6034195\n",
        "\n",
        "The questions are randomized and contains a mix of verbose text sites as well as sites related to math and programming. The number of questions from each site may vary, and no filtering has been performed on the questions (such as closed questions).\n"
      ]
    },
    {
      "metadata": {
        "id": "O4xnS_DlyLb5",
        "colab_type": "text"
      },
      "cell_type": "markdown",
      "source": [
        "**Note :-** Due to my PC constraints having 4 GB of RAM only i randomly sampled 100k rows from Train.csv and saved as Train_data.csv and i will be using the same."
      ]
    },
    {
      "metadata": {
        "id": "F2e1-k0my2jQ",
        "colab_type": "text"
      },
      "cell_type": "markdown",
      "source": [
        "**Data Field Explaination**\n",
        "\n",
        "Dataset contains 100k rows. The columns in the table are:\n",
        "\n",
        "Id - Unique identifier for each question\n",
        "\n",
        "Title - The question's title\n",
        "\n",
        "Body - The body of the question\n",
        "\n",
        "Tags - The tags associated with the question in a space-seperated format (all lowercase, should not contain tabs '\\t' or ampersands '&')\n",
        "\n"
      ]
    },
    {
      "metadata": {
        "id": "LxSCOnQDzFa_",
        "colab_type": "text"
      },
      "cell_type": "markdown",
      "source": [
        "# 2.2 Mapping the real-world problem to a Machine Learning Problem\n",
        "\n",
        "# 2.2.1 Type of Machine Learning Problem\n",
        "\n",
        "It is a multi-label classification problem \n",
        "Multi-label Classification: Multilabel classification assigns to each sample a set of target labels. This can be thought as predicting properties of a data-point that are not mutually exclusive, such as topics that are relevant for a document. A question on Stackoverflow might be about any of C, Pointers, FileIO and/or memory-management at the same time or none of these. \n",
        "Credit: http://scikit-learn.org/stable/modules/multiclass.html\n"
      ]
    },
    {
      "metadata": {
        "id": "Crsvzdiyzvr1",
        "colab_type": "text"
      },
      "cell_type": "markdown",
      "source": [
        "**2.2.2 Performance metric**\n",
        "\n",
        "**Micro-Averaged F1-Score (Mean F Score) :**   The F1 score can be interpreted as a weighted average of the precision and recall, where an F1 score reaches its best value at 1 and worst score at 0. The relative contribution of precision and recall to the F1 score are equal. The formula for the F1 score is:\n",
        "\n",
        "F1 = 2 (precision recall) / (precision + recall)\n",
        "\n",
        "In the multi-class and multi-label case, this is the weighted average of the F1 score of each class. \n",
        "\n",
        "**'Micro f1 score': **\n",
        "\n",
        "Calculate metrics globally by counting the total true positives, false negatives and false positives. This is a better metric when we have class imbalance. \n",
        "\n",
        "**'Macro f1 score': **\n",
        "\n",
        "Calculate metrics for each label, and find their unweighted mean. This does not take label imbalance into account. \n",
        "\n",
        "https://www.kaggle.com/wiki/MeanFScore \n",
        "http://scikit-learn.org/stable/modules/generated/sklearn.metrics.f1_score.html \n",
        "\n",
        "**Hamming loss :**  The Hamming loss is the fraction of labels that are incorrectly predicted. \n",
        "https://www.kaggle.com/wiki/HammingLoss "
      ]
    },
    {
      "metadata": {
        "id": "8NRa9y3o0NvP",
        "colab_type": "text"
      },
      "cell_type": "markdown",
      "source": [
        "# 3. Exploratory Data Analysis\n",
        "\n",
        "# 3.1 Data Loading \n",
        "\n"
      ]
    },
    {
      "metadata": {
        "id": "4sD8q9urU8Nv",
        "colab_type": "code",
        "outputId": "ed0f9244-c9d7-4ce6-afa4-536266388edc",
        "colab": {
          "base_uri": "https://localhost:8080/",
          "height": 121
        }
      },
      "cell_type": "code",
      "source": [
        "from google.colab import drive\n",
        "drive.mount('/content/drive')"
      ],
      "execution_count": 0,
      "outputs": [
        {
          "output_type": "stream",
          "text": [
            "Go to this URL in a browser: https://accounts.google.com/o/oauth2/auth?client_id=947318989803-6bn6qk8qdgf4n4g3pfee6491hc0brc4i.apps.googleusercontent.com&redirect_uri=urn%3Aietf%3Awg%3Aoauth%3A2.0%3Aoob&scope=email%20https%3A%2F%2Fwww.googleapis.com%2Fauth%2Fdocs.test%20https%3A%2F%2Fwww.googleapis.com%2Fauth%2Fdrive%20https%3A%2F%2Fwww.googleapis.com%2Fauth%2Fdrive.photos.readonly%20https%3A%2F%2Fwww.googleapis.com%2Fauth%2Fpeopleapi.readonly&response_type=code\n",
            "\n",
            "Enter your authorization code:\n",
            "··········\n",
            "Mounted at /content/drive\n"
          ],
          "name": "stdout"
        }
      ]
    },
    {
      "metadata": {
        "id": "X0MBg02qVaed",
        "colab_type": "code",
        "colab": {}
      },
      "cell_type": "code",
      "source": [
        "!cp \"/content/drive/My Drive/StackOverflow/Train_data.csv\" \"Train_data.csv\""
      ],
      "execution_count": 0,
      "outputs": []
    },
    {
      "metadata": {
        "id": "ramhU2WsuwH7",
        "colab_type": "code",
        "colab": {}
      },
      "cell_type": "code",
      "source": [
        "import pandas as pd"
      ],
      "execution_count": 0,
      "outputs": []
    },
    {
      "metadata": {
        "id": "_02PYuW4u19X",
        "colab_type": "code",
        "colab": {}
      },
      "cell_type": "code",
      "source": [
        "data=pd.read_csv(\"Train_data.csv\")"
      ],
      "execution_count": 0,
      "outputs": []
    },
    {
      "metadata": {
        "id": "f7xqcTItu71e",
        "colab_type": "code",
        "outputId": "efb7bf60-9109-4e71-b113-4755bbc1aa73",
        "colab": {
          "base_uri": "https://localhost:8080/",
          "height": 296
        }
      },
      "cell_type": "code",
      "source": [
        "data.head()"
      ],
      "execution_count": 0,
      "outputs": [
        {
          "output_type": "execute_result",
          "data": {
            "text/html": [
              "<div>\n",
              "<style scoped>\n",
              "    .dataframe tbody tr th:only-of-type {\n",
              "        vertical-align: middle;\n",
              "    }\n",
              "\n",
              "    .dataframe tbody tr th {\n",
              "        vertical-align: top;\n",
              "    }\n",
              "\n",
              "    .dataframe thead th {\n",
              "        text-align: right;\n",
              "    }\n",
              "</style>\n",
              "<table border=\"1\" class=\"dataframe\">\n",
              "  <thead>\n",
              "    <tr style=\"text-align: right;\">\n",
              "      <th></th>\n",
              "      <th>Unnamed: 0</th>\n",
              "      <th>Id</th>\n",
              "      <th>Title</th>\n",
              "      <th>Body</th>\n",
              "      <th>Tags</th>\n",
              "    </tr>\n",
              "  </thead>\n",
              "  <tbody>\n",
              "    <tr>\n",
              "      <th>0</th>\n",
              "      <td>2221128</td>\n",
              "      <td>2221129</td>\n",
              "      <td>Linearization for differential equation</td>\n",
              "      <td>&lt;p&gt;I'm trying to make linearization for the fo...</td>\n",
              "      <td>differential-equations</td>\n",
              "    </tr>\n",
              "    <tr>\n",
              "      <th>1</th>\n",
              "      <td>1757257</td>\n",
              "      <td>1757258</td>\n",
              "      <td>Java upload file (image specifically) from a J...</td>\n",
              "      <td>&lt;p&gt;I am going mad trying to find an example of...</td>\n",
              "      <td>java asp.net-mvc file-upload applet jnlp</td>\n",
              "    </tr>\n",
              "    <tr>\n",
              "      <th>2</th>\n",
              "      <td>1497316</td>\n",
              "      <td>1497317</td>\n",
              "      <td>how to set separate css to each menu item in t...</td>\n",
              "      <td>&lt;p&gt;i have a menu control like below&lt;/p&gt;\\n\\n&lt;p&gt;...</td>\n",
              "      <td>c# asp.net</td>\n",
              "    </tr>\n",
              "    <tr>\n",
              "      <th>3</th>\n",
              "      <td>3055821</td>\n",
              "      <td>3055822</td>\n",
              "      <td>jQuery multiple event handler</td>\n",
              "      <td>&lt;p&gt;What does the keyup() at the end of it mean...</td>\n",
              "      <td>jquery</td>\n",
              "    </tr>\n",
              "    <tr>\n",
              "      <th>4</th>\n",
              "      <td>4281363</td>\n",
              "      <td>4281364</td>\n",
              "      <td>Applications for using couchDB and a RDBMS tog...</td>\n",
              "      <td>&lt;p&gt;Wondering if there was a scenario where one...</td>\n",
              "      <td>database architecture couchdb rdbms</td>\n",
              "    </tr>\n",
              "  </tbody>\n",
              "</table>\n",
              "</div>"
            ],
            "text/plain": [
              "   Unnamed: 0       Id                                              Title  \\\n",
              "0     2221128  2221129            Linearization for differential equation   \n",
              "1     1757257  1757258  Java upload file (image specifically) from a J...   \n",
              "2     1497316  1497317  how to set separate css to each menu item in t...   \n",
              "3     3055821  3055822                      jQuery multiple event handler   \n",
              "4     4281363  4281364  Applications for using couchDB and a RDBMS tog...   \n",
              "\n",
              "                                                Body  \\\n",
              "0  <p>I'm trying to make linearization for the fo...   \n",
              "1  <p>I am going mad trying to find an example of...   \n",
              "2  <p>i have a menu control like below</p>\\n\\n<p>...   \n",
              "3  <p>What does the keyup() at the end of it mean...   \n",
              "4  <p>Wondering if there was a scenario where one...   \n",
              "\n",
              "                                       Tags  \n",
              "0                    differential-equations  \n",
              "1  java asp.net-mvc file-upload applet jnlp  \n",
              "2                                c# asp.net  \n",
              "3                                    jquery  \n",
              "4       database architecture couchdb rdbms  "
            ]
          },
          "metadata": {
            "tags": []
          },
          "execution_count": 5
        }
      ]
    },
    {
      "metadata": {
        "id": "jGZ-x1Ig09iy",
        "colab_type": "text"
      },
      "cell_type": "markdown",
      "source": [
        "****3.1.1 Using Pandas with SQLite to Load the data****"
      ]
    },
    {
      "metadata": {
        "id": "Og3R6WJZ2_6L",
        "colab_type": "code",
        "colab": {}
      },
      "cell_type": "code",
      "source": [
        "import pandas as pd\n",
        "import numpy as np\n",
        "import seaborn as sns\n",
        "import matplotlib.pyplot as plt\n",
        "import os\n",
        "from datetime import datetime\n",
        "import sqlite3\n",
        "import sqlalchemy"
      ],
      "execution_count": 0,
      "outputs": []
    },
    {
      "metadata": {
        "id": "zzVn95-y1Gm-",
        "colab_type": "code",
        "outputId": "180abc1d-09b4-40a8-d80d-c5fe4a7bff76",
        "colab": {
          "base_uri": "https://localhost:8080/",
          "height": 386
        }
      },
      "cell_type": "code",
      "source": [
        "#Creating db file from csv\n",
        "if not os.path.isfile('Train_data.db'):\n",
        "  engine= sqlalchemy.create_engine('sqlite:///Train_data.db')\n",
        "  start=datetime.now()\n",
        "  Csize=10000\n",
        "  j=0\n",
        "  index_start=1\n",
        "  for df in pd.read_csv('Train_data.csv',names=['Id','Title','Body','Tags'], chunksize = Csize,iterator=True,encoding='utf-8'):\n",
        "    df.index+=index_start\n",
        "    j+=1\n",
        "    print('{} rows'.format(j*Csize))\n",
        "    df.to_sql('data',engine,if_exists='append')\n",
        "    index_start=df.index[-1]+1\n",
        "    print(\"Time taken :\" ,datetime.now() - start)\n",
        "  \n"
      ],
      "execution_count": 0,
      "outputs": [
        {
          "output_type": "stream",
          "text": [
            "10000 rows\n",
            "Time taken : 0:00:00.924800\n",
            "20000 rows\n",
            "Time taken : 0:00:01.836806\n",
            "30000 rows\n",
            "Time taken : 0:00:02.735917\n",
            "40000 rows\n",
            "Time taken : 0:00:03.717769\n",
            "50000 rows\n",
            "Time taken : 0:00:04.622163\n",
            "60000 rows\n",
            "Time taken : 0:00:05.524799\n",
            "70000 rows\n",
            "Time taken : 0:00:06.417541\n",
            "80000 rows\n",
            "Time taken : 0:00:07.282396\n",
            "90000 rows\n",
            "Time taken : 0:00:08.221197\n",
            "100000 rows\n",
            "Time taken : 0:00:09.098211\n",
            "110000 rows\n",
            "Time taken : 0:00:09.114596\n"
          ],
          "name": "stdout"
        }
      ]
    },
    {
      "metadata": {
        "id": "IsfFHAn0DEmD",
        "colab_type": "text"
      },
      "cell_type": "markdown",
      "source": [
        "**3.1.2 Counting the number of rows**"
      ]
    },
    {
      "metadata": {
        "id": "NENNXeZdEsKy",
        "colab_type": "code",
        "outputId": "60038eda-22e7-4449-dec8-d2c96b53af00",
        "colab": {
          "base_uri": "https://localhost:8080/",
          "height": 34
        }
      },
      "cell_type": "code",
      "source": [
        "if os.path.isfile('Train_data.db'):\n",
        "  con=sqlite3.connect('Train_data.db')\n",
        "  n_rows=pd.read_sql(\"\"\" SELECT count(*) FROM `data`\"\"\",con)\n",
        "  print(\"No of rows : \",n_rows['count(*)'].values[0])\n",
        "  con.close()"
      ],
      "execution_count": 0,
      "outputs": [
        {
          "output_type": "stream",
          "text": [
            "No of rows :  100001\n"
          ],
          "name": "stdout"
        }
      ]
    },
    {
      "metadata": {
        "id": "-07M79dhInpj",
        "colab_type": "text"
      },
      "cell_type": "markdown",
      "source": [
        "**3.1.3 Checking for duplicates**"
      ]
    },
    {
      "metadata": {
        "id": "LZbBbF-DIcDz",
        "colab_type": "code",
        "colab": {}
      },
      "cell_type": "code",
      "source": [
        "con=sqlite3.connect('Train_data.db')\n",
        "query=\"SELECT `Title`,`Tags`,`Body`, COUNT(*) as cnt_dup FROM `data` GROUP BY `Title`,`Body`,`Tags`\"\n",
        "dataframe=pd.read_sql(query,con)\n",
        "con.close()\n"
      ],
      "execution_count": 0,
      "outputs": []
    },
    {
      "metadata": {
        "id": "fuH1_4FzMmuN",
        "colab_type": "code",
        "outputId": "6234326f-4452-4b5e-f87c-5aca17444823",
        "colab": {
          "base_uri": "https://localhost:8080/",
          "height": 262
        }
      },
      "cell_type": "code",
      "source": [
        "df_puplicates.head()"
      ],
      "execution_count": 0,
      "outputs": [
        {
          "output_type": "execute_result",
          "data": {
            "text/html": [
              "<div>\n",
              "<style scoped>\n",
              "    .dataframe tbody tr th:only-of-type {\n",
              "        vertical-align: middle;\n",
              "    }\n",
              "\n",
              "    .dataframe tbody tr th {\n",
              "        vertical-align: top;\n",
              "    }\n",
              "\n",
              "    .dataframe thead th {\n",
              "        text-align: right;\n",
              "    }\n",
              "</style>\n",
              "<table border=\"1\" class=\"dataframe\">\n",
              "  <thead>\n",
              "    <tr style=\"text-align: right;\">\n",
              "      <th></th>\n",
              "      <th>Title</th>\n",
              "      <th>Tags</th>\n",
              "      <th>Body</th>\n",
              "      <th>cnt_dup</th>\n",
              "    </tr>\n",
              "  </thead>\n",
              "  <tbody>\n",
              "    <tr>\n",
              "      <th>0</th>\n",
              "      <td>Advise on tackling syntax errors in Java</td>\n",
              "      <td>java</td>\n",
              "      <td>&lt;p&gt;I very inexperience with Java, I'm spending...</td>\n",
              "      <td>1</td>\n",
              "    </tr>\n",
              "    <tr>\n",
              "      <th>1</th>\n",
              "      <td>Controlling the Lego WeDo Device</td>\n",
              "      <td>c# api lego</td>\n",
              "      <td>&lt;p&gt;Has anyone written a API for the Lego WeDo ...</td>\n",
              "      <td>1</td>\n",
              "    </tr>\n",
              "    <tr>\n",
              "      <th>2</th>\n",
              "      <td>Count inverse document frequency (idf) in eve...</td>\n",
              "      <td>php</td>\n",
              "      <td>&lt;p&gt;I wanna count idf, the formula is &lt;code&gt;IDF...</td>\n",
              "      <td>1</td>\n",
              "    </tr>\n",
              "    <tr>\n",
              "      <th>3</th>\n",
              "      <td>FrameView with \"flip\" animation images not sc...</td>\n",
              "      <td>android image layout resize scaling</td>\n",
              "      <td>&lt;p&gt;Can't seem to work out what I've got wrong....</td>\n",
              "      <td>1</td>\n",
              "    </tr>\n",
              "    <tr>\n",
              "      <th>4</th>\n",
              "      <td>Going from Java to Classic ASP / VB</td>\n",
              "      <td>vb6 career-development legacy-code</td>\n",
              "      <td>&lt;p&gt;Right now, I work on a small team at a larg...</td>\n",
              "      <td>1</td>\n",
              "    </tr>\n",
              "  </tbody>\n",
              "</table>\n",
              "</div>"
            ],
            "text/plain": [
              "                                               Title  \\\n",
              "0           Advise on tackling syntax errors in Java   \n",
              "1                   Controlling the Lego WeDo Device   \n",
              "2   Count inverse document frequency (idf) in eve...   \n",
              "3   FrameView with \"flip\" animation images not sc...   \n",
              "4                Going from Java to Classic ASP / VB   \n",
              "\n",
              "                                  Tags  \\\n",
              "0                                 java   \n",
              "1                          c# api lego   \n",
              "2                                  php   \n",
              "3  android image layout resize scaling   \n",
              "4   vb6 career-development legacy-code   \n",
              "\n",
              "                                                Body  cnt_dup  \n",
              "0  <p>I very inexperience with Java, I'm spending...        1  \n",
              "1  <p>Has anyone written a API for the Lego WeDo ...        1  \n",
              "2  <p>I wanna count idf, the formula is <code>IDF...        1  \n",
              "3  <p>Can't seem to work out what I've got wrong....        1  \n",
              "4  <p>Right now, I work on a small team at a larg...        1  "
            ]
          },
          "metadata": {
            "tags": []
          },
          "execution_count": 34
        }
      ]
    },
    {
      "metadata": {
        "id": "cAYmA2SqNQgD",
        "colab_type": "code",
        "outputId": "97df03f9-3bfd-4458-a5f8-0d84561087bc",
        "colab": {
          "base_uri": "https://localhost:8080/",
          "height": 84
        }
      },
      "cell_type": "code",
      "source": [
        "n_row=n_rows['count(*)'].values[0]\n",
        "n_row_dup=dataframe.shape[0]\n",
        "n_dup=n_row-n_row_dup\n",
        "print(n_row)\n",
        "print(n_row_dup)\n",
        "print(\"No of Duplicates= \",n_dup)\n",
        "print(\"% duplication = \",(n_dup/n_row)*100)"
      ],
      "execution_count": 0,
      "outputs": [
        {
          "output_type": "stream",
          "text": [
            "100001\n",
            "99462\n",
            "No of Duplicates=  539\n",
            "% duplication =  0.5389946100538995\n"
          ],
          "name": "stdout"
        }
      ]
    },
    {
      "metadata": {
        "id": "9y7kuENONxAB",
        "colab_type": "code",
        "outputId": "46183d0e-d285-4b2e-89c6-d8a055b7f87d",
        "colab": {
          "base_uri": "https://localhost:8080/",
          "height": 67
        }
      },
      "cell_type": "code",
      "source": [
        "dataframe.cnt_dup.value_counts()"
      ],
      "execution_count": 0,
      "outputs": [
        {
          "output_type": "execute_result",
          "data": {
            "text/plain": [
              "1    98923\n",
              "2      539\n",
              "Name: cnt_dup, dtype: int64"
            ]
          },
          "metadata": {
            "tags": []
          },
          "execution_count": 45
        }
      ]
    },
    {
      "metadata": {
        "id": "puEpTv-XSfRD",
        "colab_type": "text"
      },
      "cell_type": "markdown",
      "source": [
        "**Observation :** \n",
        "\n",
        "1.No of question one time= 98923\n",
        "\n",
        "2.No of question two time= 539"
      ]
    },
    {
      "metadata": {
        "id": "u2AStIITSwXL",
        "colab_type": "code",
        "outputId": "94f599b6-62c0-4f3d-e947-39360c7e04da",
        "colab": {
          "base_uri": "https://localhost:8080/",
          "height": 279
        }
      },
      "cell_type": "code",
      "source": [
        "#Adding tag_count in dataframe\n",
        "dataframe['tag_count']=dataframe['Tags'].apply(lambda text : len(text.split(\" \")))\n",
        "dataframe.head()"
      ],
      "execution_count": 0,
      "outputs": [
        {
          "output_type": "execute_result",
          "data": {
            "text/html": [
              "<div>\n",
              "<style scoped>\n",
              "    .dataframe tbody tr th:only-of-type {\n",
              "        vertical-align: middle;\n",
              "    }\n",
              "\n",
              "    .dataframe tbody tr th {\n",
              "        vertical-align: top;\n",
              "    }\n",
              "\n",
              "    .dataframe thead th {\n",
              "        text-align: right;\n",
              "    }\n",
              "</style>\n",
              "<table border=\"1\" class=\"dataframe\">\n",
              "  <thead>\n",
              "    <tr style=\"text-align: right;\">\n",
              "      <th></th>\n",
              "      <th>Title</th>\n",
              "      <th>Tags</th>\n",
              "      <th>Body</th>\n",
              "      <th>cnt_dup</th>\n",
              "      <th>tag_count</th>\n",
              "    </tr>\n",
              "  </thead>\n",
              "  <tbody>\n",
              "    <tr>\n",
              "      <th>0</th>\n",
              "      <td>Advise on tackling syntax errors in Java</td>\n",
              "      <td>java</td>\n",
              "      <td>&lt;p&gt;I very inexperience with Java, I'm spending...</td>\n",
              "      <td>1</td>\n",
              "      <td>1</td>\n",
              "    </tr>\n",
              "    <tr>\n",
              "      <th>1</th>\n",
              "      <td>Controlling the Lego WeDo Device</td>\n",
              "      <td>c# api lego</td>\n",
              "      <td>&lt;p&gt;Has anyone written a API for the Lego WeDo ...</td>\n",
              "      <td>1</td>\n",
              "      <td>3</td>\n",
              "    </tr>\n",
              "    <tr>\n",
              "      <th>2</th>\n",
              "      <td>Count inverse document frequency (idf) in eve...</td>\n",
              "      <td>php</td>\n",
              "      <td>&lt;p&gt;I wanna count idf, the formula is &lt;code&gt;IDF...</td>\n",
              "      <td>1</td>\n",
              "      <td>1</td>\n",
              "    </tr>\n",
              "    <tr>\n",
              "      <th>3</th>\n",
              "      <td>FrameView with \"flip\" animation images not sc...</td>\n",
              "      <td>android image layout resize scaling</td>\n",
              "      <td>&lt;p&gt;Can't seem to work out what I've got wrong....</td>\n",
              "      <td>1</td>\n",
              "      <td>5</td>\n",
              "    </tr>\n",
              "    <tr>\n",
              "      <th>4</th>\n",
              "      <td>Going from Java to Classic ASP / VB</td>\n",
              "      <td>vb6 career-development legacy-code</td>\n",
              "      <td>&lt;p&gt;Right now, I work on a small team at a larg...</td>\n",
              "      <td>1</td>\n",
              "      <td>3</td>\n",
              "    </tr>\n",
              "  </tbody>\n",
              "</table>\n",
              "</div>"
            ],
            "text/plain": [
              "                                               Title  \\\n",
              "0           Advise on tackling syntax errors in Java   \n",
              "1                   Controlling the Lego WeDo Device   \n",
              "2   Count inverse document frequency (idf) in eve...   \n",
              "3   FrameView with \"flip\" animation images not sc...   \n",
              "4                Going from Java to Classic ASP / VB   \n",
              "\n",
              "                                  Tags  \\\n",
              "0                                 java   \n",
              "1                          c# api lego   \n",
              "2                                  php   \n",
              "3  android image layout resize scaling   \n",
              "4   vb6 career-development legacy-code   \n",
              "\n",
              "                                                Body  cnt_dup  tag_count  \n",
              "0  <p>I very inexperience with Java, I'm spending...        1          1  \n",
              "1  <p>Has anyone written a API for the Lego WeDo ...        1          3  \n",
              "2  <p>I wanna count idf, the formula is <code>IDF...        1          1  \n",
              "3  <p>Can't seem to work out what I've got wrong....        1          5  \n",
              "4  <p>Right now, I work on a small team at a larg...        1          3  "
            ]
          },
          "metadata": {
            "tags": []
          },
          "execution_count": 46
        }
      ]
    },
    {
      "metadata": {
        "id": "-amgS2mwUZwj",
        "colab_type": "code",
        "outputId": "52b7d0bc-7f8a-4360-f01f-ed7dbd1e621a",
        "colab": {
          "base_uri": "https://localhost:8080/",
          "height": 118
        }
      },
      "cell_type": "code",
      "source": [
        "dataframe['tag_count'].value_counts()"
      ],
      "execution_count": 0,
      "outputs": [
        {
          "output_type": "execute_result",
          "data": {
            "text/plain": [
              "3    28412\n",
              "2    26520\n",
              "4    19206\n",
              "1    13682\n",
              "5    11642\n",
              "Name: tag_count, dtype: int64"
            ]
          },
          "metadata": {
            "tags": []
          },
          "execution_count": 48
        }
      ]
    },
    {
      "metadata": {
        "id": "yZ8a5EfWUu9t",
        "colab_type": "text"
      },
      "cell_type": "markdown",
      "source": [
        "**Observation :**\n",
        "\n",
        "1.No of questios having 3 tags =28412\n",
        "\n",
        "2.No of questios having 2 tags =26520\n",
        "\n",
        "3.No of questios having 4 tags =19206\n",
        "\n",
        "4.No of questios having 1 tags =13682\n",
        "\n",
        "5.No of questios having 5 tags =11642\n",
        "\n",
        "Order a/c to no of question :\n",
        "\n",
        "3tags>2 tags > 4 tags >1 tag >5 tags\n"
      ]
    },
    {
      "metadata": {
        "id": "F3LicANSVag1",
        "colab_type": "code",
        "colab": {}
      },
      "cell_type": "code",
      "source": [
        ""
      ],
      "execution_count": 0,
      "outputs": []
    },
    {
      "metadata": {
        "id": "JuafcVwVoZso",
        "colab_type": "code",
        "colab": {}
      },
      "cell_type": "code",
      "source": [
        ""
      ],
      "execution_count": 0,
      "outputs": []
    }
  ]
}